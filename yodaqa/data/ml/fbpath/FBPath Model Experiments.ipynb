{
 "metadata": {
  "name": "",
  "signature": "sha256:1a0cb2ec705184dde78e1635a190ada951b27241041dd9c502aeccbfc17d08cc"
 },
 "nbformat": 3,
 "nbformat_minor": 0,
 "worksheets": [
  {
   "cells": [
    {
     "cell_type": "markdown",
     "metadata": {},
     "source": [
      "# Experiments with fbpath models"
     ]
    },
    {
     "cell_type": "markdown",
     "metadata": {},
     "source": [
      "## Prologue, Data"
     ]
    },
    {
     "cell_type": "markdown",
     "metadata": {},
     "source": [
      "Load everything..."
     ]
    },
    {
     "cell_type": "code",
     "collapsed": false,
     "input": [
      "%load_ext autoreload\n",
      "%autoreload 2\n",
      "from fbpathtrain import VectorizedData\n",
      "import json\n",
      "import numpy as np\n",
      "from pprint import pprint\n",
      "from sklearn.multiclass import OneVsRestClassifier\n",
      "from IPython.display import display, HTML"
     ],
     "language": "python",
     "metadata": {},
     "outputs": [
      {
       "output_type": "stream",
       "stream": "stdout",
       "text": [
        "The autoreload extension is already loaded. To reload it, use:\n",
        "  %reload_ext autoreload\n"
       ]
      }
     ],
     "prompt_number": 15
    },
    {
     "cell_type": "code",
     "collapsed": false,
     "input": [
      "with open('wq-fbpath/trainmodel.json') as f:\n",
      "    train = json.load(f)\n",
      "with open('wq-fbpath/val.json') as f:\n",
      "    val = json.load(f)\n",
      "with open('wq-fbpath/devtest.json') as f:\n",
      "    devtest = json.load(f)"
     ],
     "language": "python",
     "metadata": {},
     "outputs": [],
     "prompt_number": 3
    },
    {
     "cell_type": "code",
     "collapsed": false,
     "input": [
      "vtrain = VectorizedData(train)\n",
      "vval = VectorizedData(val, vtrain.Xdict, vtrain.Ydict)\n",
      "vdevtest = VectorizedData(devtest, vtrain.Xdict, vtrain.Ydict)"
     ],
     "language": "python",
     "metadata": {},
     "outputs": [
      {
       "output_type": "stream",
       "stream": "stdout",
       "text": [
        "dropped 58 out of 1080 labels (not in training set)\n",
        "dropped 20 out of 270 labels (not in training set)\n"
       ]
      }
     ],
     "prompt_number": 4
    },
    {
     "cell_type": "markdown",
     "metadata": {},
     "source": [
      "Below are a few debug prints and experiments..."
     ]
    },
    {
     "cell_type": "code",
     "collapsed": false,
     "input": [
      "vtrain.X, vval.X, vdevtest.X"
     ],
     "language": "python",
     "metadata": {},
     "outputs": [
      {
       "metadata": {},
       "output_type": "pyout",
       "prompt_number": 12,
       "text": [
        "(<2834x2487 sparse matrix of type '<type 'numpy.float64'>'\n",
        " \twith 25378 stored elements in Compressed Sparse Row format>,\n",
        " <755x2487 sparse matrix of type '<type 'numpy.float64'>'\n",
        " \twith 6312 stored elements in Compressed Sparse Row format>,\n",
        " <189x2487 sparse matrix of type '<type 'numpy.float64'>'\n",
        " \twith 1550 stored elements in Compressed Sparse Row format>)"
       ]
      }
     ],
     "prompt_number": 12
    },
    {
     "cell_type": "code",
     "collapsed": false,
     "input": [
      "np.size(vtrain.Y, axis=1)"
     ],
     "language": "python",
     "metadata": {},
     "outputs": [
      {
       "metadata": {},
       "output_type": "pyout",
       "prompt_number": 46,
       "text": [
        "479"
       ]
      }
     ],
     "prompt_number": 46
    },
    {
     "cell_type": "code",
     "collapsed": false,
     "input": [
      "np.sum(np.sum(vdevtest.Y, axis=1) == np.sum(cfier_bnb.predict(vdevtest.X) * vdevtest.Y, axis=1)) / float(np.size(vdevtest.Y, axis=0))"
     ],
     "language": "python",
     "metadata": {},
     "outputs": [
      {
       "metadata": {},
       "output_type": "pyout",
       "prompt_number": 158,
       "text": [
        "0.23280423280423279"
       ]
      }
     ],
     "prompt_number": 158
    },
    {
     "cell_type": "code",
     "collapsed": false,
     "input": [
      "np.sum((np.sum(vdevtest.Y, axis=1) != 0) == (np.sum(cfier_bnb.predict(vdevtest.X) * vdevtest.Y, axis=1) != 0))"
     ],
     "language": "python",
     "metadata": {},
     "outputs": [
      {
       "metadata": {},
       "output_type": "pyout",
       "prompt_number": 157,
       "text": [
        "50"
       ]
      }
     ],
     "prompt_number": 157
    },
    {
     "cell_type": "code",
     "collapsed": false,
     "input": [
      "np.sum((cfier_bnb.predict(vdevtest.X) + vdevtest.Y) == 2), np.sum(cfier_bnb.predict(vdevtest.X))"
     ],
     "language": "python",
     "metadata": {},
     "outputs": [
      {
       "metadata": {},
       "output_type": "pyout",
       "prompt_number": 185,
       "text": [
        "(33, 68)"
       ]
      }
     ],
     "prompt_number": 185
    },
    {
     "cell_type": "markdown",
     "metadata": {},
     "source": [
      "## Probability Models"
     ]
    },
    {
     "cell_type": "code",
     "collapsed": false,
     "input": [
      "def check_q(cfier, v, d, i):\n",
      "    probs = cfier.predict_proba(v.X.toarray()[i])[0]\n",
      "    top_probs = sorted(enumerate(probs), key=lambda k: k[1], reverse=True)\n",
      "    top_lprobs = ['%s: %.3f' % (v.Ydict.classes_[k[0]], k[1]) for k in top_probs[:5]]\n",
      "    return '<li><b>%s</b><br><b>in:</b> %s<br><b>out:</b> %s<br><b>outp:</b> %s<br><b>gold:</b> %s</li>' % (\n",
      "        d[i]['qText'],\n",
      "        ', '.join(sorted(v.Xdict.inverse_transform(v.X[i])[0].keys(), key=lambda s: reversed(s))),\n",
      "        ', '.join(v.Ydict.inverse_transform(cfier.predict(v.X.toarray()[i]))[0]),\n",
      "        ', '.join(top_lprobs),\n",
      "        ', '.join(v.Ydict.inverse_transform(np.array([v.Y[i]]))[0]))\n",
      "\n",
      "def score_table(cfier, scorer):\n",
      "    stable = '<tr><th>dataset</th><th>qRecallAny</th><th>qRecallAll</th><th>pPrec</th><th>pScoreMRR</th></tr>'\n",
      "    for s, sname in [(vtrain, 'train'), (vval, 'val'), (vdevtest, 'devtest')]:\n",
      "        score = s.cfier_score(cfier, scorer)\n",
      "        stable += '<tr><td>%s</td><td>%.3f</td><td>%.3f</td><td>%.3f</td><td>%.3f</td></tr>' % (\n",
      "                sname, score['qRecallAny'], score['qRecallAll'], score['pPrec'], score['qScoreMRR'])\n",
      "    return stable\n",
      "\n",
      "def demo_model(cfier):\n",
      "    stable = score_table(cfier, lambda cfier, X: cfier.predict_proba(X))\n",
      "    display(HTML('<table>'+stable+'</table>'))\n",
      "    display(HTML('<ul>'))\n",
      "    for i in range(10):\n",
      "        display(HTML(check_q(cfier, vdevtest, devtest, i)))\n",
      "    display(HTML('</ul>'))"
     ],
     "language": "python",
     "metadata": {},
     "outputs": [],
     "prompt_number": 47
    },
    {
     "cell_type": "code",
     "collapsed": false,
     "input": [
      "from sklearn.naive_bayes import BernoulliNB\n",
      "cfier_bnb = OneVsRestClassifier(BernoulliNB(fit_prior=False), n_jobs=4)\n",
      "pprint(cfier_bnb.fit(vtrain.X, vtrain.Y))\n",
      "demo_model(cfier_bnb)"
     ],
     "language": "python",
     "metadata": {},
     "outputs": [
      {
       "output_type": "stream",
       "stream": "stdout",
       "text": [
        "OneVsRestClassifier(estimator=BernoulliNB(alpha=1.0, binarize=0.0, class_prior=None, fit_prior=False),\n",
        "          n_jobs=4)\n"
       ]
      },
      {
       "html": [
        "<table><tr><th>dataset</th><th>qRecallAny</th><th>qRecallAll</th><th>pPrec</th><th>pScoreMRR</th></tr><tr><td>train</td><td>0.242</td><td>0.204</td><td>0.312</td><td>0.349</td></tr><tr><td>val</td><td>0.250</td><td>0.220</td><td>0.313</td><td>0.309</td></tr><tr><td>devtest</td><td>0.265</td><td>0.233</td><td>0.485</td><td>0.337</td></tr></table>"
       ],
       "metadata": {},
       "output_type": "display_data",
       "text": [
        "<IPython.core.display.HTML at 0x7f801f7d6c90>"
       ]
      },
      {
       "html": [
        "<ul>"
       ],
       "metadata": {},
       "output_type": "display_data",
       "text": [
        "<IPython.core.display.HTML at 0x7f801e801c10>"
       ]
      },
      {
       "html": [
        "<li><b>what is the name of justin bieber brother?</b><br><b>in:</b> lat/religious person/WordnetLAT, lat/associate/WordnetLAT, lat/friend/WordnetLAT, lat/member/WordnetLAT, lat/relative/WordnetLAT, lat/peer/WordnetLAT, lat/brother/LAT, lat/monk/WordnetLAT, lat/male sibling/WordnetLAT, lat/religious/WordnetLAT, lat/kinsman/WordnetLAT, lat/person/WordnetLAT<br><b>out:</b> <br><b>outp:</b> /people/person/profession: 0.000, /people/person/spouse_s|/people/marriage/spouse: 0.000, /location/location/containedby: 0.000, /people/person/place_of_birth: 0.000, /people/person/places_lived|/people/place_lived/location: 0.000<br><b>gold:</b> /people/person/sibling_s|/people/sibling_relationship/sibling</li>"
       ],
       "metadata": {},
       "output_type": "display_data",
       "text": [
        "<IPython.core.display.HTML at 0x7f801e8016d0>"
       ]
      },
      {
       "html": [
        "<li><b>where to fly into bali?</b><br><b>in:</b> sv=fly, lat/location/QuestionWordLAT<br><b>out:</b> <br><b>outp:</b> /location/location/containedby: 0.000, /people/person/places_lived|/people/place_lived/location: 0.000, /people/person/place_of_birth: 0.000, /people/person/education|/education/education/institution: 0.000, /people/person/profession: 0.000<br><b>gold:</b> </li>"
       ],
       "metadata": {},
       "output_type": "display_data",
       "text": [
        "<IPython.core.display.HTML at 0x7f801e801350>"
       ]
      },
      {
       "html": [
        "<li><b>what is cher's son's name?</b><br><b>in:</b> lat/relative/WordnetLAT, lat/cognition/WordnetLAT, lat/Godhead/WordnetLAT, lat/male offspring/WordnetLAT, lat/content/WordnetLAT, lat/belief/WordnetLAT, lat/offspring/WordnetLAT, lat/male/WordnetLAT, lat/God/WordnetLAT, lat/person/WordnetLAT, lat/son/LAT, lat/child/WordnetLAT, lat/spiritual being/WordnetLAT, lat/hypostasis/WordnetLAT<br><b>out:</b> <br><b>outp:</b> /people/person/spouse_s|/people/marriage/spouse: 0.000, /location/location/containedby: 0.000, /people/person/profession: 0.000, /people/person/education|/education/education/institution: 0.000, /people/person/place_of_birth: 0.000<br><b>gold:</b> /people/person/children</li>"
       ],
       "metadata": {},
       "output_type": "display_data",
       "text": [
        "<IPython.core.display.HTML at 0x7f801e8014d0>"
       ]
      },
      {
       "html": [
        "<li><b>what countries do people speak portuguese?</b><br><b>in:</b> lat/administrative district/WordnetLAT, lat/unit/WordnetLAT, lat/people/WordnetLAT, lat/organization/WordnetLAT, lat/group/WordnetLAT, lat/social group/WordnetLAT, lat/district/WordnetLAT, lat/region/WordnetLAT, lat/location/WordnetLAT, lat/political unit/WordnetLAT, lat/country/ImplicitQLAT, sv=speak, lat/geographical area/WordnetLAT, lat/countries/LAT<br><b>out:</b> <br><b>outp:</b> /location/location/containedby: 0.000, /location/location/contains: 0.000, /people/person/places_lived|/people/place_lived/location: 0.000, /location/location/adjoin_s|/location/adjoining_relationship/adjoins: 0.000, /people/person/place_of_birth: 0.000<br><b>gold:</b> /language/human_language/countries_spoken_in, /language/human_language/main_country</li>"
       ],
       "metadata": {},
       "output_type": "display_data",
       "text": [
        "<IPython.core.display.HTML at 0x7f801e801210>"
       ]
      },
      {
       "html": [
        "<li><b>who was vincent van gogh inspired by?</b><br><b>in:</b> sv=inspired<br><b>out:</b> <br><b>outp:</b> /location/location/containedby: 0.000, /people/person/places_lived|/people/place_lived/location: 0.000, /people/person/place_of_birth: 0.000, /people/person/education|/education/education/institution: 0.000, /people/person/profession: 0.000<br><b>gold:</b> /influence/influence_node/influenced_by</li>"
       ],
       "metadata": {},
       "output_type": "display_data",
       "text": [
        "<IPython.core.display.HTML at 0x7f801e801050>"
       ]
      },
      {
       "html": [
        "<li><b>when will oscar pistorius compete?</b><br><b>in:</b> sv=compete, lat/time/QuestionWordLAT, lat/date/QuestionWordLAT<br><b>out:</b> <br><b>outp:</b> /location/location/containedby: 0.000, /people/person/places_lived|/people/place_lived/location: 0.000, /people/person/profession: 0.000, /people/person/place_of_birth: 0.000, /people/person/education|/education/education/institution: 0.000<br><b>gold:</b> </li>"
       ],
       "metadata": {},
       "output_type": "display_data",
       "text": [
        "<IPython.core.display.HTML at 0x7f801e8010d0>"
       ]
      },
      {
       "html": [
        "<li><b>who plays meg in family guy?</b><br><b>in:</b> lat/person/QuestionWordLAT, sv=plays<br><b>out:</b> <br><b>outp:</b> /location/location/containedby: 0.000, /people/person/places_lived|/people/place_lived/location: 0.000, /people/person/profession: 0.000, /people/person/education|/education/education/institution: 0.000, /people/person/place_of_birth: 0.000<br><b>gold:</b> /cvg/game_character/games|/cvg/game_performance/voice_actor, /film/film_character/portrayed_in_films|/film/performance/actor, /tv/tv_character/appeared_in_tv_episodes|/tv/tv_guest_role/actor, /tv/tv_character/appeared_in_tv_program|/tv/regular_tv_appearance/actor</li>"
       ],
       "metadata": {},
       "output_type": "display_data",
       "text": [
        "<IPython.core.display.HTML at 0x7f7ff4102a10>"
       ]
      },
      {
       "html": [
        "<li><b>what stadium did the chicago cardinals play in?</b><br><b>in:</b> lat/artifact/WordnetLAT, lat/stadium/LAT, sv=play, lat/structure/WordnetLAT<br><b>out:</b> <br><b>outp:</b> /people/person/education|/education/education/institution: 0.000, /location/location/containedby: 0.000, /people/person/profession: 0.000, /sports/pro_athlete/teams|/sports/sports_team_roster/team: 0.000, /people/person/places_lived|/people/place_lived/location: 0.000<br><b>gold:</b> /sports/sports_team/arena_stadium, /sports/sports_team/venue|/sports/team_venue_relationship/venue</li>"
       ],
       "metadata": {},
       "output_type": "display_data",
       "text": [
        "<IPython.core.display.HTML at 0x7f7ff4102e50>"
       ]
      },
      {
       "html": [
        "<li><b>who was the apostle paul considered to be?</b><br><b>in:</b> lat/attitude/WordnetLAT, sv=considered, lat/position/WordnetLAT, lat/cognition/WordnetLAT, lat/orientation/WordnetLAT<br><b>out:</b> <br><b>outp:</b> /location/location/containedby: 0.000, /people/person/places_lived|/people/place_lived/location: 0.000, /people/person/education|/education/education/institution: 0.000, /people/person/profession: 0.000, /people/person/place_of_birth: 0.000<br><b>gold:</b> </li>"
       ],
       "metadata": {},
       "output_type": "display_data",
       "text": [
        "<IPython.core.display.HTML at 0x7f7ff4102dd0>"
       ]
      },
      {
       "html": [
        "<li><b>which countries are part of the united kingdom?</b><br><b>in:</b> lat/people/WordnetLAT, lat/countries/LAT, lat/district/WordnetLAT, lat/location/WordnetLAT, lat/geographical area/WordnetLAT, lat/region/WordnetLAT, lat/organization/WordnetLAT, lat/unit/WordnetLAT, lat/country/ImplicitQLAT, lat/administrative district/WordnetLAT, lat/social group/WordnetLAT, lat/group/WordnetLAT, lat/political unit/WordnetLAT<br><b>out:</b> <br><b>outp:</b> /location/location/containedby: 0.000, /location/location/contains: 0.000, /people/person/places_lived|/people/place_lived/location: 0.000, /people/person/place_of_birth: 0.000, /location/location/adjoin_s|/location/adjoining_relationship/adjoins: 0.000<br><b>gold:</b> /location/location/containedby</li>"
       ],
       "metadata": {},
       "output_type": "display_data",
       "text": [
        "<IPython.core.display.HTML at 0x7f7ff41029d0>"
       ]
      },
      {
       "html": [
        "</ul>"
       ],
       "metadata": {},
       "output_type": "display_data",
       "text": [
        "<IPython.core.display.HTML at 0x7f801e801710>"
       ]
      }
     ],
     "prompt_number": 260
    },
    {
     "cell_type": "code",
     "collapsed": false,
     "input": [
      "from sklearn.naive_bayes import MultinomialNB\n",
      "cfier_mnb = OneVsRestClassifier(MultinomialNB(), n_jobs=4)\n",
      "pprint(cfier_mnb.fit(vtrain.X, vtrain.Y))\n",
      "demo_model(cfier_mnb)"
     ],
     "language": "python",
     "metadata": {},
     "outputs": [
      {
       "output_type": "stream",
       "stream": "stdout",
       "text": [
        "OneVsRestClassifier(estimator=MultinomialNB(alpha=1.0, class_prior=None, fit_prior=True),\n",
        "          n_jobs=4)\n"
       ]
      },
      {
       "html": [
        "<table><tr><th>dataset</th><th>qRecallAny</th><th>qRecallAll</th><th>pPrec</th><th>pScoreMRR</th></tr><tr><td>train</td><td>0.468</td><td>0.396</td><td>0.210</td><td>0.659</td></tr><tr><td>val</td><td>0.364</td><td>0.291</td><td>0.454</td><td>0.529</td></tr><tr><td>devtest</td><td>0.397</td><td>0.354</td><td>0.521</td><td>0.557</td></tr></table>"
       ],
       "metadata": {},
       "output_type": "display_data",
       "text": [
        "<IPython.core.display.HTML at 0x7f8020628250>"
       ]
      },
      {
       "html": [
        "<ul>"
       ],
       "metadata": {},
       "output_type": "display_data",
       "text": [
        "<IPython.core.display.HTML at 0x7f801e993d90>"
       ]
      },
      {
       "html": [
        "<li><b>what is the name of justin bieber brother?</b><br><b>in:</b> lat/peer/WordnetLAT, lat/relative/WordnetLAT, lat/associate/WordnetLAT, lat/member/WordnetLAT, lat/monk/WordnetLAT, lat/brother/LAT, lat/religious/WordnetLAT, lat/religious person/WordnetLAT, lat/male sibling/WordnetLAT, lat/friend/WordnetLAT, lat/kinsman/WordnetLAT, lat/person/WordnetLAT<br><b>out:</b> /fictional_universe/fictional_character/romantically_involved_with|/fictional_universe/romantic_involvement/partner, /fictional_universe/fictional_character/siblings|/fictional_universe/sibling_relationship_of_fictional_characters/siblings, /people/person/sibling_s|/people/sibling_relationship/sibling<br><b>outp:</b> /people/person/sibling_s|/people/sibling_relationship/sibling: 1.000, /fictional_universe/fictional_character/siblings|/fictional_universe/sibling_relationship_of_fictional_characters/siblings: 0.990, /fictional_universe/fictional_character/romantically_involved_with|/fictional_universe/romantic_involvement/partner: 0.715, /people/person/spouse_s|/people/marriage/spouse: 0.482, /people/person/parents: 0.247<br><b>gold:</b> /people/person/sibling_s|/people/sibling_relationship/sibling</li>"
       ],
       "metadata": {},
       "output_type": "display_data",
       "text": [
        "<IPython.core.display.HTML at 0x7f801ea13e50>"
       ]
      },
      {
       "html": [
        "<li><b>where to fly into bali?</b><br><b>in:</b> sv=fly, lat/location/QuestionWordLAT<br><b>out:</b> <br><b>outp:</b> /location/location/containedby: 0.044, /people/person/places_lived|/people/place_lived/location: 0.036, /people/person/place_of_birth: 0.030, /people/person/education|/education/education/institution: 0.020, /location/location/contains: 0.008<br><b>gold:</b> </li>"
       ],
       "metadata": {},
       "output_type": "display_data",
       "text": [
        "<IPython.core.display.HTML at 0x7f801ea13950>"
       ]
      },
      {
       "html": [
        "<li><b>what is cher's son's name?</b><br><b>in:</b> lat/God/WordnetLAT, lat/person/WordnetLAT, lat/relative/WordnetLAT, lat/offspring/WordnetLAT, lat/male/WordnetLAT, lat/belief/WordnetLAT, lat/male offspring/WordnetLAT, lat/content/WordnetLAT, lat/cognition/WordnetLAT, lat/Godhead/WordnetLAT, lat/son/LAT, lat/child/WordnetLAT, lat/spiritual being/WordnetLAT, lat/hypostasis/WordnetLAT<br><b>out:</b> /people/person/children<br><b>outp:</b> /people/person/children: 0.999, /people/person/parents: 0.221, /people/person/sibling_s|/people/sibling_relationship/sibling: 0.061, /people/person/spouse_s|/people/marriage/spouse: 0.027, /people/deceased_person/cause_of_death: 0.001<br><b>gold:</b> /people/person/children</li>"
       ],
       "metadata": {},
       "output_type": "display_data",
       "text": [
        "<IPython.core.display.HTML at 0x7f801ea13c50>"
       ]
      },
      {
       "html": [
        "<li><b>what countries do people speak portuguese?</b><br><b>in:</b> lat/political unit/WordnetLAT, lat/country/ImplicitQLAT, lat/administrative district/WordnetLAT, lat/unit/WordnetLAT, lat/people/WordnetLAT, lat/organization/WordnetLAT, lat/group/WordnetLAT, lat/social group/WordnetLAT, lat/district/WordnetLAT, lat/region/WordnetLAT, lat/location/WordnetLAT, sv=speak, lat/geographical area/WordnetLAT, lat/countries/LAT<br><b>out:</b> <br><b>outp:</b> /location/location/adjoin_s|/location/adjoining_relationship/adjoins: 0.203, /location/location/contains: 0.000, /people/person/nationality: 0.000, /location/statistical_region/places_exported_to|/location/imports_and_exports/exported_to: 0.000, /language/human_language/countries_spoken_in: 0.000<br><b>gold:</b> /language/human_language/countries_spoken_in, /language/human_language/main_country</li>"
       ],
       "metadata": {},
       "output_type": "display_data",
       "text": [
        "<IPython.core.display.HTML at 0x7f801ea13850>"
       ]
      },
      {
       "html": [
        "<li><b>who was vincent van gogh inspired by?</b><br><b>in:</b> sv=inspired<br><b>out:</b> <br><b>outp:</b> /influence/influence_node/influenced_by: 0.114, /location/location/containedby: 0.058, /people/person/places_lived|/people/place_lived/location: 0.044, /people/person/education|/education/education/institution: 0.042, /people/person/place_of_birth: 0.041<br><b>gold:</b> /influence/influence_node/influenced_by</li>"
       ],
       "metadata": {},
       "output_type": "display_data",
       "text": [
        "<IPython.core.display.HTML at 0x7f801ea13290>"
       ]
      },
      {
       "html": [
        "<li><b>when will oscar pistorius compete?</b><br><b>in:</b> sv=compete, lat/time/QuestionWordLAT, lat/date/QuestionWordLAT<br><b>out:</b> <br><b>outp:</b> /sports/sports_team/championships: 0.161, /location/location/contains: 0.004, /book/book_subject/works: 0.003, /location/location/events: 0.002, /location/location/containedby: 0.002<br><b>gold:</b> </li>"
       ],
       "metadata": {},
       "output_type": "display_data",
       "text": [
        "<IPython.core.display.HTML at 0x7f801ea13810>"
       ]
      },
      {
       "html": [
        "<li><b>who plays meg in family guy?</b><br><b>in:</b> sv=plays, lat/person/QuestionWordLAT<br><b>out:</b> <br><b>outp:</b> /tv/tv_character/appeared_in_tv_program|/tv/regular_tv_appearance/actor: 0.362, /film/film_character/portrayed_in_films|/film/performance/actor: 0.350, /tv/tv_character/appeared_in_tv_episodes|/tv/tv_guest_role/actor: 0.008, /film/film/starring|/film/performance/actor: 0.006, /government/governmental_jurisdiction/governing_officials|/government/government_position_held/office_holder: 0.002<br><b>gold:</b> /cvg/game_character/games|/cvg/game_performance/voice_actor, /film/film_character/portrayed_in_films|/film/performance/actor, /tv/tv_character/appeared_in_tv_episodes|/tv/tv_guest_role/actor, /tv/tv_character/appeared_in_tv_program|/tv/regular_tv_appearance/actor</li>"
       ],
       "metadata": {},
       "output_type": "display_data",
       "text": [
        "<IPython.core.display.HTML at 0x7f801e993f50>"
       ]
      },
      {
       "html": [
        "<li><b>what stadium did the chicago cardinals play in?</b><br><b>in:</b> sv=play, lat/artifact/WordnetLAT, lat/stadium/LAT, lat/structure/WordnetLAT<br><b>out:</b> <br><b>outp:</b> /people/person/education|/education/education/institution: 0.111, /sports/pro_athlete/teams|/sports/sports_team_roster/team: 0.027, /film/actor/film|/film/performance/film: 0.023, /award/award_nominee/award_nominations|/award/award_nomination/nominated_for: 0.006, /award/award_winner/awards_won|/award/award_honor/honored_for: 0.004<br><b>gold:</b> /sports/sports_team/arena_stadium, /sports/sports_team/venue|/sports/team_venue_relationship/venue</li>"
       ],
       "metadata": {},
       "output_type": "display_data",
       "text": [
        "<IPython.core.display.HTML at 0x7f801e993b90>"
       ]
      },
      {
       "html": [
        "<li><b>who was the apostle paul considered to be?</b><br><b>in:</b> lat/position/WordnetLAT, lat/attitude/WordnetLAT, sv=considered, lat/cognition/WordnetLAT, lat/orientation/WordnetLAT<br><b>out:</b> <br><b>outp:</b> /travel/travel_destination/tourist_attractions: 0.103, /common/topic/notable_for: 0.051, /location/country/languages_spoken: 0.021, /location/country/official_language: 0.019, /government/politician/government_positions_held|/government/government_position_held/office_position_or_title: 0.014<br><b>gold:</b> </li>"
       ],
       "metadata": {},
       "output_type": "display_data",
       "text": [
        "<IPython.core.display.HTML at 0x7f7ff417ff90>"
       ]
      },
      {
       "html": [
        "<li><b>which countries are part of the united kingdom?</b><br><b>in:</b> lat/political unit/WordnetLAT, lat/country/ImplicitQLAT, lat/administrative district/WordnetLAT, lat/people/WordnetLAT, lat/district/WordnetLAT, lat/location/WordnetLAT, lat/countries/LAT, lat/geographical area/WordnetLAT, lat/region/WordnetLAT, lat/unit/WordnetLAT, lat/organization/WordnetLAT, lat/group/WordnetLAT, lat/social group/WordnetLAT<br><b>out:</b> /location/location/adjoin_s|/location/adjoining_relationship/adjoins<br><b>outp:</b> /location/location/adjoin_s|/location/adjoining_relationship/adjoins: 0.687, /location/location/contains: 0.004, /people/person/nationality: 0.002, /location/statistical_region/places_exported_to|/location/imports_and_exports/exported_to: 0.000, /location/location/containedby: 0.000<br><b>gold:</b> /location/location/containedby</li>"
       ],
       "metadata": {},
       "output_type": "display_data",
       "text": [
        "<IPython.core.display.HTML at 0x7f7ff417ff50>"
       ]
      },
      {
       "html": [
        "</ul>"
       ],
       "metadata": {},
       "output_type": "display_data",
       "text": [
        "<IPython.core.display.HTML at 0x7f801e993c10>"
       ]
      }
     ],
     "prompt_number": 253
    },
    {
     "cell_type": "code",
     "collapsed": false,
     "input": [
      "from sklearn.naive_bayes import GaussianNB\n",
      "cfier_gnb = OneVsRestClassifier(GaussianNB(), n_jobs=4)\n",
      "pprint(cfier_gnb.fit(vtrain.X.toarray(), vtrain.Y))\n",
      "demo_model(cfier_gnb)"
     ],
     "language": "python",
     "metadata": {},
     "outputs": [
      {
       "output_type": "stream",
       "stream": "stdout",
       "text": [
        "OneVsRestClassifier(estimator=GaussianNB(), n_jobs=4)\n"
       ]
      },
      {
       "ename": "KeyboardInterrupt",
       "evalue": "",
       "output_type": "pyerr",
       "traceback": [
        "\u001b[0;31m---------------------------------------------------------------------------\u001b[0m\n\u001b[0;31mKeyboardInterrupt\u001b[0m                         Traceback (most recent call last)",
        "\u001b[0;32m<ipython-input-256-0d27179e6cb5>\u001b[0m in \u001b[0;36m<module>\u001b[0;34m()\u001b[0m\n\u001b[1;32m      2\u001b[0m \u001b[0mcfier_gnb\u001b[0m \u001b[0;34m=\u001b[0m \u001b[0mOneVsRestClassifier\u001b[0m\u001b[0;34m(\u001b[0m\u001b[0mGaussianNB\u001b[0m\u001b[0;34m(\u001b[0m\u001b[0;34m)\u001b[0m\u001b[0;34m,\u001b[0m \u001b[0mn_jobs\u001b[0m\u001b[0;34m=\u001b[0m\u001b[0;36m4\u001b[0m\u001b[0;34m)\u001b[0m\u001b[0;34m\u001b[0m\u001b[0m\n\u001b[1;32m      3\u001b[0m \u001b[0mpprint\u001b[0m\u001b[0;34m(\u001b[0m\u001b[0mcfier_gnb\u001b[0m\u001b[0;34m.\u001b[0m\u001b[0mfit\u001b[0m\u001b[0;34m(\u001b[0m\u001b[0mvtrain\u001b[0m\u001b[0;34m.\u001b[0m\u001b[0mX\u001b[0m\u001b[0;34m.\u001b[0m\u001b[0mtoarray\u001b[0m\u001b[0;34m(\u001b[0m\u001b[0;34m)\u001b[0m\u001b[0;34m,\u001b[0m \u001b[0mvtrain\u001b[0m\u001b[0;34m.\u001b[0m\u001b[0mY\u001b[0m\u001b[0;34m)\u001b[0m\u001b[0;34m)\u001b[0m\u001b[0;34m\u001b[0m\u001b[0m\n\u001b[0;32m----> 4\u001b[0;31m \u001b[0mdemo_model\u001b[0m\u001b[0;34m(\u001b[0m\u001b[0mcfier_gnb\u001b[0m\u001b[0;34m)\u001b[0m\u001b[0;34m\u001b[0m\u001b[0m\n\u001b[0m",
        "\u001b[0;32m<ipython-input-255-0adde9d59df6>\u001b[0m in \u001b[0;36mdemo_model\u001b[0;34m(cfier)\u001b[0m\n\u001b[1;32m     19\u001b[0m \u001b[0;34m\u001b[0m\u001b[0m\n\u001b[1;32m     20\u001b[0m \u001b[0;32mdef\u001b[0m \u001b[0mdemo_model\u001b[0m\u001b[0;34m(\u001b[0m\u001b[0mcfier\u001b[0m\u001b[0;34m)\u001b[0m\u001b[0;34m:\u001b[0m\u001b[0;34m\u001b[0m\u001b[0m\n\u001b[0;32m---> 21\u001b[0;31m     \u001b[0mstable\u001b[0m \u001b[0;34m=\u001b[0m \u001b[0mscore_table\u001b[0m\u001b[0;34m(\u001b[0m\u001b[0mcfier\u001b[0m\u001b[0;34m,\u001b[0m \u001b[0;32mlambda\u001b[0m \u001b[0mcfier\u001b[0m\u001b[0;34m,\u001b[0m \u001b[0mX\u001b[0m\u001b[0;34m:\u001b[0m \u001b[0mcfier\u001b[0m\u001b[0;34m.\u001b[0m\u001b[0mpredict_proba\u001b[0m\u001b[0;34m(\u001b[0m\u001b[0mX\u001b[0m\u001b[0;34m.\u001b[0m\u001b[0mtoarray\u001b[0m\u001b[0;34m(\u001b[0m\u001b[0;34m)\u001b[0m\u001b[0;34m)\u001b[0m\u001b[0;34m)\u001b[0m\u001b[0;34m\u001b[0m\u001b[0m\n\u001b[0m\u001b[1;32m     22\u001b[0m     \u001b[0mdisplay\u001b[0m\u001b[0;34m(\u001b[0m\u001b[0mHTML\u001b[0m\u001b[0;34m(\u001b[0m\u001b[0;34m'<table>'\u001b[0m\u001b[0;34m+\u001b[0m\u001b[0mstable\u001b[0m\u001b[0;34m+\u001b[0m\u001b[0;34m'</table>'\u001b[0m\u001b[0;34m)\u001b[0m\u001b[0;34m)\u001b[0m\u001b[0;34m\u001b[0m\u001b[0m\n\u001b[1;32m     23\u001b[0m     \u001b[0mdisplay\u001b[0m\u001b[0;34m(\u001b[0m\u001b[0mHTML\u001b[0m\u001b[0;34m(\u001b[0m\u001b[0;34m'<ul>'\u001b[0m\u001b[0;34m)\u001b[0m\u001b[0;34m)\u001b[0m\u001b[0;34m\u001b[0m\u001b[0m\n",
        "\u001b[0;32m<ipython-input-255-0adde9d59df6>\u001b[0m in \u001b[0;36mscore_table\u001b[0;34m(cfier, scorer)\u001b[0m\n\u001b[1;32m     13\u001b[0m     \u001b[0mstable\u001b[0m \u001b[0;34m=\u001b[0m \u001b[0;34m'<tr><th>dataset</th><th>qRecallAny</th><th>qRecallAll</th><th>pPrec</th><th>pScoreMRR</th></tr>'\u001b[0m\u001b[0;34m\u001b[0m\u001b[0m\n\u001b[1;32m     14\u001b[0m     \u001b[0;32mfor\u001b[0m \u001b[0ms\u001b[0m\u001b[0;34m,\u001b[0m \u001b[0msname\u001b[0m \u001b[0;32min\u001b[0m \u001b[0;34m[\u001b[0m\u001b[0;34m(\u001b[0m\u001b[0mvtrain\u001b[0m\u001b[0;34m,\u001b[0m \u001b[0;34m'train'\u001b[0m\u001b[0;34m)\u001b[0m\u001b[0;34m,\u001b[0m \u001b[0;34m(\u001b[0m\u001b[0mvval\u001b[0m\u001b[0;34m,\u001b[0m \u001b[0;34m'val'\u001b[0m\u001b[0;34m)\u001b[0m\u001b[0;34m,\u001b[0m \u001b[0;34m(\u001b[0m\u001b[0mvdevtest\u001b[0m\u001b[0;34m,\u001b[0m \u001b[0;34m'devtest'\u001b[0m\u001b[0;34m)\u001b[0m\u001b[0;34m]\u001b[0m\u001b[0;34m:\u001b[0m\u001b[0;34m\u001b[0m\u001b[0m\n\u001b[0;32m---> 15\u001b[0;31m         \u001b[0mscore\u001b[0m \u001b[0;34m=\u001b[0m \u001b[0mcfier_score\u001b[0m\u001b[0;34m(\u001b[0m\u001b[0mcfier\u001b[0m\u001b[0;34m,\u001b[0m \u001b[0ms\u001b[0m\u001b[0;34m,\u001b[0m \u001b[0mscorer\u001b[0m\u001b[0;34m)\u001b[0m\u001b[0;34m\u001b[0m\u001b[0m\n\u001b[0m\u001b[1;32m     16\u001b[0m         stable += '<tr><td>%s</td><td>%.3f</td><td>%.3f</td><td>%.3f</td><td>%.3f</td></tr>' % (\n\u001b[1;32m     17\u001b[0m                 sname, score['qRecallAny'], score['qRecallAll'], score['pPrec'], score['qScoreMRR'])\n",
        "\u001b[0;32m<ipython-input-249-3bb5fba6bd2b>\u001b[0m in \u001b[0;36mcfier_score\u001b[0;34m(cfier, vset, scorer)\u001b[0m\n\u001b[1;32m      6\u001b[0m \u001b[0;34m\u001b[0m\u001b[0m\n\u001b[1;32m      7\u001b[0m     \u001b[0;31m# Measure prediction performance\u001b[0m\u001b[0;34m\u001b[0m\u001b[0;34m\u001b[0m\u001b[0m\n\u001b[0;32m----> 8\u001b[0;31m     \u001b[0mYpred\u001b[0m \u001b[0;34m=\u001b[0m \u001b[0mcfier\u001b[0m\u001b[0;34m.\u001b[0m\u001b[0mpredict\u001b[0m\u001b[0;34m(\u001b[0m\u001b[0mvset\u001b[0m\u001b[0;34m.\u001b[0m\u001b[0mX\u001b[0m\u001b[0;34m.\u001b[0m\u001b[0mtoarray\u001b[0m\u001b[0;34m(\u001b[0m\u001b[0;34m)\u001b[0m\u001b[0;34m)\u001b[0m\u001b[0;34m\u001b[0m\u001b[0m\n\u001b[0m\u001b[1;32m      9\u001b[0m     \u001b[0mn_q\u001b[0m \u001b[0;34m=\u001b[0m \u001b[0mfloat\u001b[0m\u001b[0;34m(\u001b[0m\u001b[0mnp\u001b[0m\u001b[0;34m.\u001b[0m\u001b[0msize\u001b[0m\u001b[0;34m(\u001b[0m\u001b[0mvset\u001b[0m\u001b[0;34m.\u001b[0m\u001b[0mY\u001b[0m\u001b[0;34m,\u001b[0m \u001b[0maxis\u001b[0m\u001b[0;34m=\u001b[0m\u001b[0;36m0\u001b[0m\u001b[0;34m)\u001b[0m\u001b[0;34m)\u001b[0m\u001b[0;34m\u001b[0m\u001b[0m\n\u001b[1;32m     10\u001b[0m     \u001b[0;31m# number of questions where all correct paths have been recalled\u001b[0m\u001b[0;34m\u001b[0m\u001b[0;34m\u001b[0m\u001b[0m\n",
        "\u001b[0;32m/usr/lib/python2.7/dist-packages/sklearn/multiclass.pyc\u001b[0m in \u001b[0;36mpredict\u001b[0;34m(self, X)\u001b[0m\n\u001b[1;32m    319\u001b[0m             \u001b[0mindptr\u001b[0m \u001b[0;34m=\u001b[0m \u001b[0marray\u001b[0m\u001b[0;34m.\u001b[0m\u001b[0marray\u001b[0m\u001b[0;34m(\u001b[0m\u001b[0;34m'i'\u001b[0m\u001b[0;34m,\u001b[0m \u001b[0;34m[\u001b[0m\u001b[0;36m0\u001b[0m\u001b[0;34m]\u001b[0m\u001b[0;34m)\u001b[0m\u001b[0;34m\u001b[0m\u001b[0m\n\u001b[1;32m    320\u001b[0m             \u001b[0;32mfor\u001b[0m \u001b[0me\u001b[0m \u001b[0;32min\u001b[0m \u001b[0mself\u001b[0m\u001b[0;34m.\u001b[0m\u001b[0mestimators_\u001b[0m\u001b[0;34m:\u001b[0m\u001b[0;34m\u001b[0m\u001b[0m\n\u001b[0;32m--> 321\u001b[0;31m                 \u001b[0mindices\u001b[0m\u001b[0;34m.\u001b[0m\u001b[0mextend\u001b[0m\u001b[0;34m(\u001b[0m\u001b[0mnp\u001b[0m\u001b[0;34m.\u001b[0m\u001b[0mwhere\u001b[0m\u001b[0;34m(\u001b[0m\u001b[0m_predict_binary\u001b[0m\u001b[0;34m(\u001b[0m\u001b[0me\u001b[0m\u001b[0;34m,\u001b[0m \u001b[0mX\u001b[0m\u001b[0;34m)\u001b[0m \u001b[0;34m>\u001b[0m \u001b[0mthresh\u001b[0m\u001b[0;34m)\u001b[0m\u001b[0;34m[\u001b[0m\u001b[0;36m0\u001b[0m\u001b[0;34m]\u001b[0m\u001b[0;34m)\u001b[0m\u001b[0;34m\u001b[0m\u001b[0m\n\u001b[0m\u001b[1;32m    322\u001b[0m                 \u001b[0mindptr\u001b[0m\u001b[0;34m.\u001b[0m\u001b[0mappend\u001b[0m\u001b[0;34m(\u001b[0m\u001b[0mlen\u001b[0m\u001b[0;34m(\u001b[0m\u001b[0mindices\u001b[0m\u001b[0;34m)\u001b[0m\u001b[0;34m)\u001b[0m\u001b[0;34m\u001b[0m\u001b[0m\n\u001b[1;32m    323\u001b[0m             \u001b[0mdata\u001b[0m \u001b[0;34m=\u001b[0m \u001b[0mnp\u001b[0m\u001b[0;34m.\u001b[0m\u001b[0mones\u001b[0m\u001b[0;34m(\u001b[0m\u001b[0mlen\u001b[0m\u001b[0;34m(\u001b[0m\u001b[0mindices\u001b[0m\u001b[0;34m)\u001b[0m\u001b[0;34m,\u001b[0m \u001b[0mdtype\u001b[0m\u001b[0;34m=\u001b[0m\u001b[0mint\u001b[0m\u001b[0;34m)\u001b[0m\u001b[0;34m\u001b[0m\u001b[0m\n",
        "\u001b[0;32m/usr/lib/python2.7/dist-packages/sklearn/multiclass.pyc\u001b[0m in \u001b[0;36m_predict_binary\u001b[0;34m(estimator, X)\u001b[0m\n\u001b[1;32m     82\u001b[0m     \u001b[0;32mexcept\u001b[0m \u001b[0;34m(\u001b[0m\u001b[0mAttributeError\u001b[0m\u001b[0;34m,\u001b[0m \u001b[0mNotImplementedError\u001b[0m\u001b[0;34m)\u001b[0m\u001b[0;34m:\u001b[0m\u001b[0;34m\u001b[0m\u001b[0m\n\u001b[1;32m     83\u001b[0m         \u001b[0;31m# probabilities of the positive class\u001b[0m\u001b[0;34m\u001b[0m\u001b[0;34m\u001b[0m\u001b[0m\n\u001b[0;32m---> 84\u001b[0;31m         \u001b[0mscore\u001b[0m \u001b[0;34m=\u001b[0m \u001b[0mestimator\u001b[0m\u001b[0;34m.\u001b[0m\u001b[0mpredict_proba\u001b[0m\u001b[0;34m(\u001b[0m\u001b[0mX\u001b[0m\u001b[0;34m)\u001b[0m\u001b[0;34m[\u001b[0m\u001b[0;34m:\u001b[0m\u001b[0;34m,\u001b[0m \u001b[0;36m1\u001b[0m\u001b[0;34m]\u001b[0m\u001b[0;34m\u001b[0m\u001b[0m\n\u001b[0m\u001b[1;32m     85\u001b[0m     \u001b[0;32mreturn\u001b[0m \u001b[0mscore\u001b[0m\u001b[0;34m\u001b[0m\u001b[0m\n\u001b[1;32m     86\u001b[0m \u001b[0;34m\u001b[0m\u001b[0m\n",
        "\u001b[0;32m/usr/lib/python2.7/dist-packages/sklearn/naive_bayes.pyc\u001b[0m in \u001b[0;36mpredict_proba\u001b[0;34m(self, X)\u001b[0m\n\u001b[1;32m    100\u001b[0m             \u001b[0morder\u001b[0m\u001b[0;34m,\u001b[0m \u001b[0;32mas\u001b[0m \u001b[0mthey\u001b[0m \u001b[0mappear\u001b[0m \u001b[0;32min\u001b[0m \u001b[0mthe\u001b[0m \u001b[0mattribute\u001b[0m \u001b[0;34m`\u001b[0m\u001b[0mclasses_\u001b[0m\u001b[0;34m`\u001b[0m\u001b[0;34m.\u001b[0m\u001b[0;34m\u001b[0m\u001b[0m\n\u001b[1;32m    101\u001b[0m         \"\"\"\n\u001b[0;32m--> 102\u001b[0;31m         \u001b[0;32mreturn\u001b[0m \u001b[0mnp\u001b[0m\u001b[0;34m.\u001b[0m\u001b[0mexp\u001b[0m\u001b[0;34m(\u001b[0m\u001b[0mself\u001b[0m\u001b[0;34m.\u001b[0m\u001b[0mpredict_log_proba\u001b[0m\u001b[0;34m(\u001b[0m\u001b[0mX\u001b[0m\u001b[0;34m)\u001b[0m\u001b[0;34m)\u001b[0m\u001b[0;34m\u001b[0m\u001b[0m\n\u001b[0m\u001b[1;32m    103\u001b[0m \u001b[0;34m\u001b[0m\u001b[0m\n\u001b[1;32m    104\u001b[0m \u001b[0;34m\u001b[0m\u001b[0m\n",
        "\u001b[0;32m/usr/lib/python2.7/dist-packages/sklearn/naive_bayes.pyc\u001b[0m in \u001b[0;36mpredict_log_proba\u001b[0;34m(self, X)\u001b[0m\n\u001b[1;32m     80\u001b[0m             \u001b[0morder\u001b[0m\u001b[0;34m,\u001b[0m \u001b[0;32mas\u001b[0m \u001b[0mthey\u001b[0m \u001b[0mappear\u001b[0m \u001b[0;32min\u001b[0m \u001b[0mthe\u001b[0m \u001b[0mattribute\u001b[0m \u001b[0;34m`\u001b[0m\u001b[0mclasses_\u001b[0m\u001b[0;34m`\u001b[0m\u001b[0;34m.\u001b[0m\u001b[0;34m\u001b[0m\u001b[0m\n\u001b[1;32m     81\u001b[0m         \"\"\"\n\u001b[0;32m---> 82\u001b[0;31m         \u001b[0mjll\u001b[0m \u001b[0;34m=\u001b[0m \u001b[0mself\u001b[0m\u001b[0;34m.\u001b[0m\u001b[0m_joint_log_likelihood\u001b[0m\u001b[0;34m(\u001b[0m\u001b[0mX\u001b[0m\u001b[0;34m)\u001b[0m\u001b[0;34m\u001b[0m\u001b[0m\n\u001b[0m\u001b[1;32m     83\u001b[0m         \u001b[0;31m# normalize by P(x) = P(f_1, ..., f_n)\u001b[0m\u001b[0;34m\u001b[0m\u001b[0;34m\u001b[0m\u001b[0m\n\u001b[1;32m     84\u001b[0m         \u001b[0mlog_prob_x\u001b[0m \u001b[0;34m=\u001b[0m \u001b[0mlogsumexp\u001b[0m\u001b[0;34m(\u001b[0m\u001b[0mjll\u001b[0m\u001b[0;34m,\u001b[0m \u001b[0maxis\u001b[0m\u001b[0;34m=\u001b[0m\u001b[0;36m1\u001b[0m\u001b[0;34m)\u001b[0m\u001b[0;34m\u001b[0m\u001b[0m\n",
        "\u001b[0;32m/usr/lib/python2.7/dist-packages/sklearn/naive_bayes.pyc\u001b[0m in \u001b[0;36m_joint_log_likelihood\u001b[0;34m(self, X)\u001b[0m\n\u001b[1;32m    342\u001b[0m             \u001b[0mn_ij\u001b[0m \u001b[0;34m=\u001b[0m \u001b[0;34m-\u001b[0m \u001b[0;36m0.5\u001b[0m \u001b[0;34m*\u001b[0m \u001b[0mnp\u001b[0m\u001b[0;34m.\u001b[0m\u001b[0msum\u001b[0m\u001b[0;34m(\u001b[0m\u001b[0mnp\u001b[0m\u001b[0;34m.\u001b[0m\u001b[0mlog\u001b[0m\u001b[0;34m(\u001b[0m\u001b[0;36m2.\u001b[0m \u001b[0;34m*\u001b[0m \u001b[0mnp\u001b[0m\u001b[0;34m.\u001b[0m\u001b[0mpi\u001b[0m \u001b[0;34m*\u001b[0m \u001b[0mself\u001b[0m\u001b[0;34m.\u001b[0m\u001b[0msigma_\u001b[0m\u001b[0;34m[\u001b[0m\u001b[0mi\u001b[0m\u001b[0;34m,\u001b[0m \u001b[0;34m:\u001b[0m\u001b[0;34m]\u001b[0m\u001b[0;34m)\u001b[0m\u001b[0;34m)\u001b[0m\u001b[0;34m\u001b[0m\u001b[0m\n\u001b[1;32m    343\u001b[0m             n_ij -= 0.5 * np.sum(((X - self.theta_[i, :]) ** 2) /\n\u001b[0;32m--> 344\u001b[0;31m                                  (self.sigma_[i, :]), 1)\n\u001b[0m\u001b[1;32m    345\u001b[0m             \u001b[0mjoint_log_likelihood\u001b[0m\u001b[0;34m.\u001b[0m\u001b[0mappend\u001b[0m\u001b[0;34m(\u001b[0m\u001b[0mjointi\u001b[0m \u001b[0;34m+\u001b[0m \u001b[0mn_ij\u001b[0m\u001b[0;34m)\u001b[0m\u001b[0;34m\u001b[0m\u001b[0m\n\u001b[1;32m    346\u001b[0m \u001b[0;34m\u001b[0m\u001b[0m\n",
        "\u001b[0;31mKeyboardInterrupt\u001b[0m: "
       ]
      }
     ],
     "prompt_number": 256
    },
    {
     "cell_type": "code",
     "collapsed": false,
     "input": [
      "from sklearn.linear_model import LogisticRegression\n",
      "cfier_log = OneVsRestClassifier(LogisticRegression(class_weight='auto'), n_jobs=4)\n",
      "pprint(cfier_log.fit(vtrain.X, vtrain.Y))\n",
      "demo_model(cfier_log)"
     ],
     "language": "python",
     "metadata": {},
     "outputs": [
      {
       "output_type": "stream",
       "stream": "stdout",
       "text": [
        "OneVsRestClassifier(estimator=LogisticRegression(C=1.0, class_weight='auto', dual=False, fit_intercept=True,\n",
        "          intercept_scaling=1, max_iter=100, multi_class='ovr',\n",
        "          penalty='l2', random_state=None, solver='liblinear', tol=0.0001,\n",
        "          verbose=0),\n",
        "          n_jobs=4)\n"
       ]
      },
      {
       "html": [
        "<table><tr><th>dataset</th><th>qRecallAny</th><th>qRecallAll</th><th>pPrec</th><th>pScoreMRR</th></tr><tr><td>train</td><td>0.977</td><td>0.968</td><td>0.052</td><td>0.761</td></tr><tr><td>val</td><td>0.777</td><td>0.719</td><td>0.034</td><td>0.527</td></tr><tr><td>devtest</td><td>0.788</td><td>0.735</td><td>0.036</td><td>0.605</td></tr></table>"
       ],
       "metadata": {},
       "output_type": "display_data",
       "text": [
        "<IPython.core.display.HTML at 0x7fc499ad49d0>"
       ]
      },
      {
       "html": [
        "<ul>"
       ],
       "metadata": {},
       "output_type": "display_data",
       "text": [
        "<IPython.core.display.HTML at 0x7fc472b1c510>"
       ]
      },
      {
       "html": [
        "<li><b>what is the name of justin bieber brother?</b><br><b>in:</b> lat/relative/WordnetLAT, lat/religious/WordnetLAT, lat/peer/WordnetLAT, lat/associate/WordnetLAT, lat/monk/WordnetLAT, lat/religious person/WordnetLAT, lat/member/WordnetLAT, lat/friend/WordnetLAT, lat/person/WordnetLAT, lat/kinsman/WordnetLAT, lat/brother/LAT, lat/male sibling/WordnetLAT<br><b>out:</b> /celebrities/celebrity/celebrity_friends|/celebrities/friendship/friend, /comic_books/comic_book_series/publisher, /fictional_universe/fictional_character/romantically_involved_with|/fictional_universe/romantic_involvement/partner, /fictional_universe/fictional_character/siblings|/fictional_universe/sibling_relationship_of_fictional_characters/siblings, /people/person/children, /people/person/sibling_s|/people/sibling_relationship/sibling, /religion/religious_organization/leaders|/religion/religious_organization_leadership/role<br><b>outp:</b> /people/person/sibling_s|/people/sibling_relationship/sibling: 0.952, /fictional_universe/fictional_character/siblings|/fictional_universe/sibling_relationship_of_fictional_characters/siblings: 0.876, /fictional_universe/fictional_character/romantically_involved_with|/fictional_universe/romantic_involvement/partner: 0.872, /celebrities/celebrity/celebrity_friends|/celebrities/friendship/friend: 0.664, /religion/religious_organization/leaders|/religion/religious_organization_leadership/role: 0.531<br><b>gold:</b> /people/person/sibling_s|/people/sibling_relationship/sibling</li>"
       ],
       "metadata": {},
       "output_type": "display_data",
       "text": [
        "<IPython.core.display.HTML at 0x7fc4727bad10>"
       ]
      },
      {
       "html": [
        "<li><b>where to fly into bali?</b><br><b>in:</b> sv=fly, lat/location/QuestionWordLAT<br><b>out:</b> /american_football/football_coach/current_team_head_coached, /american_football/football_player/passing|/american_football/player_passing_statistics/team, /amusement_parks/park/location, /architecture/architect/structures_designed, /aviation/airline/airports_served|/aviation/airline_airport_presence/airport, /aviation/airport/serves, /award/hall_of_fame/address|/location/mailing_address/citytown, /biology/animal_breed/place_of_origin, /book/book_subject/works, /broadcast/content/location, /business/employer/employees|/business/employment_tenure/title, /business/shopping_center/address|/location/mailing_address/citytown, /education/honorary_degree_recipient/honorary_degrees|/education/honorary_degree/institution, /exhibitions/exhibition_subject/exhibitions_created_about_this_subject, /fictional_universe/fictional_character/place_of_birth, /fictional_universe/fictional_character/places_lived, /fictional_universe/fictional_language/where_spoken, /film/film_location/featured_in_films, /geography/island/island_group, /geography/mountain/mountain_range, /geography/river/basin_countries, /geography/river/cities, /geography/river/mouth, /geography/river/origin, /language/human_language/countries_spoken_in, /language/human_language/main_country, /language/human_language/writing_system, /location/administrative_division/country, /location/administrative_division/first_level_division_of, /location/capital_of_administrative_division/capital_of|/location/administrative_division_capital_relationship/administrative_division, /location/country/capital, /location/hud_county_place/county, /location/hud_county_place/place, /location/location/containedby, /location/location/street_address|/location/mailing_address/citytown, /location/neighborhood/neighborhood_of, /location/us_county/county_seat, /martial_arts/martial_artist/martial_art, /military/military_conflict/locations, /music/artist/origin, /organization/organization/headquarters|/location/mailing_address/citytown, /organization/organization/headquarters|/location/mailing_address/country, /organization/organization/headquarters|/location/mailing_address/state_province_region, /organization/organization/phone_number|/common/phone_number/service_location, /organization/organization/place_founded, /people/deceased_person/place_of_burial, /people/deceased_person/place_of_death, /people/ethnicity/geographic_distribution, /people/ethnicity/included_in_group, /people/person/nationality, /people/person/place_of_birth, /people/person/places_lived|/people/place_lived/location, /people/person/spouse_s|/people/marriage/location_of_ceremony, /religion/religion/founding_figures, /religion/religious_organization/jurisdictions, /time/event/locations, /travel/tourist_attraction/near_travel_destination, /travel/travel_destination/local_transportation, /tv/tv_program/country_of_origin, /type/object/name, /visual_art/art_subject/artwork_on_the_subject<br><b>outp:</b> /organization/organization/headquarters|/location/mailing_address/citytown: 0.753, /type/object/name: 0.720, /organization/organization/place_founded: 0.713, /aviation/airline/airports_served|/aviation/airline_airport_presence/airport: 0.693, /music/artist/origin: 0.691<br><b>gold:</b> </li>"
       ],
       "metadata": {},
       "output_type": "display_data",
       "text": [
        "<IPython.core.display.HTML at 0x7fc4727babd0>"
       ]
      },
      {
       "html": [
        "<li><b>what is cher's son's name?</b><br><b>in:</b> lat/person/WordnetLAT, lat/relative/WordnetLAT, lat/cognition/WordnetLAT, lat/God/WordnetLAT, lat/male/WordnetLAT, lat/child/WordnetLAT, lat/male offspring/WordnetLAT, lat/content/WordnetLAT, lat/belief/WordnetLAT, lat/offspring/WordnetLAT, lat/son/LAT, lat/Godhead/WordnetLAT, lat/spiritual being/WordnetLAT, lat/hypostasis/WordnetLAT<br><b>out:</b> /fictional_universe/fictional_character/married_to|/fictional_universe/marriage_of_fictional_characters/spouses, /fictional_universe/fictional_character/siblings|/fictional_universe/sibling_relationship_of_fictional_characters/siblings, /olympics/olympic_participating_country/athletes|/olympics/olympic_athlete_affiliation/sport, /people/person/children, /people/person/sibling_s|/people/sibling_relationship/sibling, /religion/religion/deities, /sports/sport_country/athletes|/sports/competitor_country_relationship/sports<br><b>outp:</b> /people/person/children: 0.951, /people/person/sibling_s|/people/sibling_relationship/sibling: 0.900, /fictional_universe/fictional_character/siblings|/fictional_universe/sibling_relationship_of_fictional_characters/siblings: 0.595, /fictional_universe/fictional_character/married_to|/fictional_universe/marriage_of_fictional_characters/spouses: 0.557, /religion/religion/deities: 0.517<br><b>gold:</b> /people/person/children</li>"
       ],
       "metadata": {},
       "output_type": "display_data",
       "text": [
        "<IPython.core.display.HTML at 0x7fc4727bac90>"
       ]
      },
      {
       "html": [
        "<li><b>what countries do people speak portuguese?</b><br><b>in:</b> lat/political unit/WordnetLAT, lat/country/ImplicitQLAT, lat/administrative district/WordnetLAT, lat/unit/WordnetLAT, lat/people/WordnetLAT, lat/organization/WordnetLAT, lat/group/WordnetLAT, lat/social group/WordnetLAT, lat/district/WordnetLAT, lat/region/WordnetLAT, lat/location/WordnetLAT, sv=speak, lat/geographical area/WordnetLAT, lat/countries/LAT<br><b>out:</b> /aviation/airline/airports_served|/aviation/airline_airport_presence/cities_served, /geography/river/basin_countries, /government/governmental_jurisdiction/governing_officials|/government/government_position_held/district_represented, /government/political_appointer/appointees|/government/government_position_held/jurisdiction_of_office, /government/politician/government_positions_held|/government/government_position_held/jurisdiction_of_office, /language/human_language/countries_spoken_in, /language/human_language/main_country, /location/administrative_division/country, /location/administrative_division/second_level_division_of, /location/country/administrative_divisions, /location/country/first_level_divisions, /location/location/adjoin_s|/location/adjoining_relationship/adjoins, /location/location/contains, /location/location/contains_major_portion_of, /location/location/partially_contained_by|/location/partial_containment_relationship/partially_contained_by, /location/location/partially_containedby, /location/location/partially_contains, /location/location/partiallycontains|/location/partial_containment_relationship/partially_contains, /location/location/street_address|/location/mailing_address/country, /location/location/street_address|/location/mailing_address/state_province_region, /location/statistical_region/places_exported_to|/location/imports_and_exports/exported_to, /location/statistical_region/places_imported_from|/location/imports_and_exports/imported_from, /military/military_combatant/casualties|/military/casualties/combatant, /military/military_combatant/force_deployments|/military/force_strength/combatant, /military/military_combatant/includes_allies, /military/military_combatant/military_conflicts|/military/military_combatant_group/combatants, /military/military_commander/military_commands|/military/military_command/military_combatant, /organization/membership_organization/members|/organization/organization_membership/member, /organization/organization/founders, /organization/organization/headquarters|/location/mailing_address/country, /organization/organization_member/member_of|/organization/organization_membership/organization, /people/person/nationality, /royalty/monarch/kingdom, /royalty/noble_person/titles|/royalty/noble_title_tenure/noble_title, /time/time_zone/locations_in_this_time_zone, /travel/tourist_attraction/near_travel_destination, /travel/transport_terminus/travel_destinations_served|/travel/transportation/travel_destination<br><b>outp:</b> /language/human_language/countries_spoken_in: 0.944, /language/human_language/main_country: 0.928, /location/location/adjoin_s|/location/adjoining_relationship/adjoins: 0.920, /location/statistical_region/places_exported_to|/location/imports_and_exports/exported_to: 0.909, /location/location/contains_major_portion_of: 0.909<br><b>gold:</b> /language/human_language/countries_spoken_in, /language/human_language/main_country</li>"
       ],
       "metadata": {},
       "output_type": "display_data",
       "text": [
        "<IPython.core.display.HTML at 0x7fc4727bab90>"
       ]
      },
      {
       "html": [
        "<li><b>who was vincent van gogh inspired by?</b><br><b>in:</b> sv=inspired<br><b>out:</b> /influence/influence_node/influenced, /influence/influence_node/influenced_by<br><b>outp:</b> /influence/influence_node/influenced_by: 0.773, /influence/influence_node/influenced: 0.613, /influence/influence_node/peers|/influence/peer_relationship/peers: 0.499, /sports/sports_team/previously_known_as: 0.489, /people/person/profession: 0.487<br><b>gold:</b> /influence/influence_node/influenced_by</li>"
       ],
       "metadata": {},
       "output_type": "display_data",
       "text": [
        "<IPython.core.display.HTML at 0x7fc4727baa90>"
       ]
      },
      {
       "html": [
        "<li><b>when will oscar pistorius compete?</b><br><b>in:</b> sv=compete, lat/time/QuestionWordLAT, lat/date/QuestionWordLAT<br><b>out:</b> /american_football/football_player/games|/american_football/player_game_statistics/season, /american_football/football_player/passing|/american_football/player_passing_statistics/season, /american_football/football_player/rushing|/american_football/player_rushing_statistics/season, /award/award_nominated_work/award_nominations|/award/award_nomination/year, /award/award_nominee/award_nominations|/award/award_nomination/notes_description, /award/award_nominee/award_nominations|/award/award_nomination/year, /award/award_winner/awards_won|/award/award_honor/notes_description, /award/award_winning_work/awards_won|/award/award_honor/year, /baseball/baseball_player/batting_stats|/baseball/batting_statistics/season, /basketball/basketball_player/player_statistics|/basketball/basketball_player_stats/season, /biology/organism_classification/organisms_of_this_type, /book/book_subject/works, /business/brand/owner_s|/business/company_brand_relationship/company, /business/employer/employees|/business/employment_tenure/from, /business/employer/employees|/business/employment_tenure/person, /event/public_speaker/speeches_or_presentations|/event/speech_or_presentation/speech_topic, /fictional_universe/fictional_setting/fictional_characters_born_here, /film/film_character/portrayed_in_films|/film/performance/film, /film/film_subject/films, /government/governmental_body/members|/government/government_position_held/appointed_by, /government/politician/election_campaigns, /government/us_president/vice_president, /government/us_vice_president/to_president, /language/human_language/writing_system, /location/country/internet_tld, /location/dated_location/date_founded, /location/location/events, /media_common/quotation_subject/quotations_about_this_subject, /meteorology/tropical_cyclone/tropical_cyclone_season, /military/military_combatant/casualties|/military/casualties/military_conflict, /military/military_combatant/force_deployments|/military/force_strength/military_conflict, /music/group_member/membership|/music/group_membership/end, /olympics/olympic_athlete/country|/olympics/olympic_athlete_affiliation/sport, /olympics/olympic_participating_country/athletes|/olympics/olympic_athlete_affiliation/athlete, /olympics/olympic_participating_country/medals_won|/olympics/olympic_medal_honor/medalist, /organization/organization/advisors, /organization/organization_member/member_of|/organization/organization_membership/organization, /organization/organization_scope/organizations_with_this_scope, /people/person/employment_history|/business/employment_tenure/to, /religion/deity/deity_of, /religion/religion/founding_figures, /sports/pro_athlete/sports_played_professionally|/sports/pro_sports_played/sport, /sports/sports_award_winner/awards|/sports/sports_award/season, /sports/sports_team/championships, /sports/sports_team/founded, /sports/sports_team/season_record|/sports/sports_team_season_record/season, /symbols/name_source/namesakes, /time/holiday/day_of_year, /time/recurring_event/current_frequency, /time/recurring_event/instances, /travel/travel_destination/climate|/travel/travel_destination_monthly_climate/month, /tv/tv_actor/guest_roles|/tv/tv_guest_role/episodes_appeared_in, /tv/tv_character/appeared_in_tv_program|/tv/regular_tv_appearance/seasons, /tv/tv_program/country_of_origin<br><b>outp:</b> /time/recurring_event/current_frequency: 0.821, /government/us_president/vice_president: 0.755, /sports/sports_team/championships: 0.753, /travel/travel_destination/climate|/travel/travel_destination_monthly_climate/month: 0.748, /location/country/internet_tld: 0.745<br><b>gold:</b> </li>"
       ],
       "metadata": {},
       "output_type": "display_data",
       "text": [
        "<IPython.core.display.HTML at 0x7fc4727baad0>"
       ]
      },
      {
       "html": [
        "<li><b>who plays meg in family guy?</b><br><b>in:</b> lat/person/QuestionWordLAT, sv=plays<br><b>out:</b> /automotive/company/make_s, /award/award_category/winners|/award/award_honor/award_winner, /award/award_nominated_work/award_nominations|/award/award_nomination/award_nominee, /award/award_nominee/award_nominations|/award/award_nomination/award_nominee, /award/award_winning_work/awards_won|/award/award_honor/award_winner, /boats/ship/owners|/boats/ship_ownership/owner, /book/literary_series/author_s, /book/written_work/author, /book/written_work/subjects, /broadcast/content/artist, /business/consumer_company/brands|/business/company_brand_relationship/brand, /business/employer/employees|/business/employment_tenure/person, /cvg/game_character/games|/cvg/game_performance/voice_actor, /fictional_universe/fictional_character/character_created_by, /fictional_universe/fictional_character/parents, /fictional_universe/person_in_fiction/representations_in_fiction, /film/actor/film|/film/performance/special_performance_type, /film/film/other_crew|/film/film_crew_gig/crewmember, /film/film/starring|/film/performance/actor, /film/film/written_by, /film/film_character/portrayed_in_films|/film/performance/actor, /film/person_or_entity_appearing_in_film/films|/film/personal_film_appearance/type_of_appearance, /government/political_appointer/appointees|/government/government_position_held/office_holder, /influence/influence_node/peers|/influence/peer_relationship/peers, /internet/website/owner, /law/invention/inventor, /media_common/dedicator/dedications|/media_common/dedication/dedicated_to, /music/artist/album, /music/musical_group/member|/music/group_membership/member, /organization/organization/board_members|/organization/organization_board_membership/member, /organization/organization/founders, /organization/organization/leadership|/organization/leadership/person, /organization/organization/leadership|/organization/organization/founders, /organization/organization/parent|/organization/organization_relationship/parent, /people/appointee/position|/people/appointment/appointed_by, /sports/mascot/team, /sports/professional_sports_team/owner_s, /sports/sports_award_type/winners|/sports/sports_award/award_winner, /sports/sports_championship_event/champion, /sports/sports_league/teams|/sports/sports_league_participation/team, /symbols/namesake/named_after, /tv/tv_actor/guest_roles|/tv/tv_guest_role/episodes_appeared_in, /tv/tv_actor/starring_roles|/tv/regular_tv_appearance/special_performance_type, /tv/tv_character/appeared_in_tv_episodes|/tv/tv_guest_role/actor, /tv/tv_character/appeared_in_tv_program|/tv/regular_tv_appearance/actor, /tv/tv_program/program_creator, /tv/tv_program/regular_cast|/tv/regular_tv_appearance/actor, /tv/tv_program/tv_producer|/tv/tv_producer_term/producer, /type/object/name<br><b>outp:</b> /tv/tv_character/appeared_in_tv_program|/tv/regular_tv_appearance/actor: 0.944, /film/film_character/portrayed_in_films|/film/performance/actor: 0.938, /tv/tv_character/appeared_in_tv_episodes|/tv/tv_guest_role/actor: 0.887, /film/film/starring|/film/performance/actor: 0.868, /fictional_universe/fictional_character/character_created_by: 0.862<br><b>gold:</b> /cvg/game_character/games|/cvg/game_performance/voice_actor, /film/film_character/portrayed_in_films|/film/performance/actor, /tv/tv_character/appeared_in_tv_episodes|/tv/tv_guest_role/actor, /tv/tv_character/appeared_in_tv_program|/tv/regular_tv_appearance/actor</li>"
       ],
       "metadata": {},
       "output_type": "display_data",
       "text": [
        "<IPython.core.display.HTML at 0x7fc4727ba9d0>"
       ]
      },
      {
       "html": [
        "<li><b>what stadium did the chicago cardinals play in?</b><br><b>in:</b> sv=play, lat/artifact/WordnetLAT, lat/stadium/LAT, lat/structure/WordnetLAT<br><b>out:</b> /american_football/football_coach/current_team_head_coached, /american_football/football_player/games|/american_football/player_game_statistics/team, /american_football/football_player/passing|/american_football/player_passing_statistics/team, /american_football/football_player/receiving|/american_football/player_receiving_statistics/team, /american_football/football_player/rushing|/american_football/player_rushing_statistics/team, /basketball/basketball_player/position_s, /film/actor/film|/film/performance/character, /soccer/football_player/goals_scored|/soccer/football_goal/point_awarded_to, /soccer/football_player/matches_played|/soccer/football_player_match_participation/team, /soccer/football_player/transfers|/soccer/football_player_transfer/purchasing_team, /sports/pro_athlete/teams|/sports/sports_team_roster/position, /sports/pro_athlete/teams|/sports/sports_team_roster/team, /sports/sports_team/arena_stadium, /sports/sports_team/venue|/sports/team_venue_relationship/venue<br><b>outp:</b> /sports/sports_team/venue|/sports/team_venue_relationship/venue: 0.960, /sports/sports_team/arena_stadium: 0.953, /film/actor/film|/film/performance/character: 0.673, /sports/pro_athlete/teams|/sports/sports_team_roster/team: 0.638, /soccer/football_player/goals_scored|/soccer/football_goal/point_awarded_to: 0.632<br><b>gold:</b> /sports/sports_team/arena_stadium, /sports/sports_team/venue|/sports/team_venue_relationship/venue</li>"
       ],
       "metadata": {},
       "output_type": "display_data",
       "text": [
        "<IPython.core.display.HTML at 0x7fc4727baa50>"
       ]
      },
      {
       "html": [
        "<li><b>who was the apostle paul considered to be?</b><br><b>in:</b> lat/position/WordnetLAT, lat/attitude/WordnetLAT, sv=considered, lat/cognition/WordnetLAT, lat/orientation/WordnetLAT<br><b>out:</b> /common/topic/notable_for<br><b>outp:</b> /common/topic/notable_for: 0.513, /common/topic/alias: 0.492, /olympics/olympic_participating_country/athletes|/olympics/olympic_athlete_affiliation/sport: 0.480, /sports/sport_country/athletes|/sports/competitor_country_relationship/sports: 0.480, /geography/geographical_feature/category: 0.467<br><b>gold:</b> </li>"
       ],
       "metadata": {},
       "output_type": "display_data",
       "text": [
        "<IPython.core.display.HTML at 0x7fc4727baa10>"
       ]
      },
      {
       "html": [
        "<li><b>which countries are part of the united kingdom?</b><br><b>in:</b> lat/political unit/WordnetLAT, lat/location/WordnetLAT, lat/district/WordnetLAT, lat/country/ImplicitQLAT, lat/administrative district/WordnetLAT, lat/people/WordnetLAT, lat/countries/LAT, lat/geographical area/WordnetLAT, lat/region/WordnetLAT, lat/unit/WordnetLAT, lat/organization/WordnetLAT, lat/group/WordnetLAT, lat/social group/WordnetLAT<br><b>out:</b> /aviation/airline/airports_served|/aviation/airline_airport_presence/cities_served, /geography/river/basin_countries, /government/governmental_jurisdiction/governing_officials|/government/government_position_held/district_represented, /government/political_appointer/appointees|/government/government_position_held/jurisdiction_of_office, /government/politician/government_positions_held|/government/government_position_held/jurisdiction_of_office, /language/human_language/countries_spoken_in, /language/human_language/main_country, /location/administrative_division/country, /location/administrative_division/second_level_division_of, /location/country/administrative_divisions, /location/country/first_level_divisions, /location/location/adjoin_s|/location/adjoining_relationship/adjoins, /location/location/contains, /location/location/contains_major_portion_of, /location/location/partially_contained_by|/location/partial_containment_relationship/partially_contained_by, /location/location/partially_containedby, /location/location/partially_contains, /location/location/partiallycontains|/location/partial_containment_relationship/partially_contains, /location/location/street_address|/location/mailing_address/country, /location/location/street_address|/location/mailing_address/state_province_region, /location/statistical_region/places_exported_to|/location/imports_and_exports/exported_to, /location/statistical_region/places_imported_from|/location/imports_and_exports/imported_from, /military/military_combatant/casualties|/military/casualties/combatant, /military/military_combatant/force_deployments|/military/force_strength/combatant, /military/military_combatant/includes_allies, /military/military_combatant/military_conflicts|/military/military_combatant_group/combatants, /military/military_commander/military_commands|/military/military_command/military_combatant, /organization/membership_organization/members|/organization/organization_membership/member, /organization/organization/founders, /organization/organization/headquarters|/location/mailing_address/country, /organization/organization_member/member_of|/organization/organization_membership/organization, /people/person/nationality, /royalty/monarch/kingdom, /royalty/noble_person/titles|/royalty/noble_title_tenure/noble_title, /time/time_zone/locations_in_this_time_zone, /travel/tourist_attraction/near_travel_destination, /travel/transport_terminus/travel_destinations_served|/travel/transportation/travel_destination<br><b>outp:</b> /location/location/adjoin_s|/location/adjoining_relationship/adjoins: 0.940, /location/statistical_region/places_exported_to|/location/imports_and_exports/exported_to: 0.923, /location/location/contains_major_portion_of: 0.913, /location/statistical_region/places_imported_from|/location/imports_and_exports/imported_from: 0.911, /organization/membership_organization/members|/organization/organization_membership/member: 0.907<br><b>gold:</b> /location/location/containedby</li>"
       ],
       "metadata": {},
       "output_type": "display_data",
       "text": [
        "<IPython.core.display.HTML at 0x7fc4727ba990>"
       ]
      },
      {
       "html": [
        "</ul>"
       ],
       "metadata": {},
       "output_type": "display_data",
       "text": [
        "<IPython.core.display.HTML at 0x7fc472b1c890>"
       ]
      }
     ],
     "prompt_number": 9
    },
    {
     "cell_type": "code",
     "collapsed": false,
     "input": [
      "from sklearn.linear_model import LogisticRegression\n",
      "cfier_log = OneVsRestClassifier(LogisticRegression(), n_jobs=4)\n",
      "pprint(cfier_log.fit(vtrain.X, vtrain.Y))\n",
      "demo_model(cfier_log)"
     ],
     "language": "python",
     "metadata": {},
     "outputs": [
      {
       "output_type": "stream",
       "stream": "stdout",
       "text": [
        "OneVsRestClassifier(estimator=LogisticRegression(C=1.0, class_weight=None, dual=False, fit_intercept=True,\n",
        "          intercept_scaling=1, max_iter=100, multi_class='ovr',\n",
        "          penalty='l2', random_state=None, solver='liblinear', tol=0.0001,\n",
        "          verbose=0),\n",
        "          n_jobs=4)\n"
       ]
      },
      {
       "html": [
        "<table><tr><th>dataset</th><th>qRecallAny</th><th>qRecallAll</th><th>pPrec</th><th>pScoreMRR</th></tr><tr><td>train</td><td>0.468</td><td>0.376</td><td>0.832</td><td>0.771</td></tr><tr><td>val</td><td>0.375</td><td>0.297</td><td>0.657</td><td>0.580</td></tr><tr><td>devtest</td><td>0.402</td><td>0.349</td><td>0.769</td><td>0.629</td></tr></table>"
       ],
       "metadata": {},
       "output_type": "display_data",
       "text": [
        "<IPython.core.display.HTML at 0x7fc472b1c090>"
       ]
      },
      {
       "html": [
        "<ul>"
       ],
       "metadata": {},
       "output_type": "display_data",
       "text": [
        "<IPython.core.display.HTML at 0x7fc4729aaa90>"
       ]
      },
      {
       "html": [
        "<li><b>what is the name of justin bieber brother?</b><br><b>in:</b> lat/associate/WordnetLAT, lat/relative/WordnetLAT, lat/peer/WordnetLAT, lat/member/WordnetLAT, lat/religious/WordnetLAT, lat/monk/WordnetLAT, lat/person/WordnetLAT, lat/friend/WordnetLAT, lat/kinsman/WordnetLAT, lat/brother/LAT, lat/religious person/WordnetLAT, lat/male sibling/WordnetLAT<br><b>out:</b> /people/person/sibling_s|/people/sibling_relationship/sibling<br><b>outp:</b> /people/person/sibling_s|/people/sibling_relationship/sibling: 0.622, /fictional_universe/fictional_character/siblings|/fictional_universe/sibling_relationship_of_fictional_characters/siblings: 0.160, /fictional_universe/fictional_character/romantically_involved_with|/fictional_universe/romantic_involvement/partner: 0.102, /people/person/spouse_s|/people/marriage/spouse: 0.026, /people/person/profession: 0.022<br><b>gold:</b> /people/person/sibling_s|/people/sibling_relationship/sibling</li>"
       ],
       "metadata": {},
       "output_type": "display_data",
       "text": [
        "<IPython.core.display.HTML at 0x7fc4729aa990>"
       ]
      },
      {
       "html": [
        "<li><b>where to fly into bali?</b><br><b>in:</b> sv=fly, lat/location/QuestionWordLAT<br><b>out:</b> <br><b>outp:</b> /location/location/containedby: 0.122, /people/person/places_lived|/people/place_lived/location: 0.066, /organization/organization/headquarters|/location/mailing_address/citytown: 0.062, /people/person/place_of_birth: 0.062, /type/object/name: 0.040<br><b>gold:</b> </li>"
       ],
       "metadata": {},
       "output_type": "display_data",
       "text": [
        "<IPython.core.display.HTML at 0x7fc4729aa910>"
       ]
      },
      {
       "html": [
        "<li><b>what is cher's son's name?</b><br><b>in:</b> lat/person/WordnetLAT, lat/male/WordnetLAT, lat/relative/WordnetLAT, lat/God/WordnetLAT, lat/cognition/WordnetLAT, lat/child/WordnetLAT, lat/male offspring/WordnetLAT, lat/content/WordnetLAT, lat/belief/WordnetLAT, lat/offspring/WordnetLAT, lat/son/LAT, lat/Godhead/WordnetLAT, lat/spiritual being/WordnetLAT, lat/hypostasis/WordnetLAT<br><b>out:</b> /people/person/children<br><b>outp:</b> /people/person/children: 0.528, /people/person/sibling_s|/people/sibling_relationship/sibling: 0.255, /people/person/spouse_s|/people/marriage/spouse: 0.019, /people/person/parents: 0.014, /book/book_subject/works: 0.013<br><b>gold:</b> /people/person/children</li>"
       ],
       "metadata": {},
       "output_type": "display_data",
       "text": [
        "<IPython.core.display.HTML at 0x7fc4729aa950>"
       ]
      },
      {
       "html": [
        "<li><b>what countries do people speak portuguese?</b><br><b>in:</b> lat/political unit/WordnetLAT, lat/country/ImplicitQLAT, lat/administrative district/WordnetLAT, lat/unit/WordnetLAT, lat/people/WordnetLAT, lat/organization/WordnetLAT, lat/group/WordnetLAT, lat/social group/WordnetLAT, lat/district/WordnetLAT, lat/region/WordnetLAT, lat/location/WordnetLAT, sv=speak, lat/geographical area/WordnetLAT, lat/countries/LAT<br><b>out:</b> <br><b>outp:</b> /language/human_language/countries_spoken_in: 0.480, /language/human_language/main_country: 0.454, /location/location/adjoin_s|/location/adjoining_relationship/adjoins: 0.121, /location/location/contains: 0.095, /location/statistical_region/places_exported_to|/location/imports_and_exports/exported_to: 0.082<br><b>gold:</b> /language/human_language/countries_spoken_in, /language/human_language/main_country</li>"
       ],
       "metadata": {},
       "output_type": "display_data",
       "text": [
        "<IPython.core.display.HTML at 0x7fc4729aa890>"
       ]
      },
      {
       "html": [
        "<li><b>who was vincent van gogh inspired by?</b><br><b>in:</b> sv=inspired<br><b>out:</b> <br><b>outp:</b> /influence/influence_node/influenced_by: 0.223, /people/person/profession: 0.049, /common/topic/notable_for: 0.038, /people/person/spouse_s|/people/marriage/spouse: 0.029, /travel/travel_destination/tourist_attractions: 0.029<br><b>gold:</b> /influence/influence_node/influenced_by</li>"
       ],
       "metadata": {},
       "output_type": "display_data",
       "text": [
        "<IPython.core.display.HTML at 0x7fc4729aa810>"
       ]
      },
      {
       "html": [
        "<li><b>when will oscar pistorius compete?</b><br><b>in:</b> sv=compete, lat/time/QuestionWordLAT, lat/date/QuestionWordLAT<br><b>out:</b> <br><b>outp:</b> /sports/sports_team/championships: 0.079, /time/recurring_event/current_frequency: 0.037, /government/us_president/vice_president: 0.028, /olympics/olympic_athlete/country|/olympics/olympic_athlete_affiliation/sport: 0.026, /sports/pro_athlete/sports_played_professionally|/sports/pro_sports_played/sport: 0.026<br><b>gold:</b> </li>"
       ],
       "metadata": {},
       "output_type": "display_data",
       "text": [
        "<IPython.core.display.HTML at 0x7fc4729aa850>"
       ]
      },
      {
       "html": [
        "<li><b>who plays meg in family guy?</b><br><b>in:</b> lat/person/QuestionWordLAT, sv=plays<br><b>out:</b> <br><b>outp:</b> /tv/tv_character/appeared_in_tv_program|/tv/regular_tv_appearance/actor: 0.469, /film/film_character/portrayed_in_films|/film/performance/actor: 0.399, /tv/tv_character/appeared_in_tv_episodes|/tv/tv_guest_role/actor: 0.125, /film/film/starring|/film/performance/actor: 0.082, /fictional_universe/fictional_character/character_created_by: 0.062<br><b>gold:</b> /cvg/game_character/games|/cvg/game_performance/voice_actor, /film/film_character/portrayed_in_films|/film/performance/actor, /tv/tv_character/appeared_in_tv_episodes|/tv/tv_guest_role/actor, /tv/tv_character/appeared_in_tv_program|/tv/regular_tv_appearance/actor</li>"
       ],
       "metadata": {},
       "output_type": "display_data",
       "text": [
        "<IPython.core.display.HTML at 0x7fc4729aa710>"
       ]
      },
      {
       "html": [
        "<li><b>what stadium did the chicago cardinals play in?</b><br><b>in:</b> sv=play, lat/artifact/WordnetLAT, lat/stadium/LAT, lat/structure/WordnetLAT<br><b>out:</b> /sports/sports_team/arena_stadium, /sports/sports_team/venue|/sports/team_venue_relationship/venue<br><b>outp:</b> /sports/sports_team/arena_stadium: 0.751, /sports/sports_team/venue|/sports/team_venue_relationship/venue: 0.742, /sports/pro_athlete/teams|/sports/sports_team_roster/team: 0.122, /film/actor/film|/film/performance/character: 0.057, /film/actor/film|/film/performance/film: 0.037<br><b>gold:</b> /sports/sports_team/arena_stadium, /sports/sports_team/venue|/sports/team_venue_relationship/venue</li>"
       ],
       "metadata": {},
       "output_type": "display_data",
       "text": [
        "<IPython.core.display.HTML at 0x7fc4729aa790>"
       ]
      },
      {
       "html": [
        "<li><b>who was the apostle paul considered to be?</b><br><b>in:</b> lat/position/WordnetLAT, lat/attitude/WordnetLAT, sv=considered, lat/cognition/WordnetLAT, lat/orientation/WordnetLAT<br><b>out:</b> <br><b>outp:</b> /common/topic/notable_for: 0.049, /travel/travel_destination/tourist_attractions: 0.044, /people/person/profession: 0.030, /location/location/contains: 0.020, /common/topic/alias: 0.015<br><b>gold:</b> </li>"
       ],
       "metadata": {},
       "output_type": "display_data",
       "text": [
        "<IPython.core.display.HTML at 0x7fc4729aa750>"
       ]
      },
      {
       "html": [
        "<li><b>which countries are part of the united kingdom?</b><br><b>in:</b> lat/political unit/WordnetLAT, lat/location/WordnetLAT, lat/administrative district/WordnetLAT, lat/district/WordnetLAT, lat/people/WordnetLAT, lat/countries/LAT, lat/geographical area/WordnetLAT, lat/region/WordnetLAT, lat/unit/WordnetLAT, lat/organization/WordnetLAT, lat/group/WordnetLAT, lat/social group/WordnetLAT, lat/country/ImplicitQLAT<br><b>out:</b> <br><b>outp:</b> /location/location/adjoin_s|/location/adjoining_relationship/adjoins: 0.238, /location/location/contains: 0.232, /location/statistical_region/places_exported_to|/location/imports_and_exports/exported_to: 0.140, /language/human_language/countries_spoken_in: 0.093, /location/location/partiallycontains|/location/partial_containment_relationship/partially_contains: 0.079<br><b>gold:</b> /location/location/containedby</li>"
       ],
       "metadata": {},
       "output_type": "display_data",
       "text": [
        "<IPython.core.display.HTML at 0x7fc4729aa6d0>"
       ]
      },
      {
       "html": [
        "</ul>"
       ],
       "metadata": {},
       "output_type": "display_data",
       "text": [
        "<IPython.core.display.HTML at 0x7fc4729aaa50>"
       ]
      }
     ],
     "prompt_number": 10
    },
    {
     "cell_type": "code",
     "collapsed": false,
     "input": [
      "from sklearn.linear_model import LogisticRegression\n",
      "cfier_logl1 = OneVsRestClassifier(LogisticRegression(penalty='l1'), n_jobs=4)\n",
      "pprint(cfier_logl1.fit(vtrain.X, vtrain.Y))\n",
      "demo_model(cfier_logl1)"
     ],
     "language": "python",
     "metadata": {},
     "outputs": [
      {
       "output_type": "stream",
       "stream": "stdout",
       "text": [
        "OneVsRestClassifier(estimator=LogisticRegression(C=1.0, class_weight=None, dual=False, fit_intercept=True,\n",
        "          intercept_scaling=1, max_iter=100, multi_class='ovr',\n",
        "          penalty='l1', random_state=None, solver='liblinear', tol=0.0001,\n",
        "          verbose=0),\n",
        "          n_jobs=4)\n"
       ]
      },
      {
       "html": [
        "<table><tr><th>dataset</th><th>qRecallAny</th><th>qRecallAll</th><th>pPrec</th><th>pScoreMRR</th></tr><tr><td>train</td><td>0.454</td><td>0.348</td><td>0.799</td><td>0.679</td></tr><tr><td>val</td><td>0.408</td><td>0.319</td><td>0.692</td><td>0.575</td></tr><tr><td>devtest</td><td>0.455</td><td>0.365</td><td>0.778</td><td>0.633</td></tr></table>"
       ],
       "metadata": {},
       "output_type": "display_data",
       "text": [
        "<IPython.core.display.HTML at 0x7fc499a67550>"
       ]
      },
      {
       "html": [
        "<ul>"
       ],
       "metadata": {},
       "output_type": "display_data",
       "text": [
        "<IPython.core.display.HTML at 0x7fc472891dd0>"
       ]
      },
      {
       "html": [
        "<li><b>what is the name of justin bieber brother?</b><br><b>in:</b> lat/relative/WordnetLAT, lat/monk/WordnetLAT, lat/associate/WordnetLAT, lat/religious/WordnetLAT, lat/member/WordnetLAT, lat/friend/WordnetLAT, lat/peer/WordnetLAT, lat/religious person/WordnetLAT, lat/kinsman/WordnetLAT, lat/person/WordnetLAT, lat/brother/LAT, lat/male sibling/WordnetLAT<br><b>out:</b> /people/person/sibling_s|/people/sibling_relationship/sibling<br><b>outp:</b> /people/person/sibling_s|/people/sibling_relationship/sibling: 0.500, /fictional_universe/fictional_character/romantically_involved_with|/fictional_universe/romantic_involvement/partner: 0.169, /people/person/profession: 0.023, /type/object/type: 0.021, /common/topic/notable_for: 0.018<br><b>gold:</b> /people/person/sibling_s|/people/sibling_relationship/sibling</li>"
       ],
       "metadata": {},
       "output_type": "display_data",
       "text": [
        "<IPython.core.display.HTML at 0x7fc472891d50>"
       ]
      },
      {
       "html": [
        "<li><b>where to fly into bali?</b><br><b>in:</b> sv=fly, lat/location/QuestionWordLAT<br><b>out:</b> <br><b>outp:</b> /location/location/containedby: 0.167, /people/person/places_lived|/people/place_lived/location: 0.071, /people/person/place_of_birth: 0.062, /organization/organization/headquarters|/location/mailing_address/citytown: 0.029, /people/deceased_person/place_of_death: 0.028<br><b>gold:</b> </li>"
       ],
       "metadata": {},
       "output_type": "display_data",
       "text": [
        "<IPython.core.display.HTML at 0x7fc472891c10>"
       ]
      },
      {
       "html": [
        "<li><b>what is cher's son's name?</b><br><b>in:</b> lat/person/WordnetLAT, lat/male/WordnetLAT, lat/relative/WordnetLAT, lat/God/WordnetLAT, lat/cognition/WordnetLAT, lat/child/WordnetLAT, lat/male offspring/WordnetLAT, lat/content/WordnetLAT, lat/belief/WordnetLAT, lat/offspring/WordnetLAT, lat/son/LAT, lat/Godhead/WordnetLAT, lat/spiritual being/WordnetLAT, lat/hypostasis/WordnetLAT<br><b>out:</b> /people/person/children<br><b>outp:</b> /people/person/children: 0.564, /people/person/sibling_s|/people/sibling_relationship/sibling: 0.064, /common/topic/notable_for: 0.018, /symbols/name_source/namesakes: 0.013, /sports/pro_athlete/teams|/sports/sports_team_roster/team: 0.012<br><b>gold:</b> /people/person/children</li>"
       ],
       "metadata": {},
       "output_type": "display_data",
       "text": [
        "<IPython.core.display.HTML at 0x7fc472891cd0>"
       ]
      },
      {
       "html": [
        "<li><b>what countries do people speak portuguese?</b><br><b>in:</b> lat/country/ImplicitQLAT, lat/political unit/WordnetLAT, lat/administrative district/WordnetLAT, lat/unit/WordnetLAT, lat/people/WordnetLAT, lat/organization/WordnetLAT, lat/group/WordnetLAT, lat/social group/WordnetLAT, lat/district/WordnetLAT, lat/region/WordnetLAT, lat/location/WordnetLAT, sv=speak, lat/geographical area/WordnetLAT, lat/countries/LAT<br><b>out:</b> /language/human_language/countries_spoken_in, /language/human_language/main_country<br><b>outp:</b> /language/human_language/countries_spoken_in: 0.593, /language/human_language/main_country: 0.568, /location/location/adjoin_s|/location/adjoining_relationship/adjoins: 0.148, /location/statistical_region/places_exported_to|/location/imports_and_exports/exported_to: 0.114, /location/location/contains: 0.106<br><b>gold:</b> /language/human_language/countries_spoken_in, /language/human_language/main_country</li>"
       ],
       "metadata": {},
       "output_type": "display_data",
       "text": [
        "<IPython.core.display.HTML at 0x7fc472891bd0>"
       ]
      },
      {
       "html": [
        "<li><b>who was vincent van gogh inspired by?</b><br><b>in:</b> sv=inspired<br><b>out:</b> /influence/influence_node/influenced_by<br><b>outp:</b> /influence/influence_node/influenced_by: 0.500, /influence/influence_node/influenced: 0.167, /people/person/profession: 0.056, /common/topic/notable_for: 0.029, /location/location/contains: 0.017<br><b>gold:</b> /influence/influence_node/influenced_by</li>"
       ],
       "metadata": {},
       "output_type": "display_data",
       "text": [
        "<IPython.core.display.HTML at 0x7fc472891b50>"
       ]
      },
      {
       "html": [
        "<li><b>when will oscar pistorius compete?</b><br><b>in:</b> sv=compete, lat/time/QuestionWordLAT, lat/date/QuestionWordLAT<br><b>out:</b> <br><b>outp:</b> /sports/pro_athlete/sports_played_professionally|/sports/pro_sports_played/sport: 0.051, /olympics/olympic_athlete/country|/olympics/olympic_athlete_affiliation/sport: 0.051, /sports/sports_team/championships: 0.047, /time/recurring_event/current_frequency: 0.033, /government/us_president/vice_president: 0.025<br><b>gold:</b> </li>"
       ],
       "metadata": {},
       "output_type": "display_data",
       "text": [
        "<IPython.core.display.HTML at 0x7fc472891b90>"
       ]
      },
      {
       "html": [
        "<li><b>who plays meg in family guy?</b><br><b>in:</b> lat/person/QuestionWordLAT, sv=plays<br><b>out:</b> /tv/tv_character/appeared_in_tv_program|/tv/regular_tv_appearance/actor<br><b>outp:</b> /tv/tv_character/appeared_in_tv_program|/tv/regular_tv_appearance/actor: 0.500, /film/film_character/portrayed_in_films|/film/performance/actor: 0.417, /tv/tv_character/appeared_in_tv_episodes|/tv/tv_guest_role/actor: 0.146, /film/film/starring|/film/performance/actor: 0.083, /cvg/game_character/games|/cvg/game_performance/voice_actor: 0.063<br><b>gold:</b> /cvg/game_character/games|/cvg/game_performance/voice_actor, /film/film_character/portrayed_in_films|/film/performance/actor, /tv/tv_character/appeared_in_tv_episodes|/tv/tv_guest_role/actor, /tv/tv_character/appeared_in_tv_program|/tv/regular_tv_appearance/actor</li>"
       ],
       "metadata": {},
       "output_type": "display_data",
       "text": [
        "<IPython.core.display.HTML at 0x7fc472891a10>"
       ]
      },
      {
       "html": [
        "<li><b>what stadium did the chicago cardinals play in?</b><br><b>in:</b> sv=play, lat/artifact/WordnetLAT, lat/stadium/LAT, lat/structure/WordnetLAT<br><b>out:</b> /sports/sports_team/arena_stadium, /sports/sports_team/venue|/sports/team_venue_relationship/venue<br><b>outp:</b> /sports/sports_team/venue|/sports/team_venue_relationship/venue: 0.989, /sports/sports_team/arena_stadium: 0.988, /film/actor/film|/film/performance/character: 0.081, /sports/pro_athlete/teams|/sports/sports_team_roster/team: 0.053, /film/actor/film|/film/performance/film: 0.024<br><b>gold:</b> /sports/sports_team/arena_stadium, /sports/sports_team/venue|/sports/team_venue_relationship/venue</li>"
       ],
       "metadata": {},
       "output_type": "display_data",
       "text": [
        "<IPython.core.display.HTML at 0x7fc472891b10>"
       ]
      },
      {
       "html": [
        "<li><b>who was the apostle paul considered to be?</b><br><b>in:</b> lat/position/WordnetLAT, lat/attitude/WordnetLAT, sv=considered, lat/cognition/WordnetLAT, lat/orientation/WordnetLAT<br><b>out:</b> <br><b>outp:</b> /common/topic/notable_for: 0.029, /people/person/profession: 0.025, /location/location/contains: 0.017, /book/book_subject/works: 0.011, /travel/travel_destination/tourist_attractions: 0.010<br><b>gold:</b> </li>"
       ],
       "metadata": {},
       "output_type": "display_data",
       "text": [
        "<IPython.core.display.HTML at 0x7fc472891ad0>"
       ]
      },
      {
       "html": [
        "<li><b>which countries are part of the united kingdom?</b><br><b>in:</b> lat/country/ImplicitQLAT, lat/political unit/WordnetLAT, lat/district/WordnetLAT, lat/administrative district/WordnetLAT, lat/people/WordnetLAT, lat/location/WordnetLAT, lat/countries/LAT, lat/geographical area/WordnetLAT, lat/region/WordnetLAT, lat/unit/WordnetLAT, lat/organization/WordnetLAT, lat/group/WordnetLAT, lat/social group/WordnetLAT<br><b>out:</b> <br><b>outp:</b> /location/location/adjoin_s|/location/adjoining_relationship/adjoins: 0.206, /location/location/contains: 0.195, /location/statistical_region/places_exported_to|/location/imports_and_exports/exported_to: 0.114, /language/human_language/countries_spoken_in: 0.068, /people/person/nationality: 0.064<br><b>gold:</b> /location/location/containedby</li>"
       ],
       "metadata": {},
       "output_type": "display_data",
       "text": [
        "<IPython.core.display.HTML at 0x7fc4728919d0>"
       ]
      },
      {
       "html": [
        "</ul>"
       ],
       "metadata": {},
       "output_type": "display_data",
       "text": [
        "<IPython.core.display.HTML at 0x7fc472891d10>"
       ]
      }
     ],
     "prompt_number": 23
    },
    {
     "cell_type": "code",
     "collapsed": false,
     "input": [
      "from sklearn.svm import SVC\n",
      "cfier_svcp = OneVsRestClassifier(SVC(kernel='linear', probability=True), n_jobs=4)\n",
      "pprint(cfier_svcp.fit(vtrain.X, vtrain.Y))\n",
      "demo_model(cfier_svcp)"
     ],
     "language": "python",
     "metadata": {},
     "outputs": [
      {
       "output_type": "stream",
       "stream": "stdout",
       "text": [
        "OneVsRestClassifier(estimator=SVC(C=1.0, cache_size=200, class_weight=None, coef0=0.0, degree=3, gamma=0.0,\n",
        "  kernel='linear', max_iter=-1, probability=True, random_state=None,\n",
        "  shrinking=True, tol=0.001, verbose=False),\n",
        "          n_jobs=4)\n"
       ]
      },
      {
       "html": [
        "<table><tr><th>dataset</th><th>qRecallAny</th><th>qRecallAll</th><th>pPrec</th><th>pScoreMRR</th></tr><tr><td>train</td><td>0.665</td><td>0.560</td><td>0.851</td><td>0.695</td></tr><tr><td>val</td><td>0.474</td><td>0.366</td><td>0.565</td><td>0.501</td></tr><tr><td>devtest</td><td>0.556</td><td>0.466</td><td>0.638</td><td>0.592</td></tr></table>"
       ],
       "metadata": {},
       "output_type": "display_data",
       "text": [
        "<IPython.core.display.HTML at 0x7f8020344350>"
       ]
      },
      {
       "html": [
        "<ul>"
       ],
       "metadata": {},
       "output_type": "display_data",
       "text": [
        "<IPython.core.display.HTML at 0x7f80208911d0>"
       ]
      },
      {
       "html": [
        "<li><b>what is the name of justin bieber brother?</b><br><b>in:</b> lat/friend/WordnetLAT, lat/peer/WordnetLAT, lat/monk/WordnetLAT, lat/person/WordnetLAT, lat/religious/WordnetLAT, lat/religious person/WordnetLAT, lat/member/WordnetLAT, lat/kinsman/WordnetLAT, lat/male sibling/WordnetLAT, lat/brother/LAT, lat/associate/WordnetLAT, lat/relative/WordnetLAT<br><b>out:</b> /people/person/sibling_s|/people/sibling_relationship/sibling<br><b>outp:</b> /people/person/sibling_s|/people/sibling_relationship/sibling: 0.433, /people/person/profession: 0.037, /sports/pro_athlete/teams|/sports/sports_team_roster/team: 0.024, /common/topic/notable_for: 0.023, /location/location/containedby: 0.023<br><b>gold:</b> /people/person/sibling_s|/people/sibling_relationship/sibling</li>"
       ],
       "metadata": {},
       "output_type": "display_data",
       "text": [
        "<IPython.core.display.HTML at 0x7f8020891fd0>"
       ]
      },
      {
       "html": [
        "<li><b>where to fly into bali?</b><br><b>in:</b> sv=fly, lat/location/QuestionWordLAT<br><b>out:</b> <br><b>outp:</b> /people/person/place_of_birth: 0.049, /location/location/containedby: 0.046, /people/person/places_lived|/people/place_lived/location: 0.042, /people/person/profession: 0.040, /people/person/nationality: 0.027<br><b>gold:</b> </li>"
       ],
       "metadata": {},
       "output_type": "display_data",
       "text": [
        "<IPython.core.display.HTML at 0x7f8020891d10>"
       ]
      },
      {
       "html": [
        "<li><b>what is cher's son's name?</b><br><b>in:</b> lat/relative/WordnetLAT, lat/cognition/WordnetLAT, lat/child/WordnetLAT, lat/male offspring/WordnetLAT, lat/content/WordnetLAT, lat/belief/WordnetLAT, lat/offspring/WordnetLAT, lat/son/LAT, lat/Godhead/WordnetLAT, lat/person/WordnetLAT, lat/spiritual being/WordnetLAT, lat/male/WordnetLAT, lat/hypostasis/WordnetLAT, lat/God/WordnetLAT<br><b>out:</b> /people/person/children<br><b>outp:</b> /people/person/children: 0.514, /location/location/containedby: 0.038, /people/person/profession: 0.033, /film/film_character/portrayed_in_films|/film/performance/actor: 0.017, /location/location/contains: 0.016<br><b>gold:</b> /people/person/children</li>"
       ],
       "metadata": {},
       "output_type": "display_data",
       "text": [
        "<IPython.core.display.HTML at 0x7f8020891f50>"
       ]
      },
      {
       "html": [
        "<li><b>what countries do people speak portuguese?</b><br><b>in:</b> lat/country/ImplicitQLAT, lat/administrative district/WordnetLAT, lat/unit/WordnetLAT, lat/people/WordnetLAT, lat/organization/WordnetLAT, lat/group/WordnetLAT, lat/social group/WordnetLAT, lat/district/WordnetLAT, lat/region/WordnetLAT, lat/location/WordnetLAT, sv=speak, lat/political unit/WordnetLAT, lat/geographical area/WordnetLAT, lat/countries/LAT<br><b>out:</b> /language/human_language/countries_spoken_in, /language/human_language/main_country<br><b>outp:</b> /language/human_language/countries_spoken_in: 0.914, /language/human_language/main_country: 0.723, /people/person/place_of_birth: 0.042, /people/person/places_lived|/people/place_lived/location: 0.042, /location/location/containedby: 0.036<br><b>gold:</b> /language/human_language/countries_spoken_in, /language/human_language/main_country</li>"
       ],
       "metadata": {},
       "output_type": "display_data",
       "text": [
        "<IPython.core.display.HTML at 0x7f8020891d90>"
       ]
      },
      {
       "html": [
        "<li><b>who was vincent van gogh inspired by?</b><br><b>in:</b> sv=inspired<br><b>out:</b> /influence/influence_node/influenced_by<br><b>outp:</b> /influence/influence_node/influenced_by: 0.873, /location/location/containedby: 0.030, /location/location/contains: 0.026, /common/topic/notable_for: 0.023, /type/object/type: 0.018<br><b>gold:</b> /influence/influence_node/influenced_by</li>"
       ],
       "metadata": {},
       "output_type": "display_data",
       "text": [
        "<IPython.core.display.HTML at 0x7f8020891b90>"
       ]
      },
      {
       "html": [
        "<li><b>when will oscar pistorius compete?</b><br><b>in:</b> sv=compete, lat/time/QuestionWordLAT, lat/date/QuestionWordLAT<br><b>out:</b> <br><b>outp:</b> /sports/pro_athlete/sports_played_professionally|/sports/pro_sports_played/sport: 0.268, /sports/sports_team/championships: 0.031, /people/person/nationality: 0.027, /location/location/contains: 0.026, /common/topic/notable_for: 0.025<br><b>gold:</b> </li>"
       ],
       "metadata": {},
       "output_type": "display_data",
       "text": [
        "<IPython.core.display.HTML at 0x7f8020891c90>"
       ]
      },
      {
       "html": [
        "<li><b>who plays meg in family guy?</b><br><b>in:</b> lat/person/QuestionWordLAT, sv=plays<br><b>out:</b> /tv/tv_character/appeared_in_tv_program|/tv/regular_tv_appearance/actor<br><b>outp:</b> /tv/tv_character/appeared_in_tv_program|/tv/regular_tv_appearance/actor: 0.442, /people/person/profession: 0.040, /location/location/containedby: 0.030, /location/location/contains: 0.026, /common/topic/notable_for: 0.025<br><b>gold:</b> /cvg/game_character/games|/cvg/game_performance/voice_actor, /film/film_character/portrayed_in_films|/film/performance/actor, /tv/tv_character/appeared_in_tv_episodes|/tv/tv_guest_role/actor, /tv/tv_character/appeared_in_tv_program|/tv/regular_tv_appearance/actor</li>"
       ],
       "metadata": {},
       "output_type": "display_data",
       "text": [
        "<IPython.core.display.HTML at 0x7f8020891890>"
       ]
      },
      {
       "html": [
        "<li><b>what stadium did the chicago cardinals play in?</b><br><b>in:</b> sv=play, lat/artifact/WordnetLAT, lat/stadium/LAT, lat/structure/WordnetLAT<br><b>out:</b> /sports/sports_team/arena_stadium, /sports/sports_team/venue|/sports/team_venue_relationship/venue<br><b>outp:</b> /sports/sports_team/venue|/sports/team_venue_relationship/venue: 1.000, /sports/sports_team/arena_stadium: 0.921, /sports/pro_athlete/teams|/sports/sports_team_roster/team: 0.061, /film/actor/film|/film/performance/character: 0.038, /location/location/contains: 0.023<br><b>gold:</b> /sports/sports_team/arena_stadium, /sports/sports_team/venue|/sports/team_venue_relationship/venue</li>"
       ],
       "metadata": {},
       "output_type": "display_data",
       "text": [
        "<IPython.core.display.HTML at 0x7f8020891a10>"
       ]
      },
      {
       "html": [
        "<li><b>who was the apostle paul considered to be?</b><br><b>in:</b> lat/position/WordnetLAT, lat/attitude/WordnetLAT, sv=considered, lat/cognition/WordnetLAT, lat/orientation/WordnetLAT<br><b>out:</b> <br><b>outp:</b> /location/location/containedby: 0.033, /people/person/profession: 0.024, /location/location/contains: 0.022, /common/topic/notable_for: 0.019, /travel/travel_destination/tourist_attractions: 0.018<br><b>gold:</b> </li>"
       ],
       "metadata": {},
       "output_type": "display_data",
       "text": [
        "<IPython.core.display.HTML at 0x7f8020891950>"
       ]
      },
      {
       "html": [
        "<li><b>which countries are part of the united kingdom?</b><br><b>in:</b> lat/political unit/WordnetLAT, lat/people/WordnetLAT, lat/countries/LAT, lat/geographical area/WordnetLAT, lat/region/WordnetLAT, lat/unit/WordnetLAT, lat/organization/WordnetLAT, lat/group/WordnetLAT, lat/social group/WordnetLAT, lat/district/WordnetLAT, lat/administrative district/WordnetLAT, lat/country/ImplicitQLAT, lat/location/WordnetLAT<br><b>out:</b> <br><b>outp:</b> /location/location/containedby: 0.046, /people/person/place_of_birth: 0.042, /people/person/places_lived|/people/place_lived/location: 0.042, /location/location/contains: 0.031, /people/person/nationality: 0.027<br><b>gold:</b> /location/location/containedby</li>"
       ],
       "metadata": {},
       "output_type": "display_data",
       "text": [
        "<IPython.core.display.HTML at 0x7f8020891c50>"
       ]
      },
      {
       "html": [
        "</ul>"
       ],
       "metadata": {},
       "output_type": "display_data",
       "text": [
        "<IPython.core.display.HTML at 0x7f80208919d0>"
       ]
      }
     ],
     "prompt_number": 224
    },
    {
     "cell_type": "code",
     "collapsed": false,
     "input": [
      "from sklearn.svm import SVC\n",
      "cfier_svcrp = OneVsRestClassifier(SVC(kernel='rbf', probability=True), n_jobs=4)\n",
      "pprint(cfier_svcrp.fit(vtrain.X, vtrain.Y))\n",
      "demo_model(cfier_svcrp)"
     ],
     "language": "python",
     "metadata": {},
     "outputs": [
      {
       "output_type": "stream",
       "stream": "stdout",
       "text": [
        "OneVsRestClassifier(estimator=SVC(C=1.0, cache_size=200, class_weight=None, coef0=0.0, degree=3, gamma=0.0,\n",
        "  kernel='rbf', max_iter=-1, probability=True, random_state=None,\n",
        "  shrinking=True, tol=0.001, verbose=False),\n",
        "          n_jobs=4)\n"
       ]
      },
      {
       "output_type": "stream",
       "stream": "stderr",
       "text": [
        "-c:15: RuntimeWarning: invalid value encountered in divide\n"
       ]
      },
      {
       "html": [
        "<table><tr><th>dataset</th><th>qRecallAny</th><th>qRecallAll</th><th>pPrec</th><th>pScoreMRR</th></tr><tr><td>train</td><td>0.090</td><td>0.090</td><td>nan</td><td>0.559</td></tr><tr><td>val</td><td>0.135</td><td>0.135</td><td>nan</td><td>0.420</td></tr><tr><td>devtest</td><td>0.132</td><td>0.132</td><td>nan</td><td>0.501</td></tr></table>"
       ],
       "metadata": {},
       "output_type": "display_data",
       "text": [
        "<IPython.core.display.HTML at 0x7f8020344310>"
       ]
      },
      {
       "html": [
        "<ul>"
       ],
       "metadata": {},
       "output_type": "display_data",
       "text": [
        "<IPython.core.display.HTML at 0x7f8020db6c50>"
       ]
      },
      {
       "html": [
        "<li><b>what is the name of justin bieber brother?</b><br><b>in:</b> lat/monk/WordnetLAT, lat/brother/LAT, lat/male sibling/WordnetLAT, lat/kinsman/WordnetLAT, lat/friend/WordnetLAT, lat/member/WordnetLAT, lat/religious person/WordnetLAT, lat/peer/WordnetLAT, lat/religious/WordnetLAT, lat/associate/WordnetLAT, lat/person/WordnetLAT, lat/relative/WordnetLAT<br><b>out:</b> <br><b>outp:</b> /people/person/sibling_s|/people/sibling_relationship/sibling: 0.045, /people/person/profession: 0.037, /location/location/containedby: 0.035, /organization/organization/headquarters|/location/mailing_address/citytown: 0.029, /location/location/contains: 0.028<br><b>gold:</b> /people/person/sibling_s|/people/sibling_relationship/sibling</li>"
       ],
       "metadata": {},
       "output_type": "display_data",
       "text": [
        "<IPython.core.display.HTML at 0x7f8020013f10>"
       ]
      },
      {
       "html": [
        "<li><b>where to fly into bali?</b><br><b>in:</b> lat/location/QuestionWordLAT, sv=fly<br><b>out:</b> <br><b>outp:</b> /organization/organization/headquarters|/location/mailing_address/citytown: 0.301, /people/person/places_lived|/people/place_lived/location: 0.046, /people/deceased_person/place_of_death: 0.045, /people/person/nationality: 0.040, /location/location/containedby: 0.039<br><b>gold:</b> </li>"
       ],
       "metadata": {},
       "output_type": "display_data",
       "text": [
        "<IPython.core.display.HTML at 0x7f801f655090>"
       ]
      },
      {
       "html": [
        "<li><b>what is cher's son's name?</b><br><b>in:</b> lat/hypostasis/WordnetLAT, lat/son/LAT, lat/male/WordnetLAT, lat/cognition/WordnetLAT, lat/child/WordnetLAT, lat/male offspring/WordnetLAT, lat/content/WordnetLAT, lat/person/WordnetLAT, lat/belief/WordnetLAT, lat/offspring/WordnetLAT, lat/spiritual being/WordnetLAT, lat/Godhead/WordnetLAT, lat/relative/WordnetLAT, lat/God/WordnetLAT<br><b>out:</b> <br><b>outp:</b> /people/person/children: 0.240, /location/location/containedby: 0.035, /people/person/profession: 0.033, /organization/organization/headquarters|/location/mailing_address/citytown: 0.030, /location/location/contains: 0.027<br><b>gold:</b> /people/person/children</li>"
       ],
       "metadata": {},
       "output_type": "display_data",
       "text": [
        "<IPython.core.display.HTML at 0x7f80208b9990>"
       ]
      },
      {
       "html": [
        "<li><b>what countries do people speak portuguese?</b><br><b>in:</b> lat/geographical area/WordnetLAT, lat/country/ImplicitQLAT, lat/administrative district/WordnetLAT, lat/unit/WordnetLAT, lat/people/WordnetLAT, lat/political unit/WordnetLAT, lat/organization/WordnetLAT, lat/group/WordnetLAT, lat/social group/WordnetLAT, lat/district/WordnetLAT, lat/region/WordnetLAT, lat/location/WordnetLAT, sv=speak, lat/countries/LAT<br><b>out:</b> <br><b>outp:</b> /language/human_language/main_country: 0.666, /language/human_language/countries_spoken_in: 0.641, /location/location/containedby: 0.035, /people/person/profession: 0.033, /people/person/places_lived|/people/place_lived/location: 0.031<br><b>gold:</b> /language/human_language/countries_spoken_in, /language/human_language/main_country</li>"
       ],
       "metadata": {},
       "output_type": "display_data",
       "text": [
        "<IPython.core.display.HTML at 0x7f80208b9110>"
       ]
      },
      {
       "html": [
        "<li><b>who was vincent van gogh inspired by?</b><br><b>in:</b> sv=inspired<br><b>out:</b> <br><b>outp:</b> /influence/influence_node/influenced_by: 0.104, /location/location/containedby: 0.043, /people/person/profession: 0.035, /organization/organization/headquarters|/location/mailing_address/citytown: 0.029, /location/location/contains: 0.029<br><b>gold:</b> /influence/influence_node/influenced_by</li>"
       ],
       "metadata": {},
       "output_type": "display_data",
       "text": [
        "<IPython.core.display.HTML at 0x7f8020934e50>"
       ]
      },
      {
       "html": [
        "<li><b>when will oscar pistorius compete?</b><br><b>in:</b> sv=compete, lat/time/QuestionWordLAT, lat/date/QuestionWordLAT<br><b>out:</b> <br><b>outp:</b> /sports/pro_athlete/sports_played_professionally|/sports/pro_sports_played/sport: 0.454, /olympics/olympic_athlete/country|/olympics/olympic_athlete_affiliation/sport: 0.215, /people/person/profession: 0.036, /location/location/containedby: 0.035, /organization/organization/headquarters|/location/mailing_address/citytown: 0.029<br><b>gold:</b> </li>"
       ],
       "metadata": {},
       "output_type": "display_data",
       "text": [
        "<IPython.core.display.HTML at 0x7f8020934ed0>"
       ]
      },
      {
       "html": [
        "<li><b>who plays meg in family guy?</b><br><b>in:</b> lat/person/QuestionWordLAT, sv=plays<br><b>out:</b> <br><b>outp:</b> /location/location/containedby: 0.043, /people/person/profession: 0.038, /tv/tv_character/appeared_in_tv_program|/tv/regular_tv_appearance/actor: 0.033, /organization/organization/headquarters|/location/mailing_address/citytown: 0.029, /location/location/contains: 0.029<br><b>gold:</b> /cvg/game_character/games|/cvg/game_performance/voice_actor, /film/film_character/portrayed_in_films|/film/performance/actor, /tv/tv_character/appeared_in_tv_episodes|/tv/tv_guest_role/actor, /tv/tv_character/appeared_in_tv_program|/tv/regular_tv_appearance/actor</li>"
       ],
       "metadata": {},
       "output_type": "display_data",
       "text": [
        "<IPython.core.display.HTML at 0x7f8020934890>"
       ]
      },
      {
       "html": [
        "<li><b>what stadium did the chicago cardinals play in?</b><br><b>in:</b> sv=play, lat/artifact/WordnetLAT, lat/stadium/LAT, lat/structure/WordnetLAT<br><b>out:</b> <br><b>outp:</b> /sports/sports_team/venue|/sports/team_venue_relationship/venue: 0.966, /sports/sports_team/arena_stadium: 0.728, /people/person/education|/education/education/institution: 0.087, /soccer/football_player/matches_played|/soccer/football_player_match_participation/team: 0.043, /people/person/profession: 0.034<br><b>gold:</b> /sports/sports_team/arena_stadium, /sports/sports_team/venue|/sports/team_venue_relationship/venue</li>"
       ],
       "metadata": {},
       "output_type": "display_data",
       "text": [
        "<IPython.core.display.HTML at 0x7f8020934b90>"
       ]
      },
      {
       "html": [
        "<li><b>who was the apostle paul considered to be?</b><br><b>in:</b> lat/position/WordnetLAT, lat/attitude/WordnetLAT, sv=considered, lat/cognition/WordnetLAT, lat/orientation/WordnetLAT<br><b>out:</b> <br><b>outp:</b> /travel/travel_destination/tourist_attractions: 0.069, /location/location/containedby: 0.038, /people/person/profession: 0.032, /organization/organization/headquarters|/location/mailing_address/citytown: 0.029, /location/location/contains: 0.026<br><b>gold:</b> </li>"
       ],
       "metadata": {},
       "output_type": "display_data",
       "text": [
        "<IPython.core.display.HTML at 0x7f8020934990>"
       ]
      },
      {
       "html": [
        "<li><b>which countries are part of the united kingdom?</b><br><b>in:</b> lat/country/ImplicitQLAT, lat/political unit/WordnetLAT, lat/people/WordnetLAT, lat/countries/LAT, lat/geographical area/WordnetLAT, lat/region/WordnetLAT, lat/unit/WordnetLAT, lat/location/WordnetLAT, lat/organization/WordnetLAT, lat/group/WordnetLAT, lat/social group/WordnetLAT, lat/district/WordnetLAT, lat/administrative district/WordnetLAT<br><b>out:</b> <br><b>outp:</b> /location/location/containedby: 0.041, /language/human_language/main_country: 0.035, /people/person/profession: 0.034, /people/person/places_lived|/people/place_lived/location: 0.031, /people/person/place_of_birth: 0.031<br><b>gold:</b> /location/location/containedby</li>"
       ],
       "metadata": {},
       "output_type": "display_data",
       "text": [
        "<IPython.core.display.HTML at 0x7f8020b34550>"
       ]
      },
      {
       "html": [
        "</ul>"
       ],
       "metadata": {},
       "output_type": "display_data",
       "text": [
        "<IPython.core.display.HTML at 0x7f8020013410>"
       ]
      }
     ],
     "prompt_number": 225
    },
    {
     "cell_type": "code",
     "collapsed": false,
     "input": [
      "from sklearn.svm import SVC\n",
      "cfier_svcpp = OneVsRestClassifier(SVC(kernel='poly', probability=True), n_jobs=4)\n",
      "pprint(cfier_svcpp.fit(vtrain.X, vtrain.Y))\n",
      "demo_model(cfier_svcpp)"
     ],
     "language": "python",
     "metadata": {},
     "outputs": [
      {
       "output_type": "stream",
       "stream": "stdout",
       "text": [
        "OneVsRestClassifier(estimator=SVC(C=1.0, cache_size=200, class_weight=None, coef0=0.0, degree=3, gamma=0.0,\n",
        "  kernel='poly', max_iter=-1, probability=True, random_state=None,\n",
        "  shrinking=True, tol=0.001, verbose=False),\n",
        "          n_jobs=4)\n"
       ]
      },
      {
       "html": [
        "<table><tr><th>dataset</th><th>qRecallAny</th><th>qRecallAll</th><th>pPrec</th><th>pScoreMRR</th></tr><tr><td>train</td><td>0.090</td><td>0.090</td><td>nan</td><td>0.050</td></tr><tr><td>val</td><td>0.135</td><td>0.135</td><td>nan</td><td>0.042</td></tr><tr><td>devtest</td><td>0.132</td><td>0.132</td><td>nan</td><td>0.049</td></tr></table>"
       ],
       "metadata": {},
       "output_type": "display_data",
       "text": [
        "<IPython.core.display.HTML at 0x7f80206505d0>"
       ]
      },
      {
       "html": [
        "<ul>"
       ],
       "metadata": {},
       "output_type": "display_data",
       "text": [
        "<IPython.core.display.HTML at 0x7f8020db6e90>"
       ]
      },
      {
       "html": [
        "<li><b>what is the name of justin bieber brother?</b><br><b>in:</b> lat/religious/WordnetLAT, lat/peer/WordnetLAT, lat/relative/WordnetLAT, lat/person/WordnetLAT, lat/member/WordnetLAT, lat/religious person/WordnetLAT, lat/friend/WordnetLAT, lat/associate/WordnetLAT, lat/male sibling/WordnetLAT, lat/kinsman/WordnetLAT, lat/brother/LAT, lat/monk/WordnetLAT<br><b>out:</b> <br><b>outp:</b> /award/award_winner/awards_won|/award/award_honor/award: 1.000, /award/award_winner/awards_won|/award/award_honor/honored_for: 1.000, /basketball/basketball_player/player_statistics|/basketball/basketball_player_stats/season: 1.000, /film/actor/film|/film/performance/film: 1.000, /government/political_district/representatives|/government/government_position_held/office_holder: 1.000<br><b>gold:</b> /people/person/sibling_s|/people/sibling_relationship/sibling</li>"
       ],
       "metadata": {},
       "output_type": "display_data",
       "text": [
        "<IPython.core.display.HTML at 0x7f802093cf10>"
       ]
      },
      {
       "html": [
        "<li><b>where to fly into bali?</b><br><b>in:</b> sv=fly, lat/location/QuestionWordLAT<br><b>out:</b> <br><b>outp:</b> /award/award_winner/awards_won|/award/award_honor/award: 1.000, /award/award_winner/awards_won|/award/award_honor/honored_for: 1.000, /basketball/basketball_player/player_statistics|/basketball/basketball_player_stats/season: 1.000, /film/actor/film|/film/performance/film: 1.000, /government/political_district/representatives|/government/government_position_held/office_holder: 1.000<br><b>gold:</b> </li>"
       ],
       "metadata": {},
       "output_type": "display_data",
       "text": [
        "<IPython.core.display.HTML at 0x7f8020787910>"
       ]
      },
      {
       "html": [
        "<li><b>what is cher's son's name?</b><br><b>in:</b> lat/belief/WordnetLAT, lat/God/WordnetLAT, lat/relative/WordnetLAT, lat/content/WordnetLAT, lat/male offspring/WordnetLAT, lat/person/WordnetLAT, lat/male/WordnetLAT, lat/offspring/WordnetLAT, lat/cognition/WordnetLAT, lat/child/WordnetLAT, lat/Godhead/WordnetLAT, lat/spiritual being/WordnetLAT, lat/hypostasis/WordnetLAT, lat/son/LAT<br><b>out:</b> <br><b>outp:</b> /award/award_winner/awards_won|/award/award_honor/award: 1.000, /award/award_winner/awards_won|/award/award_honor/honored_for: 1.000, /basketball/basketball_player/player_statistics|/basketball/basketball_player_stats/season: 1.000, /film/actor/film|/film/performance/film: 1.000, /government/political_district/representatives|/government/government_position_held/office_holder: 1.000<br><b>gold:</b> /people/person/children</li>"
       ],
       "metadata": {},
       "output_type": "display_data",
       "text": [
        "<IPython.core.display.HTML at 0x7f802093c910>"
       ]
      },
      {
       "html": [
        "<li><b>what countries do people speak portuguese?</b><br><b>in:</b> lat/district/WordnetLAT, lat/country/ImplicitQLAT, lat/administrative district/WordnetLAT, lat/political unit/WordnetLAT, lat/unit/WordnetLAT, lat/social group/WordnetLAT, lat/organization/WordnetLAT, lat/group/WordnetLAT, lat/people/WordnetLAT, lat/region/WordnetLAT, lat/location/WordnetLAT, lat/countries/LAT, lat/geographical area/WordnetLAT, sv=speak<br><b>out:</b> <br><b>outp:</b> /award/award_winner/awards_won|/award/award_honor/award: 1.000, /award/award_winner/awards_won|/award/award_honor/honored_for: 1.000, /basketball/basketball_player/player_statistics|/basketball/basketball_player_stats/season: 1.000, /film/actor/film|/film/performance/film: 1.000, /government/political_district/representatives|/government/government_position_held/office_holder: 1.000<br><b>gold:</b> /language/human_language/countries_spoken_in, /language/human_language/main_country</li>"
       ],
       "metadata": {},
       "output_type": "display_data",
       "text": [
        "<IPython.core.display.HTML at 0x7f802093c2d0>"
       ]
      },
      {
       "html": [
        "<li><b>who was vincent van gogh inspired by?</b><br><b>in:</b> sv=inspired<br><b>out:</b> <br><b>outp:</b> /award/award_winner/awards_won|/award/award_honor/award: 1.000, /award/award_winner/awards_won|/award/award_honor/honored_for: 1.000, /basketball/basketball_player/player_statistics|/basketball/basketball_player_stats/season: 1.000, /film/actor/film|/film/performance/film: 1.000, /government/political_district/representatives|/government/government_position_held/office_holder: 1.000<br><b>gold:</b> /influence/influence_node/influenced_by</li>"
       ],
       "metadata": {},
       "output_type": "display_data",
       "text": [
        "<IPython.core.display.HTML at 0x7f802093c050>"
       ]
      },
      {
       "html": [
        "<li><b>when will oscar pistorius compete?</b><br><b>in:</b> lat/date/QuestionWordLAT, lat/time/QuestionWordLAT, sv=compete<br><b>out:</b> <br><b>outp:</b> /award/award_winner/awards_won|/award/award_honor/award: 1.000, /award/award_winner/awards_won|/award/award_honor/honored_for: 1.000, /basketball/basketball_player/player_statistics|/basketball/basketball_player_stats/season: 1.000, /film/actor/film|/film/performance/film: 1.000, /government/political_district/representatives|/government/government_position_held/office_holder: 1.000<br><b>gold:</b> </li>"
       ],
       "metadata": {},
       "output_type": "display_data",
       "text": [
        "<IPython.core.display.HTML at 0x7f801ed8a350>"
       ]
      },
      {
       "html": [
        "<li><b>who plays meg in family guy?</b><br><b>in:</b> sv=plays, lat/person/QuestionWordLAT<br><b>out:</b> <br><b>outp:</b> /award/award_winner/awards_won|/award/award_honor/award: 1.000, /award/award_winner/awards_won|/award/award_honor/honored_for: 1.000, /basketball/basketball_player/player_statistics|/basketball/basketball_player_stats/season: 1.000, /film/actor/film|/film/performance/film: 1.000, /government/political_district/representatives|/government/government_position_held/office_holder: 1.000<br><b>gold:</b> /cvg/game_character/games|/cvg/game_performance/voice_actor, /film/film_character/portrayed_in_films|/film/performance/actor, /tv/tv_character/appeared_in_tv_episodes|/tv/tv_guest_role/actor, /tv/tv_character/appeared_in_tv_program|/tv/regular_tv_appearance/actor</li>"
       ],
       "metadata": {},
       "output_type": "display_data",
       "text": [
        "<IPython.core.display.HTML at 0x7f8020344310>"
       ]
      },
      {
       "html": [
        "<li><b>what stadium did the chicago cardinals play in?</b><br><b>in:</b> sv=play, lat/stadium/LAT, lat/artifact/WordnetLAT, lat/structure/WordnetLAT<br><b>out:</b> <br><b>outp:</b> /award/award_winner/awards_won|/award/award_honor/award: 1.000, /award/award_winner/awards_won|/award/award_honor/honored_for: 1.000, /basketball/basketball_player/player_statistics|/basketball/basketball_player_stats/season: 1.000, /film/actor/film|/film/performance/film: 1.000, /government/political_district/representatives|/government/government_position_held/office_holder: 1.000<br><b>gold:</b> /sports/sports_team/arena_stadium, /sports/sports_team/venue|/sports/team_venue_relationship/venue</li>"
       ],
       "metadata": {},
       "output_type": "display_data",
       "text": [
        "<IPython.core.display.HTML at 0x7f8020344350>"
       ]
      },
      {
       "html": [
        "<li><b>who was the apostle paul considered to be?</b><br><b>in:</b> lat/position/WordnetLAT, lat/cognition/WordnetLAT, lat/orientation/WordnetLAT, sv=considered, lat/attitude/WordnetLAT<br><b>out:</b> <br><b>outp:</b> /award/award_winner/awards_won|/award/award_honor/award: 1.000, /award/award_winner/awards_won|/award/award_honor/honored_for: 1.000, /basketball/basketball_player/player_statistics|/basketball/basketball_player_stats/season: 1.000, /film/actor/film|/film/performance/film: 1.000, /government/political_district/representatives|/government/government_position_held/office_holder: 1.000<br><b>gold:</b> </li>"
       ],
       "metadata": {},
       "output_type": "display_data",
       "text": [
        "<IPython.core.display.HTML at 0x7f8020344250>"
       ]
      },
      {
       "html": [
        "<li><b>which countries are part of the united kingdom?</b><br><b>in:</b> lat/people/WordnetLAT, lat/countries/LAT, lat/region/WordnetLAT, lat/social group/WordnetLAT, lat/unit/WordnetLAT, lat/organization/WordnetLAT, lat/district/WordnetLAT, lat/location/WordnetLAT, lat/group/WordnetLAT, lat/geographical area/WordnetLAT, lat/country/ImplicitQLAT, lat/political unit/WordnetLAT, lat/administrative district/WordnetLAT<br><b>out:</b> <br><b>outp:</b> /award/award_winner/awards_won|/award/award_honor/award: 1.000, /award/award_winner/awards_won|/award/award_honor/honored_for: 1.000, /basketball/basketball_player/player_statistics|/basketball/basketball_player_stats/season: 1.000, /film/actor/film|/film/performance/film: 1.000, /government/political_district/representatives|/government/government_position_held/office_holder: 1.000<br><b>gold:</b> /location/location/containedby</li>"
       ],
       "metadata": {},
       "output_type": "display_data",
       "text": [
        "<IPython.core.display.HTML at 0x7f8020344210>"
       ]
      },
      {
       "html": [
        "</ul>"
       ],
       "metadata": {},
       "output_type": "display_data",
       "text": [
        "<IPython.core.display.HTML at 0x7f802093c5d0>"
       ]
      }
     ],
     "prompt_number": 226
    },
    {
     "cell_type": "markdown",
     "metadata": {},
     "source": [
      "## Confidence Score Models"
     ]
    },
    {
     "cell_type": "code",
     "collapsed": false,
     "input": [
      "def check_q_cs(cfier, v, d, i):\n",
      "    cs = cfier.decision_function(v.X[i])[0]\n",
      "    top_cs = sorted(enumerate(cs), key=lambda k: k[1], reverse=True)\n",
      "    top_lcs = ['<span style=\"color: %s\">%s: %.2f</span>' % ('blue' if k[1] > 0 else 'red', v.Ydict.classes_[k[0]], k[1]) for k in top_cs[:5]]\n",
      "    return '<li><b>%s</b><br><b>in:</b> %s<br><b>out:</b> %s<br><b>outp:</b> %s<br><b>gold:</b> %s</li>' % (\n",
      "        d[i]['qText'],\n",
      "        ', '.join(sorted(v.Xdict.inverse_transform(v.X[i])[0].keys(), key=lambda s: reversed(s))),\n",
      "        ', '.join(v.Ydict.inverse_transform(cfier.predict(v.X[i]))[0]),\n",
      "        ', '.join(top_lcs),\n",
      "        ', '.join(v.Ydict.inverse_transform(np.array([v.Y[i]]))[0]))\n",
      "\n",
      "def demo_model_cs(cfier):\n",
      "    stable = score_table(cfier, lambda cfier, X: cfier.decision_function(X))\n",
      "    display(HTML('<table>'+stable+'</table>'))\n",
      "    display(HTML('<ul>'))\n",
      "    for i in range(10):\n",
      "        display(HTML(check_q_cs(cfier, vdevtest, devtest, i)))\n",
      "    display(HTML('</ul>'))"
     ],
     "language": "python",
     "metadata": {},
     "outputs": [],
     "prompt_number": 251
    },
    {
     "cell_type": "code",
     "collapsed": false,
     "input": [
      "from sklearn.multiclass import OneVsRestClassifier\n",
      "from sklearn.svm import SVC\n",
      "cfier_svc = OneVsRestClassifier(SVC(kernel='linear'), n_jobs=4)\n",
      "cfier_svc.fit(vtrain.X, vtrain.Y)"
     ],
     "language": "python",
     "metadata": {},
     "outputs": [
      {
       "metadata": {},
       "output_type": "pyout",
       "prompt_number": 230,
       "text": [
        "OneVsRestClassifier(estimator=SVC(C=1.0, cache_size=200, class_weight=None, coef0=0.0, degree=3, gamma=0.0,\n",
        "  kernel='linear', max_iter=-1, probability=False, random_state=None,\n",
        "  shrinking=True, tol=0.001, verbose=False),\n",
        "          n_jobs=4)"
       ]
      }
     ],
     "prompt_number": 230
    },
    {
     "cell_type": "code",
     "collapsed": false,
     "input": [
      "[x for x in cfier_svc.decision_function(vdevtest.X[0])[0] if x > 0]"
     ],
     "language": "python",
     "metadata": {},
     "outputs": [
      {
       "metadata": {},
       "output_type": "pyout",
       "prompt_number": 121,
       "text": [
        "[0.99987006672029644]"
       ]
      }
     ],
     "prompt_number": 121
    },
    {
     "cell_type": "code",
     "collapsed": false,
     "input": [
      "demo_model_cs(cfier_svc)"
     ],
     "language": "python",
     "metadata": {},
     "outputs": [
      {
       "html": [
        "<table><tr><th>dataset</th><th>qRecallAny</th><th>qRecallAll</th><th>pPrec</th><th>pScoreMRR</th></tr><tr><td>train</td><td>0.665</td><td>0.560</td><td>0.851</td><td>0.722</td></tr><tr><td>val</td><td>0.474</td><td>0.366</td><td>0.565</td><td>0.473</td></tr><tr><td>devtest</td><td>0.556</td><td>0.466</td><td>0.638</td><td>0.542</td></tr></table>"
       ],
       "metadata": {},
       "output_type": "display_data",
       "text": [
        "<IPython.core.display.HTML at 0x7f801ed90790>"
       ]
      },
      {
       "html": [
        "<ul>"
       ],
       "metadata": {},
       "output_type": "display_data",
       "text": [
        "<IPython.core.display.HTML at 0x7f801ecca210>"
       ]
      },
      {
       "html": [
        "<li><b>what is the name of justin bieber brother?</b><br><b>in:</b> lat/associate/WordnetLAT, lat/brother/LAT, lat/religious/WordnetLAT, lat/kinsman/WordnetLAT, lat/monk/WordnetLAT, lat/male sibling/WordnetLAT, lat/friend/WordnetLAT, lat/member/WordnetLAT, lat/relative/WordnetLAT, lat/peer/WordnetLAT, lat/religious person/WordnetLAT, lat/person/WordnetLAT<br><b>out:</b> /people/person/sibling_s|/people/sibling_relationship/sibling<br><b>outp:</b> <span style=\"color: black\">/people/person/sibling_s|/people/sibling_relationship/sibling: 1.00</span>, <span style=\"color: red\">/people/deceased_person/place_of_burial: -1.00</span>, <span style=\"color: red\">/time/holiday/day_of_year: -1.00</span>, <span style=\"color: red\">/tv/tv_character/appeared_in_tv_episodes|/tv/tv_guest_role/actor: -1.00</span>, <span style=\"color: red\">/award/award_nominated_work/award_nominations|/award/award_nomination/award_nominee: -1.00</span><br><b>gold:</b> /people/person/sibling_s|/people/sibling_relationship/sibling</li>"
       ],
       "metadata": {},
       "output_type": "display_data",
       "text": [
        "<IPython.core.display.HTML at 0x7f801ff8d710>"
       ]
      },
      {
       "html": [
        "<li><b>where to fly into bali?</b><br><b>in:</b> sv=fly, lat/location/QuestionWordLAT<br><b>out:</b> <br><b>outp:</b> <span style=\"color: red\">/people/deceased_person/place_of_burial: -1.00</span>, <span style=\"color: red\">/time/holiday/day_of_year: -1.00</span>, <span style=\"color: red\">/business/employer/employees|/business/employment_tenure/title: -1.00</span>, <span style=\"color: red\">/travel/tourist_attraction/near_travel_destination: -1.00</span>, <span style=\"color: red\">/geography/river/basin_countries: -1.00</span><br><b>gold:</b> </li>"
       ],
       "metadata": {},
       "output_type": "display_data",
       "text": [
        "<IPython.core.display.HTML at 0x7f8020787c90>"
       ]
      },
      {
       "html": [
        "<li><b>what is cher's son's name?</b><br><b>in:</b> lat/child/WordnetLAT, lat/content/WordnetLAT, lat/belief/WordnetLAT, lat/offspring/WordnetLAT, lat/cognition/WordnetLAT, lat/Godhead/WordnetLAT, lat/son/LAT, lat/spiritual being/WordnetLAT, lat/male offspring/WordnetLAT, lat/God/WordnetLAT, lat/person/WordnetLAT, lat/male/WordnetLAT, lat/relative/WordnetLAT, lat/hypostasis/WordnetLAT<br><b>out:</b> /people/person/children<br><b>outp:</b> <span style=\"color: black\">/people/person/children: 0.60</span>, <span style=\"color: red\">/people/person/sibling_s|/people/sibling_relationship/sibling: -1.00</span>, <span style=\"color: red\">/people/deceased_person/place_of_burial: -1.00</span>, <span style=\"color: red\">/time/holiday/day_of_year: -1.00</span>, <span style=\"color: red\">/tv/tv_character/appeared_in_tv_episodes|/tv/tv_guest_role/actor: -1.00</span><br><b>gold:</b> /people/person/children</li>"
       ],
       "metadata": {},
       "output_type": "display_data",
       "text": [
        "<IPython.core.display.HTML at 0x7f80207879d0>"
       ]
      },
      {
       "html": [
        "<li><b>what countries do people speak portuguese?</b><br><b>in:</b> lat/country/ImplicitQLAT, lat/administrative district/WordnetLAT, lat/unit/WordnetLAT, lat/social group/WordnetLAT, lat/organization/WordnetLAT, lat/group/WordnetLAT, lat/district/WordnetLAT, lat/people/WordnetLAT, lat/political unit/WordnetLAT, lat/region/WordnetLAT, lat/location/WordnetLAT, sv=speak, lat/geographical area/WordnetLAT, lat/countries/LAT<br><b>out:</b> /language/human_language/countries_spoken_in, /language/human_language/main_country<br><b>outp:</b> <span style=\"color: black\">/language/human_language/main_country: 0.81</span>, <span style=\"color: black\">/language/human_language/countries_spoken_in: 0.63</span>, <span style=\"color: red\">/people/deceased_person/place_of_burial: -1.00</span>, <span style=\"color: red\">/time/holiday/day_of_year: -1.00</span>, <span style=\"color: red\">/tv/tv_character/appeared_in_tv_episodes|/tv/tv_guest_role/actor: -1.00</span><br><b>gold:</b> /language/human_language/countries_spoken_in, /language/human_language/main_country</li>"
       ],
       "metadata": {},
       "output_type": "display_data",
       "text": [
        "<IPython.core.display.HTML at 0x7f801ff77b90>"
       ]
      },
      {
       "html": [
        "<li><b>who was vincent van gogh inspired by?</b><br><b>in:</b> sv=inspired<br><b>out:</b> /influence/influence_node/influenced_by<br><b>outp:</b> <span style=\"color: black\">/influence/influence_node/influenced_by: 1.00</span>, <span style=\"color: red\">/people/deceased_person/place_of_burial: -1.00</span>, <span style=\"color: red\">/time/holiday/day_of_year: -1.00</span>, <span style=\"color: red\">/tv/tv_character/appeared_in_tv_episodes|/tv/tv_guest_role/actor: -1.00</span>, <span style=\"color: red\">/award/award_nominated_work/award_nominations|/award/award_nomination/award_nominee: -1.00</span><br><b>gold:</b> /influence/influence_node/influenced_by</li>"
       ],
       "metadata": {},
       "output_type": "display_data",
       "text": [
        "<IPython.core.display.HTML at 0x7f801ff77a10>"
       ]
      },
      {
       "html": [
        "<li><b>when will oscar pistorius compete?</b><br><b>in:</b> sv=compete, lat/time/QuestionWordLAT, lat/date/QuestionWordLAT<br><b>out:</b> <br><b>outp:</b> <span style=\"color: red\">/olympics/olympic_athlete/country|/olympics/olympic_athlete_affiliation/sport: -0.09</span>, <span style=\"color: red\">/sports/pro_athlete/sports_played_professionally|/sports/pro_sports_played/sport: -0.09</span>, <span style=\"color: red\">/olympics/olympic_athlete/medals_won|/olympics/olympic_medal_honor/event: -0.89</span>, <span style=\"color: red\">/time/holiday/day_of_year: -1.00</span>, <span style=\"color: red\">/people/deceased_person/place_of_burial: -1.00</span><br><b>gold:</b> </li>"
       ],
       "metadata": {},
       "output_type": "display_data",
       "text": [
        "<IPython.core.display.HTML at 0x7f801ff77b10>"
       ]
      },
      {
       "html": [
        "<li><b>who plays meg in family guy?</b><br><b>in:</b> sv=plays, lat/person/QuestionWordLAT<br><b>out:</b> /tv/tv_character/appeared_in_tv_program|/tv/regular_tv_appearance/actor<br><b>outp:</b> <span style=\"color: black\">/tv/tv_character/appeared_in_tv_program|/tv/regular_tv_appearance/actor: 1.00</span>, <span style=\"color: red\">/people/deceased_person/place_of_burial: -1.00</span>, <span style=\"color: red\">/time/holiday/day_of_year: -1.00</span>, <span style=\"color: red\">/tv/tv_character/appeared_in_tv_episodes|/tv/tv_guest_role/actor: -1.00</span>, <span style=\"color: red\">/award/award_nominated_work/award_nominations|/award/award_nomination/award_nominee: -1.00</span><br><b>gold:</b> /cvg/game_character/games|/cvg/game_performance/voice_actor, /film/film_character/portrayed_in_films|/film/performance/actor, /tv/tv_character/appeared_in_tv_episodes|/tv/tv_guest_role/actor, /tv/tv_character/appeared_in_tv_program|/tv/regular_tv_appearance/actor</li>"
       ],
       "metadata": {},
       "output_type": "display_data",
       "text": [
        "<IPython.core.display.HTML at 0x7f801ff77710>"
       ]
      },
      {
       "html": [
        "<li><b>what stadium did the chicago cardinals play in?</b><br><b>in:</b> sv=play, lat/stadium/LAT, lat/artifact/WordnetLAT, lat/structure/WordnetLAT<br><b>out:</b> /sports/sports_team/arena_stadium, /sports/sports_team/venue|/sports/team_venue_relationship/venue<br><b>outp:</b> <span style=\"color: black\">/sports/sports_team/arena_stadium: 1.55</span>, <span style=\"color: black\">/sports/sports_team/venue|/sports/team_venue_relationship/venue: 1.00</span>, <span style=\"color: red\">/sports/pro_athlete/teams|/sports/sports_team_roster/team: -0.65</span>, <span style=\"color: red\">/film/actor/film|/film/performance/character: -0.68</span>, <span style=\"color: red\">/music/guitarist/guitars_played: -0.82</span><br><b>gold:</b> /sports/sports_team/arena_stadium, /sports/sports_team/venue|/sports/team_venue_relationship/venue</li>"
       ],
       "metadata": {},
       "output_type": "display_data",
       "text": [
        "<IPython.core.display.HTML at 0x7f801ff776d0>"
       ]
      },
      {
       "html": [
        "<li><b>who was the apostle paul considered to be?</b><br><b>in:</b> sv=considered, lat/orientation/WordnetLAT, lat/position/WordnetLAT, lat/attitude/WordnetLAT, lat/cognition/WordnetLAT<br><b>out:</b> <br><b>outp:</b> <span style=\"color: red\">/common/topic/alias: -0.29</span>, <span style=\"color: red\">/government/politician/government_positions_held|/government/government_position_held/office_position_or_title: -0.78</span>, <span style=\"color: red\">/religion/religion/beliefs: -0.88</span>, <span style=\"color: red\">/olympics/olympic_participating_country/athletes|/olympics/olympic_athlete_affiliation/sport: -0.89</span>, <span style=\"color: red\">/sports/sport_country/athletes|/sports/competitor_country_relationship/sports: -0.89</span><br><b>gold:</b> </li>"
       ],
       "metadata": {},
       "output_type": "display_data",
       "text": [
        "<IPython.core.display.HTML at 0x7f801f91b690>"
       ]
      },
      {
       "html": [
        "<li><b>which countries are part of the united kingdom?</b><br><b>in:</b> lat/people/WordnetLAT, lat/region/WordnetLAT, lat/social group/WordnetLAT, lat/district/WordnetLAT, lat/location/WordnetLAT, lat/countries/LAT, lat/geographical area/WordnetLAT, lat/group/WordnetLAT, lat/political unit/WordnetLAT, lat/administrative district/WordnetLAT, lat/country/ImplicitQLAT, lat/organization/WordnetLAT, lat/unit/WordnetLAT<br><b>out:</b> <br><b>outp:</b> <span style=\"color: red\">/location/location/contains: -0.94</span>, <span style=\"color: red\">/people/deceased_person/place_of_burial: -1.00</span>, <span style=\"color: red\">/time/holiday/day_of_year: -1.00</span>, <span style=\"color: red\">/tv/tv_character/appeared_in_tv_episodes|/tv/tv_guest_role/actor: -1.00</span>, <span style=\"color: red\">/travel/tourist_attraction/near_travel_destination: -1.00</span><br><b>gold:</b> /location/location/containedby</li>"
       ],
       "metadata": {},
       "output_type": "display_data",
       "text": [
        "<IPython.core.display.HTML at 0x7f801fb658d0>"
       ]
      },
      {
       "html": [
        "</ul>"
       ],
       "metadata": {},
       "output_type": "display_data",
       "text": [
        "<IPython.core.display.HTML at 0x7f801fb65850>"
       ]
      }
     ],
     "prompt_number": 233
    },
    {
     "cell_type": "code",
     "collapsed": false,
     "input": [
      "from sklearn.multiclass import OneVsRestClassifier\n",
      "from sklearn.svm import LinearSVC\n",
      "cfier_lsvc = OneVsRestClassifier(LinearSVC(), n_jobs=4)\n",
      "cfier_lsvc.fit(vtrain.X, vtrain.Y)\n",
      "demo_model_cs(cfier_lsvc)"
     ],
     "language": "python",
     "metadata": {},
     "outputs": [
      {
       "html": [
        "<table><tr><th>dataset</th><th>qRecallAny</th><th>qRecallAll</th><th>pPrec</th><th>pScoreMRR</th></tr><tr><td>train</td><td>0.709</td><td>0.619</td><td>0.863</td><td>0.851</td></tr><tr><td>val</td><td>0.473</td><td>0.377</td><td>0.529</td><td>0.583</td></tr><tr><td>devtest</td><td>0.556</td><td>0.466</td><td>0.575</td><td>0.636</td></tr></table>"
       ],
       "metadata": {},
       "output_type": "display_data",
       "text": [
        "<IPython.core.display.HTML at 0x7f801ed88290>"
       ]
      },
      {
       "html": [
        "<ul>"
       ],
       "metadata": {},
       "output_type": "display_data",
       "text": [
        "<IPython.core.display.HTML at 0x7f8020dbe4d0>"
       ]
      },
      {
       "html": [
        "<li><b>what is the name of justin bieber brother?</b><br><b>in:</b> lat/religious person/WordnetLAT, lat/person/WordnetLAT, lat/friend/WordnetLAT, lat/associate/WordnetLAT, lat/peer/WordnetLAT, lat/member/WordnetLAT, lat/relative/WordnetLAT, lat/monk/WordnetLAT, lat/brother/LAT, lat/male sibling/WordnetLAT, lat/kinsman/WordnetLAT, lat/religious/WordnetLAT<br><b>out:</b> /people/person/sibling_s|/people/sibling_relationship/sibling<br><b>outp:</b> <span style=\"color: black\">/people/person/sibling_s|/people/sibling_relationship/sibling: 0.84</span>, <span style=\"color: red\">/fictional_universe/fictional_character/siblings|/fictional_universe/sibling_relationship_of_fictional_characters/siblings: -0.88</span>, <span style=\"color: red\">/fictional_universe/fictional_character/romantically_involved_with|/fictional_universe/romantic_involvement/partner: -0.93</span>, <span style=\"color: red\">/celebrities/celebrity/celebrity_friends|/celebrities/friendship/friend: -0.99</span>, <span style=\"color: red\">/location/statistical_region/places_exported_to|/location/imports_and_exports/exported_to: -0.99</span><br><b>gold:</b> /people/person/sibling_s|/people/sibling_relationship/sibling</li>"
       ],
       "metadata": {},
       "output_type": "display_data",
       "text": [
        "<IPython.core.display.HTML at 0x7f8020dbe610>"
       ]
      },
      {
       "html": [
        "<li><b>where to fly into bali?</b><br><b>in:</b> sv=fly, lat/location/QuestionWordLAT<br><b>out:</b> <br><b>outp:</b> <span style=\"color: red\">/aviation/airline/airports_served|/aviation/airline_airport_presence/airport: -0.45</span>, <span style=\"color: red\">/type/object/name: -0.46</span>, <span style=\"color: red\">/visual_art/art_subject/artwork_on_the_subject: -0.52</span>, <span style=\"color: red\">/organization/organization/headquarters|/location/mailing_address/citytown: -0.62</span>, <span style=\"color: red\">/travel/travel_destination/how_to_get_here|/travel/transportation/transport_terminus: -0.77</span><br><b>gold:</b> </li>"
       ],
       "metadata": {},
       "output_type": "display_data",
       "text": [
        "<IPython.core.display.HTML at 0x7f8020787910>"
       ]
      },
      {
       "html": [
        "<li><b>what is cher's son's name?</b><br><b>in:</b> lat/God/WordnetLAT, lat/relative/WordnetLAT, lat/cognition/WordnetLAT, lat/person/WordnetLAT, lat/child/WordnetLAT, lat/male offspring/WordnetLAT, lat/content/WordnetLAT, lat/belief/WordnetLAT, lat/offspring/WordnetLAT, lat/Godhead/WordnetLAT, lat/male/WordnetLAT, lat/spiritual being/WordnetLAT, lat/son/LAT, lat/hypostasis/WordnetLAT<br><b>out:</b> /people/person/children<br><b>outp:</b> <span style=\"color: black\">/people/person/children: 0.05</span>, <span style=\"color: red\">/people/person/sibling_s|/people/sibling_relationship/sibling: -0.09</span>, <span style=\"color: red\">/book/book_subject/works: -1.00</span>, <span style=\"color: red\">/religion/religion/texts: -1.00</span>, <span style=\"color: red\">/people/person/education|/education/education/institution: -1.00</span><br><b>gold:</b> /people/person/children</li>"
       ],
       "metadata": {},
       "output_type": "display_data",
       "text": [
        "<IPython.core.display.HTML at 0x7f802177eb50>"
       ]
      },
      {
       "html": [
        "<li><b>what countries do people speak portuguese?</b><br><b>in:</b> lat/political unit/WordnetLAT, lat/country/ImplicitQLAT, lat/administrative district/WordnetLAT, lat/unit/WordnetLAT, lat/people/WordnetLAT, lat/organization/WordnetLAT, lat/group/WordnetLAT, lat/social group/WordnetLAT, lat/district/WordnetLAT, lat/region/WordnetLAT, lat/location/WordnetLAT, lat/countries/LAT, lat/geographical area/WordnetLAT, sv=speak<br><b>out:</b> /language/human_language/countries_spoken_in, /language/human_language/main_country<br><b>outp:</b> <span style=\"color: black\">/language/human_language/main_country: 0.37</span>, <span style=\"color: black\">/language/human_language/countries_spoken_in: 0.36</span>, <span style=\"color: red\">/location/location/contains: -0.94</span>, <span style=\"color: red\">/location/location/adjoin_s|/location/adjoining_relationship/adjoins: -0.96</span>, <span style=\"color: red\">/organization/membership_organization/members|/organization/organization_membership/member: -0.98</span><br><b>gold:</b> /language/human_language/countries_spoken_in, /language/human_language/main_country</li>"
       ],
       "metadata": {},
       "output_type": "display_data",
       "text": [
        "<IPython.core.display.HTML at 0x7f802177ead0>"
       ]
      },
      {
       "html": [
        "<li><b>who was vincent van gogh inspired by?</b><br><b>in:</b> sv=inspired<br><b>out:</b> /influence/influence_node/influenced_by<br><b>outp:</b> <span style=\"color: black\">/influence/influence_node/influenced_by: 0.46</span>, <span style=\"color: red\">/influence/influence_node/influenced: -0.72</span>, <span style=\"color: red\">/common/topic/notable_for: -0.98</span>, <span style=\"color: red\">/influence/influence_node/peers|/influence/peer_relationship/peers: -0.99</span>, <span style=\"color: red\">/people/person/children: -0.99</span><br><b>gold:</b> /influence/influence_node/influenced_by</li>"
       ],
       "metadata": {},
       "output_type": "display_data",
       "text": [
        "<IPython.core.display.HTML at 0x7f802177ea90>"
       ]
      },
      {
       "html": [
        "<li><b>when will oscar pistorius compete?</b><br><b>in:</b> sv=compete, lat/time/QuestionWordLAT, lat/date/QuestionWordLAT<br><b>out:</b> <br><b>outp:</b> <span style=\"color: red\">/olympics/olympic_athlete/country|/olympics/olympic_athlete_affiliation/sport: -0.41</span>, <span style=\"color: red\">/sports/pro_athlete/sports_played_professionally|/sports/pro_sports_played/sport: -0.41</span>, <span style=\"color: red\">/common/topic/notable_for: -0.48</span>, <span style=\"color: red\">/olympics/olympic_athlete/medals_won|/olympics/olympic_medal_honor/event: -0.58</span>, <span style=\"color: red\">/people/person/profession: -0.64</span><br><b>gold:</b> </li>"
       ],
       "metadata": {},
       "output_type": "display_data",
       "text": [
        "<IPython.core.display.HTML at 0x7f801ff77f90>"
       ]
      },
      {
       "html": [
        "<li><b>who plays meg in family guy?</b><br><b>in:</b> lat/person/QuestionWordLAT, sv=plays<br><b>out:</b> /tv/tv_character/appeared_in_tv_program|/tv/regular_tv_appearance/actor<br><b>outp:</b> <span style=\"color: black\">/tv/tv_character/appeared_in_tv_program|/tv/regular_tv_appearance/actor: 0.03</span>, <span style=\"color: red\">/film/film_character/portrayed_in_films|/film/performance/actor: -0.13</span>, <span style=\"color: red\">/tv/tv_character/appeared_in_tv_episodes|/tv/tv_guest_role/actor: -0.67</span>, <span style=\"color: red\">/film/film/starring|/film/performance/actor: -0.79</span>, <span style=\"color: red\">/fictional_universe/fictional_character/character_created_by: -0.83</span><br><b>gold:</b> /cvg/game_character/games|/cvg/game_performance/voice_actor, /film/film_character/portrayed_in_films|/film/performance/actor, /tv/tv_character/appeared_in_tv_episodes|/tv/tv_guest_role/actor, /tv/tv_character/appeared_in_tv_program|/tv/regular_tv_appearance/actor</li>"
       ],
       "metadata": {},
       "output_type": "display_data",
       "text": [
        "<IPython.core.display.HTML at 0x7f801ff77bd0>"
       ]
      },
      {
       "html": [
        "<li><b>what stadium did the chicago cardinals play in?</b><br><b>in:</b> sv=play, lat/artifact/WordnetLAT, lat/stadium/LAT, lat/structure/WordnetLAT<br><b>out:</b> /sports/sports_team/arena_stadium, /sports/sports_team/venue|/sports/team_venue_relationship/venue<br><b>outp:</b> <span style=\"color: black\">/sports/sports_team/arena_stadium: 1.65</span>, <span style=\"color: black\">/sports/sports_team/venue|/sports/team_venue_relationship/venue: 1.58</span>, <span style=\"color: red\">/sports/pro_athlete/teams|/sports/sports_team_roster/team: -0.62</span>, <span style=\"color: red\">/film/actor/film|/film/performance/character: -0.71</span>, <span style=\"color: red\">/people/person/employment_history|/business/employment_tenure/company: -0.78</span><br><b>gold:</b> /sports/sports_team/arena_stadium, /sports/sports_team/venue|/sports/team_venue_relationship/venue</li>"
       ],
       "metadata": {},
       "output_type": "display_data",
       "text": [
        "<IPython.core.display.HTML at 0x7f801ff77c50>"
       ]
      },
      {
       "html": [
        "<li><b>who was the apostle paul considered to be?</b><br><b>in:</b> lat/attitude/WordnetLAT, sv=considered, lat/cognition/WordnetLAT, lat/position/WordnetLAT, lat/orientation/WordnetLAT<br><b>out:</b> /common/topic/alias<br><b>outp:</b> <span style=\"color: black\">/common/topic/alias: 0.16</span>, <span style=\"color: red\">/biology/breed_origin/breeds_originating_here: -0.76</span>, <span style=\"color: red\">/sports/pro_athlete/teams|/sports/sports_team_roster/position: -0.81</span>, <span style=\"color: red\">/visual_art/visual_artist/associated_periods_or_movements: -0.84</span>, <span style=\"color: red\">/government/politician/government_positions_held|/government/government_position_held/office_position_or_title: -0.85</span><br><b>gold:</b> </li>"
       ],
       "metadata": {},
       "output_type": "display_data",
       "text": [
        "<IPython.core.display.HTML at 0x7f801ff77c10>"
       ]
      },
      {
       "html": [
        "<li><b>which countries are part of the united kingdom?</b><br><b>in:</b> lat/administrative district/WordnetLAT, lat/political unit/WordnetLAT, lat/country/ImplicitQLAT, lat/group/WordnetLAT, lat/unit/WordnetLAT, lat/organization/WordnetLAT, lat/people/WordnetLAT, lat/countries/LAT, lat/geographical area/WordnetLAT, lat/social group/WordnetLAT, lat/district/WordnetLAT, lat/location/WordnetLAT, lat/region/WordnetLAT<br><b>out:</b> <br><b>outp:</b> <span style=\"color: red\">/location/location/contains: -0.33</span>, <span style=\"color: red\">/location/location/adjoin_s|/location/adjoining_relationship/adjoins: -0.51</span>, <span style=\"color: red\">/location/location/partiallycontains|/location/partial_containment_relationship/partially_contains: -0.73</span>, <span style=\"color: red\">/location/statistical_region/places_exported_to|/location/imports_and_exports/exported_to: -0.73</span>, <span style=\"color: red\">/language/human_language/countries_spoken_in: -0.77</span><br><b>gold:</b> /location/location/containedby</li>"
       ],
       "metadata": {},
       "output_type": "display_data",
       "text": [
        "<IPython.core.display.HTML at 0x7f801ff77a10>"
       ]
      },
      {
       "html": [
        "</ul>"
       ],
       "metadata": {},
       "output_type": "display_data",
       "text": [
        "<IPython.core.display.HTML at 0x7f8020dbe990>"
       ]
      }
     ],
     "prompt_number": 234
    },
    {
     "cell_type": "code",
     "collapsed": false,
     "input": [
      "from sklearn.ensemble import GradientBoostingClassifier\n",
      "cfier_gb = OneVsRestClassifier(GradientBoostingClassifier(n_estimators=4, max_leaf_nodes=4, max_features='sqrt'), n_jobs=4)\n",
      "pprint(cfier_gb.fit(vtrain.X.toarray(), vtrain.Y))"
     ],
     "language": "python",
     "metadata": {},
     "outputs": []
    },
    {
     "cell_type": "code",
     "collapsed": false,
     "input": [
      "pprint(cfier_gb)\n",
      "demo_model_cs(cfier_gb)"
     ],
     "language": "python",
     "metadata": {},
     "outputs": [
      {
       "output_type": "stream",
       "stream": "stdout",
       "text": [
        "OneVsRestClassifier(estimator=GradientBoostingClassifier(init=None, learning_rate=0.1, loss='deviance',\n",
        "              max_depth=3, max_features='sqrt', max_leaf_nodes=4,\n",
        "              min_samples_leaf=1, min_samples_split=2,\n",
        "              min_weight_fraction_leaf=0.0, n_estimators=4,\n",
        "              random_state=None, subsample=1.0, verbose=0,\n",
        "              warm_start=False),\n",
        "          n_jobs=4)\n"
       ]
      },
      {
       "html": [
        "<table><tr><th>dataset</th><th>qRecallAny</th><th>qRecallAll</th><th>pPrec</th><th>pScoreMRR</th></tr><tr><td>train</td><td>0.261</td><td>0.200</td><td>0.476</td><td>0.469</td></tr><tr><td>val</td><td>0.177</td><td>0.162</td><td>0.121</td><td>0.333</td></tr><tr><td>devtest</td><td>0.212</td><td>0.185</td><td>0.216</td><td>0.357</td></tr></table>"
       ],
       "metadata": {},
       "output_type": "display_data",
       "text": [
        "<IPython.core.display.HTML at 0x7f801e993b90>"
       ]
      },
      {
       "html": [
        "<ul>"
       ],
       "metadata": {},
       "output_type": "display_data",
       "text": [
        "<IPython.core.display.HTML at 0x7f8021739690>"
       ]
      },
      {
       "ename": "TypeError",
       "evalue": "A sparse matrix was passed, but dense data is required. Use X.toarray() to convert to a dense numpy array.",
       "output_type": "pyerr",
       "traceback": [
        "\u001b[0;31m---------------------------------------------------------------------------\u001b[0m\n\u001b[0;31mTypeError\u001b[0m                                 Traceback (most recent call last)",
        "\u001b[0;32m<ipython-input-252-73a7cd0c5770>\u001b[0m in \u001b[0;36m<module>\u001b[0;34m()\u001b[0m\n\u001b[1;32m      1\u001b[0m \u001b[0mpprint\u001b[0m\u001b[0;34m(\u001b[0m\u001b[0mcfier_gb\u001b[0m\u001b[0;34m)\u001b[0m\u001b[0;34m\u001b[0m\u001b[0m\n\u001b[0;32m----> 2\u001b[0;31m \u001b[0mdemo_model_cs\u001b[0m\u001b[0;34m(\u001b[0m\u001b[0mcfier_gb\u001b[0m\u001b[0;34m)\u001b[0m\u001b[0;34m\u001b[0m\u001b[0m\n\u001b[0m",
        "\u001b[0;32m<ipython-input-251-1abbca10ed69>\u001b[0m in \u001b[0;36mdemo_model_cs\u001b[0;34m(cfier)\u001b[0m\n\u001b[1;32m     15\u001b[0m     \u001b[0mdisplay\u001b[0m\u001b[0;34m(\u001b[0m\u001b[0mHTML\u001b[0m\u001b[0;34m(\u001b[0m\u001b[0;34m'<ul>'\u001b[0m\u001b[0;34m)\u001b[0m\u001b[0;34m)\u001b[0m\u001b[0;34m\u001b[0m\u001b[0m\n\u001b[1;32m     16\u001b[0m     \u001b[0;32mfor\u001b[0m \u001b[0mi\u001b[0m \u001b[0;32min\u001b[0m \u001b[0mrange\u001b[0m\u001b[0;34m(\u001b[0m\u001b[0;36m10\u001b[0m\u001b[0;34m)\u001b[0m\u001b[0;34m:\u001b[0m\u001b[0;34m\u001b[0m\u001b[0m\n\u001b[0;32m---> 17\u001b[0;31m         \u001b[0mdisplay\u001b[0m\u001b[0;34m(\u001b[0m\u001b[0mHTML\u001b[0m\u001b[0;34m(\u001b[0m\u001b[0mcheck_q_cs\u001b[0m\u001b[0;34m(\u001b[0m\u001b[0mcfier\u001b[0m\u001b[0;34m,\u001b[0m \u001b[0mvdevtest\u001b[0m\u001b[0;34m,\u001b[0m \u001b[0mdevtest\u001b[0m\u001b[0;34m,\u001b[0m \u001b[0mi\u001b[0m\u001b[0;34m)\u001b[0m\u001b[0;34m)\u001b[0m\u001b[0;34m)\u001b[0m\u001b[0;34m\u001b[0m\u001b[0m\n\u001b[0m\u001b[1;32m     18\u001b[0m     \u001b[0mdisplay\u001b[0m\u001b[0;34m(\u001b[0m\u001b[0mHTML\u001b[0m\u001b[0;34m(\u001b[0m\u001b[0;34m'</ul>'\u001b[0m\u001b[0;34m)\u001b[0m\u001b[0;34m)\u001b[0m\u001b[0;34m\u001b[0m\u001b[0m\n",
        "\u001b[0;32m<ipython-input-251-1abbca10ed69>\u001b[0m in \u001b[0;36mcheck_q_cs\u001b[0;34m(cfier, v, d, i)\u001b[0m\n\u001b[1;32m      1\u001b[0m \u001b[0;32mdef\u001b[0m \u001b[0mcheck_q_cs\u001b[0m\u001b[0;34m(\u001b[0m\u001b[0mcfier\u001b[0m\u001b[0;34m,\u001b[0m \u001b[0mv\u001b[0m\u001b[0;34m,\u001b[0m \u001b[0md\u001b[0m\u001b[0;34m,\u001b[0m \u001b[0mi\u001b[0m\u001b[0;34m)\u001b[0m\u001b[0;34m:\u001b[0m\u001b[0;34m\u001b[0m\u001b[0m\n\u001b[0;32m----> 2\u001b[0;31m     \u001b[0mcs\u001b[0m \u001b[0;34m=\u001b[0m \u001b[0mcfier\u001b[0m\u001b[0;34m.\u001b[0m\u001b[0mdecision_function\u001b[0m\u001b[0;34m(\u001b[0m\u001b[0mv\u001b[0m\u001b[0;34m.\u001b[0m\u001b[0mX\u001b[0m\u001b[0;34m[\u001b[0m\u001b[0mi\u001b[0m\u001b[0;34m]\u001b[0m\u001b[0;34m)\u001b[0m\u001b[0;34m[\u001b[0m\u001b[0;36m0\u001b[0m\u001b[0;34m]\u001b[0m\u001b[0;34m\u001b[0m\u001b[0m\n\u001b[0m\u001b[1;32m      3\u001b[0m     \u001b[0mtop_cs\u001b[0m \u001b[0;34m=\u001b[0m \u001b[0msorted\u001b[0m\u001b[0;34m(\u001b[0m\u001b[0menumerate\u001b[0m\u001b[0;34m(\u001b[0m\u001b[0mcs\u001b[0m\u001b[0;34m)\u001b[0m\u001b[0;34m,\u001b[0m \u001b[0mkey\u001b[0m\u001b[0;34m=\u001b[0m\u001b[0;32mlambda\u001b[0m \u001b[0mk\u001b[0m\u001b[0;34m:\u001b[0m \u001b[0mk\u001b[0m\u001b[0;34m[\u001b[0m\u001b[0;36m1\u001b[0m\u001b[0;34m]\u001b[0m\u001b[0;34m,\u001b[0m \u001b[0mreverse\u001b[0m\u001b[0;34m=\u001b[0m\u001b[0mTrue\u001b[0m\u001b[0;34m)\u001b[0m\u001b[0;34m\u001b[0m\u001b[0m\n\u001b[1;32m      4\u001b[0m     \u001b[0mtop_lcs\u001b[0m \u001b[0;34m=\u001b[0m \u001b[0;34m[\u001b[0m\u001b[0;34m'<span style=\"color: %s\">%s: %.2f</span>'\u001b[0m \u001b[0;34m%\u001b[0m \u001b[0;34m(\u001b[0m\u001b[0;34m'blue'\u001b[0m \u001b[0;32mif\u001b[0m \u001b[0mk\u001b[0m\u001b[0;34m[\u001b[0m\u001b[0;36m1\u001b[0m\u001b[0;34m]\u001b[0m \u001b[0;34m>\u001b[0m \u001b[0;36m0\u001b[0m \u001b[0;32melse\u001b[0m \u001b[0;34m'red'\u001b[0m\u001b[0;34m,\u001b[0m \u001b[0mv\u001b[0m\u001b[0;34m.\u001b[0m\u001b[0mYdict\u001b[0m\u001b[0;34m.\u001b[0m\u001b[0mclasses_\u001b[0m\u001b[0;34m[\u001b[0m\u001b[0mk\u001b[0m\u001b[0;34m[\u001b[0m\u001b[0;36m0\u001b[0m\u001b[0;34m]\u001b[0m\u001b[0;34m]\u001b[0m\u001b[0;34m,\u001b[0m \u001b[0mk\u001b[0m\u001b[0;34m[\u001b[0m\u001b[0;36m1\u001b[0m\u001b[0;34m]\u001b[0m\u001b[0;34m)\u001b[0m \u001b[0;32mfor\u001b[0m \u001b[0mk\u001b[0m \u001b[0;32min\u001b[0m \u001b[0mtop_cs\u001b[0m\u001b[0;34m[\u001b[0m\u001b[0;34m:\u001b[0m\u001b[0;36m5\u001b[0m\u001b[0;34m]\u001b[0m\u001b[0;34m]\u001b[0m\u001b[0;34m\u001b[0m\u001b[0m\n\u001b[1;32m      5\u001b[0m     return '<li><b>%s</b><br><b>in:</b> %s<br><b>out:</b> %s<br><b>outp:</b> %s<br><b>gold:</b> %s</li>' % (\n",
        "\u001b[0;32m/usr/lib/python2.7/dist-packages/sklearn/multiclass.pyc\u001b[0m in \u001b[0;36mdecision_function\u001b[0;34m(self, X)\u001b[0m\n\u001b[1;32m    382\u001b[0m                 \"Base estimator doesn't have a decision_function attribute.\")\n\u001b[1;32m    383\u001b[0m         return np.array([est.decision_function(X).ravel()\n\u001b[0;32m--> 384\u001b[0;31m                          for est in self.estimators_]).T\n\u001b[0m\u001b[1;32m    385\u001b[0m \u001b[0;34m\u001b[0m\u001b[0m\n\u001b[1;32m    386\u001b[0m     \u001b[0;34m@\u001b[0m\u001b[0mproperty\u001b[0m\u001b[0;34m\u001b[0m\u001b[0m\n",
        "\u001b[0;32m/usr/lib/python2.7/dist-packages/sklearn/ensemble/gradient_boosting.pyc\u001b[0m in \u001b[0;36mdecision_function\u001b[0;34m(self, X)\u001b[0m\n\u001b[1;32m   1099\u001b[0m             \u001b[0;34m[\u001b[0m\u001b[0mn_samples\u001b[0m\u001b[0;34m]\u001b[0m\u001b[0;34m.\u001b[0m\u001b[0;34m\u001b[0m\u001b[0m\n\u001b[1;32m   1100\u001b[0m         \"\"\"\n\u001b[0;32m-> 1101\u001b[0;31m         \u001b[0mX\u001b[0m \u001b[0;34m=\u001b[0m \u001b[0mcheck_array\u001b[0m\u001b[0;34m(\u001b[0m\u001b[0mX\u001b[0m\u001b[0;34m,\u001b[0m \u001b[0mdtype\u001b[0m\u001b[0;34m=\u001b[0m\u001b[0mDTYPE\u001b[0m\u001b[0;34m,\u001b[0m \u001b[0morder\u001b[0m\u001b[0;34m=\u001b[0m\u001b[0;34m\"C\"\u001b[0m\u001b[0;34m)\u001b[0m\u001b[0;34m\u001b[0m\u001b[0m\n\u001b[0m\u001b[1;32m   1102\u001b[0m         \u001b[0mscore\u001b[0m \u001b[0;34m=\u001b[0m \u001b[0mself\u001b[0m\u001b[0;34m.\u001b[0m\u001b[0m_decision_function\u001b[0m\u001b[0;34m(\u001b[0m\u001b[0mX\u001b[0m\u001b[0;34m)\u001b[0m\u001b[0;34m\u001b[0m\u001b[0m\n\u001b[1;32m   1103\u001b[0m         \u001b[0;32mif\u001b[0m \u001b[0mscore\u001b[0m\u001b[0;34m.\u001b[0m\u001b[0mshape\u001b[0m\u001b[0;34m[\u001b[0m\u001b[0;36m1\u001b[0m\u001b[0;34m]\u001b[0m \u001b[0;34m==\u001b[0m \u001b[0;36m1\u001b[0m\u001b[0;34m:\u001b[0m\u001b[0;34m\u001b[0m\u001b[0m\n",
        "\u001b[0;32m/usr/lib/python2.7/dist-packages/sklearn/utils/validation.pyc\u001b[0m in \u001b[0;36mcheck_array\u001b[0;34m(array, accept_sparse, dtype, order, copy, force_all_finite, ensure_2d, allow_nd, ensure_min_samples, ensure_min_features)\u001b[0m\n\u001b[1;32m    332\u001b[0m             \u001b[0mdtype\u001b[0m \u001b[0;34m=\u001b[0m \u001b[0mNone\u001b[0m\u001b[0;34m\u001b[0m\u001b[0m\n\u001b[1;32m    333\u001b[0m         array = _ensure_sparse_format(array, accept_sparse, dtype, order,\n\u001b[0;32m--> 334\u001b[0;31m                                       copy, force_all_finite)\n\u001b[0m\u001b[1;32m    335\u001b[0m     \u001b[0;32melse\u001b[0m\u001b[0;34m:\u001b[0m\u001b[0;34m\u001b[0m\u001b[0m\n\u001b[1;32m    336\u001b[0m         \u001b[0;32mif\u001b[0m \u001b[0mensure_2d\u001b[0m\u001b[0;34m:\u001b[0m\u001b[0;34m\u001b[0m\u001b[0m\n",
        "\u001b[0;32m/usr/lib/python2.7/dist-packages/sklearn/utils/validation.pyc\u001b[0m in \u001b[0;36m_ensure_sparse_format\u001b[0;34m(spmatrix, accept_sparse, dtype, order, copy, force_all_finite)\u001b[0m\n\u001b[1;32m    237\u001b[0m     \"\"\"\n\u001b[1;32m    238\u001b[0m     \u001b[0;32mif\u001b[0m \u001b[0maccept_sparse\u001b[0m \u001b[0;32mis\u001b[0m \u001b[0mNone\u001b[0m\u001b[0;34m:\u001b[0m\u001b[0;34m\u001b[0m\u001b[0m\n\u001b[0;32m--> 239\u001b[0;31m         raise TypeError('A sparse matrix was passed, but dense '\n\u001b[0m\u001b[1;32m    240\u001b[0m                         \u001b[0;34m'data is required. Use X.toarray() to '\u001b[0m\u001b[0;34m\u001b[0m\u001b[0m\n\u001b[1;32m    241\u001b[0m                         'convert to a dense numpy array.')\n",
        "\u001b[0;31mTypeError\u001b[0m: A sparse matrix was passed, but dense data is required. Use X.toarray() to convert to a dense numpy array."
       ]
      }
     ],
     "prompt_number": 252
    },
    {
     "cell_type": "heading",
     "level": 2,
     "metadata": {},
     "source": [
      "Conclusion"
     ]
    },
    {
     "cell_type": "markdown",
     "metadata": {},
     "source": [
      "  * Multinomial Naive Bayes, Logistic regression and LinearSVC are preliminarily the best.\n",
      "  * A lot of model variations remain to try (e.g. k-NN).\n",
      "  * For 1D models like logreg and bayes, learning on the space of pairs of features might work better.\n",
      "  * We want more question features, maybe the whole bag-of-words (-NE?), for paths like containedby in \"which countries are part of the united kingdom?\"\n",
      "  * For initial full-pipeline prototype, we will implement logistic regression as it is also the simplest to do."
     ]
    },
    {
     "cell_type": "heading",
     "level": 2,
     "metadata": {},
     "source": [
      "Appendix: Exporting Data"
     ]
    },
    {
     "cell_type": "code",
     "collapsed": false,
     "input": [
      "cfier_log.classes_"
     ],
     "language": "python",
     "metadata": {},
     "outputs": [
      {
       "metadata": {},
       "output_type": "pyout",
       "prompt_number": 11,
       "text": [
        "array([  0,   1,   2,   3,   4,   5,   6,   7,   8,   9,  10,  11,  12,\n",
        "        13,  14,  15,  16,  17,  18,  19,  20,  21,  22,  23,  24,  25,\n",
        "        26,  27,  28,  29,  30,  31,  32,  33,  34,  35,  36,  37,  38,\n",
        "        39,  40,  41,  42,  43,  44,  45,  46,  47,  48,  49,  50,  51,\n",
        "        52,  53,  54,  55,  56,  57,  58,  59,  60,  61,  62,  63,  64,\n",
        "        65,  66,  67,  68,  69,  70,  71,  72,  73,  74,  75,  76,  77,\n",
        "        78,  79,  80,  81,  82,  83,  84,  85,  86,  87,  88,  89,  90,\n",
        "        91,  92,  93,  94,  95,  96,  97,  98,  99, 100, 101, 102, 103,\n",
        "       104, 105, 106, 107, 108, 109, 110, 111, 112, 113, 114, 115, 116,\n",
        "       117, 118, 119, 120, 121, 122, 123, 124, 125, 126, 127, 128, 129,\n",
        "       130, 131, 132, 133, 134, 135, 136, 137, 138, 139, 140, 141, 142,\n",
        "       143, 144, 145, 146, 147, 148, 149, 150, 151, 152, 153, 154, 155,\n",
        "       156, 157, 158, 159, 160, 161, 162, 163, 164, 165, 166, 167, 168,\n",
        "       169, 170, 171, 172, 173, 174, 175, 176, 177, 178, 179, 180, 181,\n",
        "       182, 183, 184, 185, 186, 187, 188, 189, 190, 191, 192, 193, 194,\n",
        "       195, 196, 197, 198, 199, 200, 201, 202, 203, 204, 205, 206, 207,\n",
        "       208, 209, 210, 211, 212, 213, 214, 215, 216, 217, 218, 219, 220,\n",
        "       221, 222, 223, 224, 225, 226, 227, 228, 229, 230, 231, 232, 233,\n",
        "       234, 235, 236, 237, 238, 239, 240, 241, 242, 243, 244, 245, 246,\n",
        "       247, 248, 249, 250, 251, 252, 253, 254, 255, 256, 257, 258, 259,\n",
        "       260, 261, 262, 263, 264, 265, 266, 267, 268, 269, 270, 271, 272,\n",
        "       273, 274, 275, 276, 277, 278, 279, 280, 281, 282, 283, 284, 285,\n",
        "       286, 287, 288, 289, 290, 291, 292, 293, 294, 295, 296, 297, 298,\n",
        "       299, 300, 301, 302, 303, 304, 305, 306, 307, 308, 309, 310, 311,\n",
        "       312, 313, 314, 315, 316, 317, 318, 319, 320, 321, 322, 323, 324,\n",
        "       325, 326, 327, 328, 329, 330, 331, 332, 333, 334, 335, 336, 337,\n",
        "       338, 339, 340, 341, 342, 343, 344, 345, 346, 347, 348, 349, 350,\n",
        "       351, 352, 353, 354, 355, 356, 357, 358, 359, 360, 361, 362, 363,\n",
        "       364, 365, 366, 367, 368, 369, 370, 371, 372, 373, 374, 375, 376,\n",
        "       377, 378, 379, 380, 381, 382, 383, 384, 385, 386, 387, 388, 389,\n",
        "       390, 391, 392, 393, 394, 395, 396, 397, 398, 399, 400, 401, 402,\n",
        "       403, 404, 405, 406, 407, 408, 409, 410, 411, 412, 413, 414, 415,\n",
        "       416, 417, 418, 419, 420, 421, 422, 423, 424, 425, 426, 427, 428,\n",
        "       429, 430, 431, 432, 433, 434, 435, 436, 437, 438, 439, 440, 441,\n",
        "       442, 443, 444, 445, 446, 447, 448, 449, 450, 451, 452, 453, 454,\n",
        "       455, 456, 457, 458, 459, 460, 461, 462, 463, 464, 465, 466, 467,\n",
        "       468, 469, 470, 471, 472, 473, 474, 475, 476, 477, 478])"
       ]
      }
     ],
     "prompt_number": 11
    },
    {
     "cell_type": "code",
     "collapsed": false,
     "input": [
      "cfier_log.estimators_[0], len(cfier_log.estimators_)"
     ],
     "language": "python",
     "metadata": {},
     "outputs": [
      {
       "metadata": {},
       "output_type": "pyout",
       "prompt_number": 14,
       "text": [
        "(LogisticRegression(C=1.0, class_weight=None, dual=False, fit_intercept=True,\n",
        "           intercept_scaling=1, max_iter=100, multi_class='ovr',\n",
        "           penalty='l2', random_state=None, solver='liblinear', tol=0.0001,\n",
        "           verbose=0), 479)"
       ]
      }
     ],
     "prompt_number": 14
    },
    {
     "cell_type": "code",
     "collapsed": false,
     "input": [
      "le = cfier_logl1.estimators_[3]"
     ],
     "language": "python",
     "metadata": {},
     "outputs": [],
     "prompt_number": 40
    },
    {
     "cell_type": "code",
     "collapsed": false,
     "input": [
      "np.nonzero(le.coef_[0] != 0), le.coef_[le.coef_ != 0]"
     ],
     "language": "python",
     "metadata": {},
     "outputs": [
      {
       "metadata": {},
       "output_type": "pyout",
       "prompt_number": 80,
       "text": [
        "((array([ 153,  388,  410, 1493, 1501, 1935, 2371]),),\n",
        " array([-0.86101026, -0.38144722, -0.20563302,  0.34044562,  0.61014878,\n",
        "         0.87300296,  2.81504375]))"
       ]
      }
     ],
     "prompt_number": 80
    },
    {
     "cell_type": "code",
     "collapsed": false,
     "input": [
      "le.intercept_"
     ],
     "language": "python",
     "metadata": {},
     "outputs": [
      {
       "metadata": {},
       "output_type": "pyout",
       "prompt_number": 42,
       "text": [
        "array([-5.96286206])"
       ]
      }
     ],
     "prompt_number": 42
    },
    {
     "cell_type": "code",
     "collapsed": false,
     "input": [
      "len(vtrain.Xdict.feature_names_)"
     ],
     "language": "python",
     "metadata": {},
     "outputs": [
      {
       "metadata": {},
       "output_type": "pyout",
       "prompt_number": 50,
       "text": [
        "2487"
       ]
      }
     ],
     "prompt_number": 50
    },
    {
     "cell_type": "code",
     "collapsed": false,
     "input": [
      "len(cfier_logl1.classes_)"
     ],
     "language": "python",
     "metadata": {},
     "outputs": [
      {
       "metadata": {},
       "output_type": "pyout",
       "prompt_number": 77,
       "text": [
        "479"
       ]
      }
     ],
     "prompt_number": 77
    },
    {
     "cell_type": "code",
     "collapsed": false,
     "input": [
      "np.nonzero(vtrain.X[0].toarray()[0] > 0), \\\n",
      "vtrain.Y[0].argmax(), \\\n",
      "[vtrain.Xdict.feature_names_[i] for i in np.nonzero(vtrain.X[0].toarray()[0] > 0)[0]], \\\n",
      "vtrain.Ydict.classes_[149]"
     ],
     "language": "python",
     "metadata": {},
     "outputs": [
      {
       "metadata": {},
       "output_type": "pyout",
       "prompt_number": 74,
       "text": [
        "((array([  48,   63,   64,   67,   79,  136,  176,  345,  388,  410,  426,\n",
        "          439,  473,  557,  939,  955,  968,  978,  979, 1091, 1247, 1450,\n",
        "         1455, 1518, 1532, 1567, 1614, 1646, 1788, 1863, 1871, 1877, 1922,\n",
        "         2000, 2141, 2371]),),\n",
        " 149,\n",
        " [u'lat/ability/WordnetLAT',\n",
        "  u'lat/act/WordnetLAT',\n",
        "  u'lat/acting/WordnetLAT',\n",
        "  u'lat/activity/WordnetLAT',\n",
        "  u'lat/adult/WordnetLAT',\n",
        "  u'lat/approval/WordnetLAT',\n",
        "  u'lat/attribute/WordnetLAT',\n",
        "  u'lat/character/LAT',\n",
        "  u'lat/cognition/WordnetLAT',\n",
        "  u'lat/communication/WordnetLAT',\n",
        "  u'lat/concept/WordnetLAT',\n",
        "  u'lat/content/WordnetLAT',\n",
        "  u'lat/creativity/WordnetLAT',\n",
        "  u'lat/discipline/WordnetLAT',\n",
        "  u'lat/honor/WordnetLAT',\n",
        "  u'lat/humanistic discipline/WordnetLAT',\n",
        "  u'lat/idea/WordnetLAT',\n",
        "  u'lat/imaginary being/WordnetLAT',\n",
        "  u'lat/imagination/WordnetLAT',\n",
        "  u'lat/knowledge domain/WordnetLAT',\n",
        "  u'lat/message/WordnetLAT',\n",
        "  u'lat/performing arts/WordnetLAT',\n",
        "  u'lat/person/WordnetLAT',\n",
        "  u'lat/portrayal/WordnetLAT',\n",
        "  u'lat/praise/WordnetLAT',\n",
        "  u'lat/property/WordnetLAT',\n",
        "  u'lat/recommendation/WordnetLAT',\n",
        "  u'lat/repute/WordnetLAT',\n",
        "  u'lat/signal/WordnetLAT',\n",
        "  u'lat/standing/WordnetLAT',\n",
        "  u'lat/state/WordnetLAT',\n",
        "  u'lat/status/WordnetLAT',\n",
        "  u'lat/symbol/WordnetLAT',\n",
        "  u'lat/trait/WordnetLAT',\n",
        "  u'lat/written symbol/WordnetLAT',\n",
        "  u'sv=play'],\n",
        " u'/film/actor/film|/film/performance/character')"
       ]
      }
     ],
     "prompt_number": 74
    },
    {
     "cell_type": "code",
     "collapsed": false,
     "input": [
      "from fbpath_train_logistic import dump_cfier"
     ],
     "language": "python",
     "metadata": {},
     "outputs": [],
     "prompt_number": 87
    },
    {
     "cell_type": "code",
     "collapsed": false,
     "input": [
      "dump_cfier(cfier_logl1, vtrain.Xdict, vtrain.Ydict)"
     ],
     "language": "python",
     "metadata": {},
     "outputs": [
      {
       "output_type": "stream",
       "stream": "stdout",
       "text": [
        "/// Model is OneVsRestClassifier(estimator=LogisticRegression(C=1.0, class_weight=None, dual=False, fit_intercept=True, intercept_scaling=1, max_iter=100, multi_class='ovr', penalty='l1', random_state=None, solver='liblinear', tol=0.0001, verbose=0), n_jobs=4)\n",
        "{\n",
        "  \"/american_football/football_player/games|/american_football/player_game_statistics/team\": {\"lat/artifact/WordnetLAT\": -0.86101026394692537, \"lat/team/LAT\": 0.87300296223730467, \"lat/cognition/WordnetLAT\": -0.38144721636997275, \"lat/communication/WordnetLAT\": -0.20563302091158286, \"sv=play\": 2.8150437526635081, \"lat/playing/WordnetLAT\": 0.61014877561399272, \"lat/play/LAT\": 0.34044562094822139, \"_\": -5.9628620590872394},\n",
        "  \"/american_football/football_player/passing|/american_football/player_passing_statistics/team\": {\"sv=play\": 2.3563523484212006, \"lat/artifact/WordnetLAT\": -0.43889160131420346, \"lat/cognition/WordnetLAT\": -0.080469273147365863, \"_\": -6.218297426309678, \"lat/communication/WordnetLAT\": -0.0098246322736389655},\n",
        "  \"/american_football/football_player/receiving|/american_football/player_receiving_statistics/team\": {\"lat/artifact/WordnetLAT\": -0.051542261495430196, \"lat/team/LAT\": 1.7798305022916252, \"sv=play\": 2.7035388191690384, \"lat/person/WordnetLAT\": -0.22605605474920737, \"lat/playing/WordnetLAT\": 0.025325549581222444, \"lat/play/LAT\": 1.8352336413948811, \"_\": -6.7613428657831323},\n",
        "  \"/american_football/football_player/rushing|/american_football/player_rushing_statistics/team\": {\"lat/artifact/WordnetLAT\": -0.47968871022434678, \"lat/cognition/WordnetLAT\": -0.10561395251107027, \"lat/communication/WordnetLAT\": -0.026380641528783437, \"sv=play\": 2.4345216552808782, \"lat/playing/WordnetLAT\": 1.3399579207963552, \"lat/play/LAT\": 0.23802094962227596, \"_\": -6.2100198537787943},\n",
        "  \"/american_football/football_team/current_head_coach\": {\"lat/teacher/WordnetLAT\": 1.3228475540357871, \"lat/public transport/WordnetLAT\": 1.4157387995383639, \"lat/coach/LAT\": 2.0006075425467911, \"_\": -6.8462148643387488, \"lat/horse-drawn vehicle/WordnetLAT\": 1.2597231083192473},\n",
        "  \"/american_football/football_team/division\": {\"lat/air unit/WordnetLAT\": 0.27185870401128276, \"lat/division/LAT\": 0.16377965414513312, \"lat/discord/WordnetLAT\": 0.87869688148240921, \"lat/separation/WordnetLAT\": 0.20555624475841838, \"lat/change of integrity/WordnetLAT\": 0.21826631210478215, \"lat/arithmetic operation/WordnetLAT\": 0.22293260592629599, \"_\": -7.2548847636556735, \"lat/mathematical process/WordnetLAT\": 0.16574582092494203, \"lat/phylum/WordnetLAT\": 0.6137802822912185, \"lat/league/WordnetLAT\": 0.42273507692316531, \"lat/calculation/WordnetLAT\": 1.1924242719042866, \"lat/disagreement/WordnetLAT\": 2.0968945028313821, \"lat/naval unit/WordnetLAT\": 0.80221440684234202},\n",
        "  \"/award/award_category/winners|/award/award_honor/award_winner\": {\"_\": -7.0554337179767801, \"lat/person/QuestionWordLAT\": 1.5191863679525288, \"sv=won\": 3.7221015309723882},\n",
        "  \"/award/award_nominated_work/award_nominations|/award/award_nomination/award_nominee\": {\"sv=played\": 0.035131429660786924, \"lat/person/QuestionWordLAT\": 2.8277461192536832, \"_\": -6.7729765126974595},\n",
        "  \"/award/award_nominee/award_nominations|/award/award_nomination/award\": {\"_\": -7.2419216079137714, \"sv=won\": 3.6306738245166232},\n",
        "  \"/award/award_nominee/award_nominations|/award/award_nomination/nominated_for\": {\"lat/movies/LAT\": 0.020313547803436267, \"lat/movie/ImplicitQLAT\": 0.72898702936597848, \"lat/location/WordnetLAT\": -1.2531306611673381, \"lat/show/WordnetLAT\": 1.8991734845882939, \"lat/actor/WordnetLAT\": 1.3878172993035198, \"sv=won\": 1.0535736404780935, \"lat/property/WordnetLAT\": -0.42021844174411227, \"lat/content/WordnetLAT\": -0.66617772950365628, \"lat/scientist/WordnetLAT\": 0.49222761444329954, \"lat/music/WordnetLAT\": 0.075237058674671536, \"lat/signal/WordnetLAT\": 0.51986290684063097, \"lat/songs/LAT\": 1.9277205709905894, \"lat/product/WordnetLAT\": 2.6036501255570323, \"lat/writer/WordnetLAT\": 0.62109473827734385, \"lat/location/QuestionWordLAT\": -0.91009710627127105, \"lat/person/QuestionWordLAT\": -0.13331313837247913, \"lat/song/ImplicitQLAT\": 0.68155336032893521, \"lat/event/WordnetLAT\": 0.74649186833771575, \"lat/measure/WordnetLAT\": -0.39183163715424524, \"_\": -5.3369789720067349, \"lat/organization/WordnetLAT\": -0.30138153463342754, \"lat/communicator/WordnetLAT\": 1.2577324776997261},\n",
        "  \"/award/award_nominee/award_nominations|/award/award_nomination/notes_description\": {\"lat/date/QuestionWordLAT\": 0.16162298110147849, \"lat/time/QuestionWordLAT\": 1.1735302206740423, \"_\": -6.6550292388888685, \"sv=won\": 2.6412972674125355},\n",
        "  \"/award/award_winner/awards_won|/award/award_honor/award\": {\"lat/gift/WordnetLAT\": 2.8170196670612651, \"sv=won\": 2.3529416424951108, \"lat/distribution/WordnetLAT\": 2.1540591064025967, \"lat/group/WordnetLAT\": -0.052172710717681391, \"lat/person/WordnetLAT\": 0.00088510175384921646, \"_\": -6.4431497384652401},\n",
        "  \"/award/award_winner/awards_won|/award/award_honor/honored_for\": {\"lat/movies/LAT\": 0.94562716380371103, \"lat/movie/ImplicitQLAT\": 0.066905031110547505, \"lat/location/WordnetLAT\": -1.1361760722903305, \"lat/show/WordnetLAT\": 1.5389415594710643, \"lat/event/WordnetLAT\": 0.82100671536605518, \"lat/actor/WordnetLAT\": 1.9695242756586835, \"sv=won\": 0.10798291794629743, \"lat/instrumentality/WordnetLAT\": -0.026573166974191348, \"lat/content/WordnetLAT\": -0.38301551920133814, \"lat/property/WordnetLAT\": -0.2516138562907777, \"sv=direct\": 0.17598003259525127, \"lat/scientist/WordnetLAT\": 1.1778733142253275, \"lat/music/WordnetLAT\": 0.38867641398311598, \"lat/signal/WordnetLAT\": 0.64635775414019336, \"lat/songs/LAT\": 0.45108935603583672, \"sv=starred\": 0.50143012257603581, \"lat/product/WordnetLAT\": 2.6554861927979077, \"lat/location/QuestionWordLAT\": -0.50583762579280422, \"lat/song/ImplicitQLAT\": 2.5870700798903901, \"lat/movie/LAT\": 0.27714013634841, \"lat/measure/WordnetLAT\": -0.059398244541951042, \"_\": -5.741662495549547, \"lat/communicator/WordnetLAT\": 1.3188804535146594},\n",
        "  \"/award/award_winner/awards_won|/award/award_honor/notes_description\": {\"lat/movies/LAT\": 1.4916631090389292, \"lat/movie/ImplicitQLAT\": 1.0048565868015062, \"sv=won\": 2.7696554351833278, \"lat/date/QuestionWordLAT\": 0.21422325454160371, \"lat/time/QuestionWordLAT\": 0.30879800839260085, \"sv=win\": 2.445562583896141, \"_\": -6.49840737876894},\n",
        "  \"/baseball/baseball_player/batting_stats|/baseball/batting_statistics/season\": {\"lat/life/WordnetLAT\": 1.5496479311750841, \"lat/year/ImplicitQLAT\": 0.36899427306007954, \"lat/years/LAT\": 2.2227002390837831, \"_\": -6.9707208707252946, \"sv=play\": 1.2155110445476469},\n",
        "  \"/baseball/baseball_player/batting_stats|/baseball/batting_statistics/team\": {\"lat/animal group/WordnetLAT\": 3.0277648532039327, \"lat/team/LAT\": 0.40215263502124138, \"lat/unit/WordnetLAT\": 0.75022369235126296, \"_\": -6.9059589871815881, \"sv=play\": 0.20998395985124474},\n",
        "  \"/basketball/basketball_player/player_statistics|/basketball/basketball_player_stats/season\": {\"lat/date/QuestionWordLAT\": 1.2246238263558769, \"lat/time/QuestionWordLAT\": 0.49537868178254402, \"_\": -6.4991638201026687, \"lat/year/LAT\": 3.7265750978632708},\n",
        "  \"/basketball/basketball_player/player_statistics|/basketball/basketball_player_stats/team\": {\"lat/artifact/WordnetLAT\": -0.58731681189378315, \"sv=play\": 1.2680530137139809, \"lat/team/ImplicitQLAT\": 0.95279633137106312, \"lat/location/QuestionWordLAT\": -0.15718665233138907, \"lat/skilled worker/WordnetLAT\": 2.0633031228214369, \"lat/animal group/WordnetLAT\": 3.0282563944652532, \"lat/unit/WordnetLAT\": 0.17944615859925969, \"lat/teams/LAT\": 0.0032580261362412403, \"sv=played\": 1.1136980626583926, \"_\": -6.1828108858163358},\n",
        "  \"/basketball/basketball_player/position_s\": {\"lat/position/LAT\": 1.664619234279832, \"lat/assumption/WordnetLAT\": 1.1154212633981448, \"lat/opinion/WordnetLAT\": 1.1884934047748963, \"_\": -6.844614774813139, \"sv=play\": 1.9315104166318877},\n",
        "  \"/basketball/basketball_team/previous_coaches|/basketball/basketball_historical_coach_position/coach\": {\"lat/teacher/WordnetLAT\": 0.9076084437887677, \"lat/horse-drawn vehicle/WordnetLAT\": 1.9186944738627194, \"lat/trainer/WordnetLAT\": 0.060110957868295289, \"lat/coach/LAT\": 0.78392659123481134, \"lat/public transport/WordnetLAT\": 1.3844609253553619, \"_\": -7.2520257130304477},\n",
        "  \"/biology/animal_breed/breed_of\": {\"lat/dog/WordnetLAT\": 4.0057605072816882, \"lat/hunting dog/WordnetLAT\": 3.2489623895562731, \"_\": -7.2548343364966792},\n",
        "  \"/biology/organism_classification/higher_classification\": {\"lat/dog/WordnetLAT\": 3.0750497407924273, \"lat/hunting dog/WordnetLAT\": 4.1797979598188393, \"_\": -7.2548758548009857},\n",
        "  \"/book/author/book_editions_published\": {\"lat/fact/WordnetLAT\": 0.91587882185824265, \"lat/social group/WordnetLAT\": -1.0416846479957871, \"sv=wrote\": 0.075634476581106475, \"lat/product/WordnetLAT\": 0.17659223368027874, \"lat/dramatic composition/WordnetLAT\": 0.4508544252630064, \"lat/location/QuestionWordLAT\": -0.55435845096158343, \"sv=write\": 0.90729840613805246, \"lat/publication/WordnetLAT\": 3.6377920862181847, \"lat/activity/WordnetLAT\": 0.39446765383306093, \"sv=written\": 0.31082223742612103, \"lat/record/WordnetLAT\": 0.1912411577678392, \"_\": -5.6880173393651265},\n",
        "  \"/book/author/works_written\": {\"lat/process/WordnetLAT\": 0.84803191206577666, \"lat/work/WordnetLAT\": 0.70077006388025098, \"lat/leader/WordnetLAT\": -0.38421670179240069, \"lat/publication/WordnetLAT\": 2.6795882011803291, \"lat/venture/WordnetLAT\": 1.0193061976971904, \"lat/activity/WordnetLAT\": 1.1944003309448838, \"lat/book/ImplicitQLAT\": 0.0051460300884973512, \"lat/fact/WordnetLAT\": 0.0021375324722330506, \"lat/attribute/WordnetLAT\": -0.018371907599556737, \"lat/region/WordnetLAT\": -0.22895916945799627, \"sv=write\": 1.3683397374503259, \"sv=play\": -0.10354738334977025, \"lat/scientist/WordnetLAT\": 1.765879691244111, \"lat/books/LAT\": 0.11265915879586148, \"lat/record/WordnetLAT\": 0.85999119150878256, \"lat/product/WordnetLAT\": 1.087695440924149, \"lat/person/QuestionWordLAT\": -0.20127407679468706, \"sv=written\": 0.91049958255840235, \"lat/measure/WordnetLAT\": -0.001080887539524248, \"_\": -5.1841793544663934, \"lat/social group/WordnetLAT\": -1.4889215509564191, \"sv=wrote\": 1.505551418116394, \"lat/biologist/WordnetLAT\": 1.0839492039266876, \"lat/communication/WordnetLAT\": -1.1221452169923325},\n",
        "  \"/book/book_subject/works\": {\"lat/idea/WordnetLAT\": -0.28922017216800594, \"lat/geographical area/WordnetLAT\": 0.55925767013338701, \"lat/artifact/WordnetLAT\": -0.40851537777691177, \"lat/social group/WordnetLAT\": -0.43620012158537186, \"lat/person/QuestionWordLAT\": -0.1802013282299012, \"lat/work/WordnetLAT\": 0.16985905397671475, \"sv=happened\": 1.4712862815289922, \"lat/location/QuestionWordLAT\": 0.38980250085441043, \"lat/group/WordnetLAT\": -0.06193827196767665, \"lat/part/WordnetLAT\": -0.65686093370209298, \"lat/date/QuestionWordLAT\": 0.27924812545378053, \"sv=play\": -0.53262531788842338, \"lat/time/QuestionWordLAT\": 0.050219057368667101, \"lat/ability/WordnetLAT\": -0.0037073353233123916, \"lat/President of the United States/WordnetLAT\": 0.56599438120271595, \"sv=come\": 1.0154846889882196, \"lat/information/WordnetLAT\": 1.1268803413121202, \"_\": -4.4573847170667529, \"lat/communicator/WordnetLAT\": 0.2687462667466648},\n",
        "  \"/business/board_member/leader_of|/organization/leadership/organization\": {\"lat/company/LAT\": 0.1001355409048852, \"lat/complement/WordnetLAT\": 0.92948281273008115, \"lat/visitor/WordnetLAT\": 0.84937723670983312, \"lat/friendship/WordnetLAT\": 1.9540374172323098, \"lat/unit/WordnetLAT\": 1.4224224575437749, \"_\": -6.7707694623639831, \"lat/relationship/WordnetLAT\": 0.01600791953695082, \"lat/work force/WordnetLAT\": 0.80615951415906084},\n",
        "  \"/business/board_member/organization_board_memberships|/organization/organization_board_membership/organization\": {\"_\": -7.2529384813219107, \"sv=own\": 5.4607676893029176},\n",
        "  \"/business/brand/owner_s|/business/company_brand_relationship/company\": {\"_\": -6.3286455011953979, \"lat/group/WordnetLAT\": -0.047113212992836488},\n",
        "  \"/business/employer/employees|/business/employment_tenure/person\": {\"sv=created\": 3.3542421329112084, \"sv=owns\": 2.7883598929554596, \"lat/person/QuestionWordLAT\": 1.4033602389120547, \"_\": -6.5202724410829118},\n",
        "  \"/business/sponsored_recipient/sponsorship|/business/sponsorship/sponsored_by\": {\"lat/driving/WordnetLAT\": 1.9290393773525345, \"lat/steering/WordnetLAT\": 4.631988551106911, \"_\": -6.561028068448592},\n",
        "  \"/celebrities/celebrity/sexual_relationships|/celebrities/romantic_relationship/celebrity\": {\"lat/kardashian/LAT\": 2.2666019157882382, \"lat/artifact/WordnetLAT\": -0.1948323555451989, \"lat/location/QuestionWordLAT\": -0.77493030299070664, \"lat/group/WordnetLAT\": -0.80582725626012597, \"lat/cognition/WordnetLAT\": -0.17885641713135786, \"sv=engaged\": 4.3686805920407226, \"lat/communication/WordnetLAT\": -0.085017896149539557, \"sv=dating\": 4.6148095831615308, \"_\": -5.4672927978775094},\n",
        "  \"/common/topic/alias\": {\"lat/cognition/WordnetLAT\": -0.62021502843690623, \"lat/communication/WordnetLAT\": -0.34818344817072383, \"lat/unit/WordnetLAT\": 0.61065790793286312, \"lat/person/WordnetLAT\": -0.15873160993092775, \"lat/act/WordnetLAT\": 0.12805919350938902, \"lat/thing/WordnetLAT\": 1.2167768332082662, \"_\": -5.3141504059722466},\n",
        "  \"/common/topic/notable_for\": {\"lat/goal/WordnetLAT\": 1.6894497886592634, \"sv=die\": -0.22147060481809286, \"lat/software/WordnetLAT\": 0.70628721592964361, \"lat/kind/WordnetLAT\": 0.73456017370998483, \"sv=known\": 0.83870480534742731, \"lat/enterprise/WordnetLAT\": 2.6611646890915708, \"lat/larceny/WordnetLAT\": 0.01173506896211134, \"lat/statesman/WordnetLAT\": 1.056198529290505, \"lat/workplace/WordnetLAT\": 0.010762879850353726, \"lat/unit of measurement/WordnetLAT\": 2.1659228035623186, \"lat/position/LAT\": 0.24528488105648402, \"lat/unit/WordnetLAT\": -0.031653992325772179, \"lat/person/WordnetLAT\": 0.18104433592962357, \"sv=happened\": 0.64338085041176563, \"lat/activity/WordnetLAT\": 0.62544305991958737, \"lat/actor/WordnetLAT\": 0.45498230273884094, \"lat/hero/WordnetLAT\": 0.015836781806376592, \"lat/book/WordnetLAT\": 1.9217235057158393, \"lat/thing/WordnetLAT\": -0.58220685068977507, \"lat/relative/WordnetLAT\": -0.69340534729166547, \"lat/application/WordnetLAT\": 0.0015111035814356724, \"lat/creation/WordnetLAT\": -0.37515490486626529, \"lat/artifact/WordnetLAT\": -0.083833263711135836, \"lat/explorer/WordnetLAT\": 0.80480246527890342, \"lat/region/WordnetLAT\": -0.39710296475203938, \"sv=use\": -0.23660043005859305, \"lat/worker/WordnetLAT\": -0.66424979586609989, \"lat/navigator/WordnetLAT\": 1.4386139142851182, \"lat/social event/WordnetLAT\": -0.088248554055678705, \"lat/property/WordnetLAT\": -0.31322557446978933, \"lat/date/QuestionWordLAT\": -3.8784891883187692e-05, \"sv=play\": -0.49136578723522334, \"lat/plant organ/WordnetLAT\": 0.25550584874074078, \"lat/representative/WordnetLAT\": -1.0424333038944507, \"sv=do\": 1.6064267064882332, \"lat/writer/WordnetLAT\": 0.95753038366696719, \"lat/possession/WordnetLAT\": -0.43987338104147988, \"lat/negotiator/WordnetLAT\": -0.60583265013259646, \"lat/opinion/WordnetLAT\": 0.043252084945949891, \"lat/duty/WordnetLAT\": 1.5058896400073778, \"lat/assumption/WordnetLAT\": 0.010958188749736848, \"lat/robbery/WordnetLAT\": 9.9483838214797793e-05, \"lat/location/QuestionWordLAT\": -2.0239951504221021, \"lat/person/QuestionWordLAT\": -1.1362212568858647, \"lat/type/LAT\": 0.190575001525678, \"lat/felony/WordnetLAT\": 0.35029676078370708, \"lat/device/WordnetLAT\": -0.12807621502831384, \"lat/time/QuestionWordLAT\": -1.2785093176901849, \"lat/composer/WordnetLAT\": 0.30830889870283174, \"lat/event/WordnetLAT\": -0.27715635024784274, \"lat/measure/WordnetLAT\": -0.21445774140951601, \"_\": -3.5014809637319857, \"lat/program/WordnetLAT\": 0.0056079343965704182, \"lat/social group/WordnetLAT\": -1.7613961025236147, \"lat/implement/WordnetLAT\": 0.6038701791806409, \"lat/adult/WordnetLAT\": 0.061855171040039715, \"lat/object/WordnetLAT\": -0.25035194742003497, \"lat/ability/WordnetLAT\": -1.4662683867762765, \"sv=sing\": 0.96971720320400345, \"lat/plant part/WordnetLAT\": 0.046780644358078952, \"lat/galilei/LAT\": 3.5014809637326612},\n",
        "  \"/common/topic/notable_types\": {\"lat/property/WordnetLAT\": -0.048571994801746218, \"lat/social group/WordnetLAT\": -1.4534422989821119, \"sv=play\": -0.22474183615658344, \"lat/attribute/WordnetLAT\": -0.23494907140233121, \"lat/head of state/WordnetLAT\": -0.39851652809627008, \"lat/person/QuestionWordLAT\": -0.57816096841732911, \"lat/creator/WordnetLAT\": 1.1447313981927727, \"lat/symbol/WordnetLAT\": 0.32292817750164238, \"lat/leader/WordnetLAT\": -0.15538298803816453, \"lat/location/QuestionWordLAT\": -1.4778869949173921, \"lat/unit of measurement/WordnetLAT\": 1.7489018925907429, \"lat/cognition/WordnetLAT\": -0.64456446787432453, \"lat/time/QuestionWordLAT\": -0.019028704442007719, \"lat/person/WordnetLAT\": 0.58160129264381799, \"sv=do\": 1.6698532265824109, \"lat/musician/WordnetLAT\": 0.64717934867705373, \"lat/measure/WordnetLAT\": 0.17257567090452119, \"lat/worker/WordnetLAT\": -0.43834013331622629, \"_\": -4.7585339621432023},\n",
        "  \"/cvg/game_character/games|/cvg/game_performance/voice_actor\": {\"sv=plays\": 2.3689767336093537, \"lat/person/QuestionWordLAT\": 1.6962393580598203, \"_\": -6.7729138433853224},\n",
        "  \"/cvg/game_voice_actor/computer_game_voice_performances|/cvg/game_performance/character\": {\"lat/character/ImplicitQLAT\": 0.44582557485335855, \"lat/state/WordnetLAT\": 0.85639131779563149, \"lat/concept/WordnetLAT\": 0.44229056278882994, \"sv=play\": 0.73691235309625869, \"_\": -7.373511010619108, \"lat/portrayal/WordnetLAT\": 4.0170232989248591, \"lat/acting/WordnetLAT\": 0.020526706492416745, \"lat/characters/LAT\": 0.28438100262726262},\n",
        "  \"/education/educational_institution/mascot\": {\"lat/mascot/LAT\": 4.8528556017729096, \"_\": -7.2511581278982264},\n",
        "  \"/event/public_speaker/speeches_or_presentations|/event/speech_or_presentation/speech_topic\": {\"lat/war/LAT\": 5.4616922076202412, \"_\": -6.8479967431059823},\n",
        "  \"/fictional_universe/fictional_character/character_created_by\": {\"sv=plays\": 1.2100027189751357, \"sv=created\": 2.2819279029299442, \"lat/person/QuestionWordLAT\": 3.2699183049995626, \"_\": -7.1879712250768844},\n",
        "  \"/fictional_universe/fictional_character/married_to|/fictional_universe/marriage_of_fictional_characters/spouses\": {\"lat/content/WordnetLAT\": 0.81549787567026399, \"_\": -6.6579772709306413, \"sv=marry\": 4.1628992976080159},\n",
        "  \"/fictional_universe/fictional_character/parents\": {\"sv=played\": 2.5458219539562532, \"lat/person/QuestionWordLAT\": 0.16935087087362655, \"_\": -6.8371503993559237},\n",
        "  \"/fictional_universe/fictional_character/places_lived\": {\"sv=live\": 1.7272193408256431, \"lat/planet/LAT\": 6.6728542206499242, \"lat/location/QuestionWordLAT\": 0.65832839440176916, \"_\": -6.6729146617679236},\n",
        "  \"/fictional_universe/fictional_character/romantically_involved_with|/fictional_universe/romantic_involvement/partner\": {\"lat/friend/WordnetLAT\": 3.4284011403917898, \"_\": -6.3424603506260677, \"lat/relative/WordnetLAT\": 1.3237197011473731, \"lat/group/WordnetLAT\": -0.2116346215082929},\n",
        "  \"/fictional_universe/fictional_character/siblings|/fictional_universe/sibling_relationship_of_fictional_characters/siblings\": {\"lat/brothers/LAT\": 4.0091294967897113, \"_\": -6.8490594240981029, \"lat/brother/ImplicitQLAT\": 2.839929927308261},\n",
        "  \"/fictional_universe/fictional_character_creator/fictional_characters_created\": {\"lat/character/ImplicitQLAT\": 0.25077896716482717, \"lat/state/WordnetLAT\": 0.49026105194566011, \"lat/concept/WordnetLAT\": 0.086002924771755515, \"_\": -6.5792865477615372, \"lat/portrayal/WordnetLAT\": 4.1440865616055813, \"lat/acting/WordnetLAT\": 0.22819640908931033, \"lat/characters/LAT\": 1.3799828479357974},\n",
        "  \"/fictional_universe/person_in_fiction/representations_in_fiction\": {\"sv=played\": 2.5458098666258691, \"lat/person/QuestionWordLAT\": 0.16979054805688898, \"_\": -6.8372581354440305},\n",
        "  \"/film/actor/film|/film/performance/character\": {\"lat/movies/LAT\": 0.36149290861498701, \"lat/movie/ImplicitQLAT\": 0.98662701814305143, \"lat/category/WordnetLAT\": -0.37912361714258996, \"lat/preacher/WordnetLAT\": 1.1434117001489801, \"lat/leader/WordnetLAT\": 0.082335111321738153, \"sv=star\": 1.7466416830887781, \"lat/actor/WordnetLAT\": 1.7504406604769853, \"lat/politician/WordnetLAT\": 0.21131579832600988, \"lat/artifact/WordnetLAT\": -0.23329272722108896, \"lat/trait/WordnetLAT\": 1.9435352755487816, \"lat/group/WordnetLAT\": -0.10598520792599524, \"lat/date/QuestionWordLAT\": -0.10369813949469558, \"sv=play\": 2.5628400178239144, \"lat/writer/WordnetLAT\": 0.29262365932007345, \"lat/location/QuestionWordLAT\": -1.8562959036661033, \"lat/written symbol/WordnetLAT\": 0.93796587439073242, \"lat/part/WordnetLAT\": -0.051143075644653251, \"_\": -4.7629468694927901, \"lat/social group/WordnetLAT\": -1.9050080974664141, \"lat/communication/WordnetLAT\": -0.64008443023400197, \"lat/evangelist/WordnetLAT\": 2.1094640944080507, \"lat/portrayal/WordnetLAT\": 0.48997739295459186, \"lat/acting/WordnetLAT\": 0.45604542183905589},\n",
        "  \"/film/actor/film|/film/performance/film\": {\"lat/chemist/WordnetLAT\": 0.3266707989279326, \"lat/movies/LAT\": 1.2598244445650018, \"lat/movie/ImplicitQLAT\": 0.022742299216264649, \"lat/location/WordnetLAT\": -0.41382366728643172, \"lat/show/WordnetLAT\": 3.0697578391044829, \"lat/act/WordnetLAT\": -0.53978277196337854, \"lat/sheet/WordnetLAT\": 1.1534321049225793, \"sv=star\": 1.0157955831905123, \"lat/actor/WordnetLAT\": 0.071007177156371296, \"lat/clergyman/WordnetLAT\": 0.54375403171958192, \"lat/structure/WordnetLAT\": 0.11098462549255972, \"sv=act\": 1.8775669767976211, \"sv=play\": 1.2764641460543162, \"lat/social event/WordnetLAT\": 0.72467349289247662, \"lat/group/WordnetLAT\": -0.65874890881603843, \"lat/property/WordnetLAT\": -0.75733209113029076, \"lat/auditory communication/WordnetLAT\": -0.62585942716432896, \"lat/representative/WordnetLAT\": -0.30921526754729894, \"lat/scientist/WordnetLAT\": 1.9748935835616568, \"lat/wrapping/WordnetLAT\": 0.49252294897304827, \"lat/negotiator/WordnetLAT\": -0.37130448291584772, \"lat/product/WordnetLAT\": 1.3254622507841407, \"lat/writer/WordnetLAT\": 0.84323764684839408, \"lat/person/QuestionWordLAT\": -0.27088157587760492, \"lat/location/QuestionWordLAT\": -0.1544585102872367, \"lat/character/WordnetLAT\": 1.372788009802562, \"lat/film/ImplicitQLAT\": 0.13362503669919715, \"lat/performer/WordnetLAT\": 0.88867288996207838, \"sv=been\": 4.5940883020728691, \"_\": -5.0787973875107175, \"lat/advocate/WordnetLAT\": 1.6393549375835663, \"lat/social group/WordnetLAT\": -0.71956107106676248, \"lat/films/LAT\": 0.0025933036843326981, \"lat/leader/WordnetLAT\": 0.29602361002307354, \"lat/spiritual leader/WordnetLAT\": 3.0124223593891982e-05},\n",
        "  \"/film/director/film\": {\"lat/product/WordnetLAT\": 0.90681557811724978, \"lat/show/WordnetLAT\": 3.1560661855564036, \"lat/social event/WordnetLAT\": 0.15165722695119352, \"sv=play\": -0.22250778646170755, \"sv=direct\": 2.6000706640595088, \"_\": -6.8429678556549129},\n",
        "  \"/film/film/starring|/film/performance/actor\": {\"sv=played\": 1.3502930192222777, \"sv=plays\": 1.1641375104434453, \"lat/person/QuestionWordLAT\": 3.2262618956776681, \"_\": -6.7883815817436863},\n",
        "  \"/film/film_character/portrayed_in_films|/film/performance/actor\": {\"lat/expression/WordnetLAT\": 1.4875141452325926, \"lat/voice/LAT\": 1.7347270368044412, \"lat/grammatical relation/WordnetLAT\": 0.89513958668093863, \"sv=won\": -0.29247005218564481, \"lat/linguistic relation/WordnetLAT\": 0.94883248220690064, \"lat/physical ability/WordnetLAT\": 0.036517437877231412, \"lat/person/QuestionWordLAT\": 3.0367748214205283, \"lat/cognition/WordnetLAT\": -0.17462060187468914, \"lat/group/WordnetLAT\": -0.80810379524416232, \"lat/location/QuestionWordLAT\": -0.74672463398213973, \"sv=plays\": 2.1351853323664769, \"sv=played\": 2.0365149788614159, \"lat/artifact/WordnetLAT\": -0.23805614470839354, \"_\": -5.5081957969102699},\n",
        "  \"/film/film_story_contributor/film_story_credits\": {\"lat/social group/WordnetLAT\": -0.38399560083044293, \"sv=wrote\": 0.07832925896496086, \"lat/product/WordnetLAT\": 1.1296891428251972, \"lat/location/WordnetLAT\": -0.18894727114281371, \"lat/location/QuestionWordLAT\": -0.36216005302348037, \"lat/act/WordnetLAT\": -0.3943122614388011, \"lat/book/ImplicitQLAT\": 0.00050439959777174247, \"lat/music/WordnetLAT\": 2.1176376001344468, \"lat/books/LAT\": 0.36882142391898293, \"lat/record/WordnetLAT\": 0.28739532315664873, \"_\": -5.880269299236411},\n",
        "  \"/film/film_subject/films\": {\"lat/artifact/WordnetLAT\": -0.26901174918774051, \"lat/cognition/WordnetLAT\": -0.13886921580454523, \"_\": -5.6946903180503758, \"lat/communication/WordnetLAT\": -0.027517322091709536},\n",
        "  \"/film/music_contributor/film\": {\"lat/product/WordnetLAT\": 0.71497939140857159, \"lat/show/WordnetLAT\": 3.0526611431775792, \"lat/social event/WordnetLAT\": 0.030058711941783327, \"_\": -7.2475457175130824},\n",
        "  \"/film/person_or_entity_appearing_in_film/films|/film/personal_film_appearance/film\": {\"lat/movies/LAT\": 1.3602851247158996, \"lat/movie/ImplicitQLAT\": 3.2127946588121779, \"_\": -6.5452440650583048, \"sv=star\": 0.35046099082715487},\n",
        "  \"/film/person_or_entity_appearing_in_film/films|/film/personal_film_appearance/type_of_appearance\": {\"lat/person/QuestionWordLAT\": 1.8410872356292352, \"_\": -7.1788263603743818},\n",
        "  \"/film/producer/film\": {\"lat/movies/LAT\": 0.97351781309684549, \"lat/movie/ImplicitQLAT\": 0.057886273823028071, \"lat/product/WordnetLAT\": 0.45506376382136771, \"lat/show/WordnetLAT\": 2.8144262210738797, \"sv=direct\": 2.7207673701530335, \"_\": -6.5511685779663997},\n",
        "  \"/film/producer/films_executive_produced\": {\"lat/actor/WordnetLAT\": 3.6454277162135869, \"lat/movies/LAT\": 2.0828060563934456, \"lat/movie/ImplicitQLAT\": 2.6124439800607377, \"_\": -6.8236698974246792},\n",
        "  \"/film/writer/film\": {\"lat/movies/LAT\": 0.02704825221865197, \"lat/movie/ImplicitQLAT\": 0.69699022207133432, \"sv=write\": 3.0579726160675036, \"lat/product/WordnetLAT\": 0.24442781155412988, \"lat/show/WordnetLAT\": 2.883794807668385, \"lat/location/QuestionWordLAT\": -0.15836117845911643, \"lat/group/WordnetLAT\": -0.54828743119257639, \"lat/social event/WordnetLAT\": 0.22915021986564968, \"sv=play\": -0.03975630838446155, \"sv=direct\": 2.3161064247516929, \"_\": -6.0823635636465223},\n",
        "  \"/geography/river/mouth\": {\"lat/location/QuestionWordLAT\": 0.8211382577447246, \"lat/flow/WordnetLAT\": 0.59062580149854282, \"sv=end\": 6.1855966918399501, \"lat/turbulent flow/WordnetLAT\": 1.9607025970641765, \"lat/sea/LAT\": 2.3702527341173609, \"lat/large indefinite quantity/WordnetLAT\": 0.21133868357215993, \"_\": -6.8057302936984465, \"sv=flow\": 3.3455159028434545},\n",
        "  \"/geography/river/origin\": {\"lat/location/QuestionWordLAT\": 0.8177731947426965, \"_\": -7.0546883071398589, \"sv=begin\": 5.5440067325176852},\n",
        "  \"/government/governmental_body/members|/government/government_position_held/office_holder\": {\"lat/person/WordnetLAT\": 0.82884716449837592, \"_\": -7.0577160485579213},\n",
        "  \"/government/governmental_jurisdiction/governing_officials|/government/government_position_held/appointed_by\": {\"lat/governor/LAT\": 2.0681906433289039, \"lat/artifact/WordnetLAT\": 0.085274711205924142, \"lat/president/LAT\": 0.27414135458709815, \"lat/leader/WordnetLAT\": 1.4156084774660096, \"lat/corporate executive/WordnetLAT\": 0.72382759384022988, \"lat/person/WordnetLAT\": 0.69515646615169246, \"lat/presidency/WordnetLAT\": 0.60931524951986404, \"_\": -6.6623720545073688},\n",
        "  \"/government/governmental_jurisdiction/governing_officials|/government/government_position_held/governmental_body\": {\"_\": -7.3882569043367958, \"lat/quality/WordnetLAT\": 1.8430187714136081, \"lat/category/WordnetLAT\": 1.8640411330344455},\n",
        "  \"/government/governmental_jurisdiction/governing_officials|/government/government_position_held/office_holder\": {\"lat/governor/LAT\": 4.6216231320127079, \"lat/communication/WordnetLAT\": -0.41988600331209264, \"lat/group/WordnetLAT\": -0.83721578490288051, \"lat/politician/WordnetLAT\": 0.76116951916927267, \"lat/artifact/WordnetLAT\": 0.08411568548677173, \"lat/leader/LAT\": 6.5705831115192606, \"sv=won\": 3.0004017760445971, \"lat/instrumentality/WordnetLAT\": 0.35708709318493792, \"lat/legislator/WordnetLAT\": 0.84523887050879132, \"lat/employment/WordnetLAT\": 0.010109685292972402, \"lat/man/WordnetLAT\": 0.01410837960501028, \"lat/minister/LAT\": 0.16637933764594448, \"lat/lawgiver/WordnetLAT\": 0.11485897155359644, \"lat/leader/WordnetLAT\": 2.2320273662134835, \"lat/feature/WordnetLAT\": 0.4515254385573208, \"lat/chessman/WordnetLAT\": 0.023016022394812468, \"lat/face card/WordnetLAT\": 1.0167048088153001, \"lat/public service/WordnetLAT\": 0.76786807058323525, \"lat/person/QuestionWordLAT\": 2.1151936304375685, \"lat/location/QuestionWordLAT\": -0.50582341139114795, \"lat/executive/WordnetLAT\": 4.2732970774515877, \"sv=plays\": -0.22919176710194902, \"_\": -5.736149464950886, \"lat/rival/WordnetLAT\": 0.13910324303078228, \"lat/cognition/WordnetLAT\": -0.17637570741106987, \"lat/merchandise/WordnetLAT\": 0.16113574482978232, \"sv=played\": -0.34457774926468804, \"lat/person/WordnetLAT\": 0.078227396991743817},\n",
        "  \"/government/governmental_jurisdiction/government_bodies\": {\"_\": -6.9328900415781902, \"lat/quality/WordnetLAT\": 1.5545653269533004, \"lat/category/WordnetLAT\": 1.5744292427159694},\n",
        "  \"/government/governmental_jurisdiction/official_symbols|/location/location_symbol_relationship/symbol\": {\"lat/artifact/WordnetLAT\": -0.22577457350081448, \"lat/symbols/LAT\": 2.6588707222167463, \"lat/symbol/ImplicitQLAT\": 3.3512281348311905, \"lat/plant/WordnetLAT\": 1.4097570862593567, \"lat/communication/WordnetLAT\": 0.060143497987916621, \"lat/group/WordnetLAT\": -0.32455551754424572, \"lat/flower/LAT\": 0.9126432107295579, \"lat/spermatophyte/WordnetLAT\": 0.41751129922887559, \"lat/vascular plant/WordnetLAT\": 2.4480856537265314, \"_\": -6.0703351010032334, \"lat/angiosperm/WordnetLAT\": 0.18919067049896718},\n",
        "  \"/government/political_appointer/appointees|/government/government_position_held/jurisdiction_of_office\": {\"lat/geographical area/WordnetLAT\": 0.086786223662921255, \"lat/people/WordnetLAT\": 1.8907679025431468, \"lat/country/ImplicitQLAT\": 0.036016437073882954, \"sv=rule\": 3.2255156135164338, \"_\": -6.5436477891900227, \"lat/political unit/WordnetLAT\": 0.50458455561921989},\n",
        "  \"/government/political_district/representatives|/government/government_position_held/office_holder\": {\"lat/senator/ImplicitQLAT\": 0.4201113080883172, \"lat/lawgiver/WordnetLAT\": 4.9010401151547773, \"lat/legislator/WordnetLAT\": 3.0402169184619985, \"lat/senators/LAT\": 0.56297596463994837, \"_\": -6.844904180235643},\n",
        "  \"/government/politician/election_campaigns\": {\"lat/date/QuestionWordLAT\": 1.4851934502044857, \"sv=run\": 4.3985941131835187, \"lat/time/QuestionWordLAT\": 0.021810234727783862, \"_\": -6.9828744050901816},\n",
        "  \"/government/politician/government_positions_held|/government/government_position_held/district_represented\": {\"sv=live\": 0.6327219378625899, \"lat/state/LAT\": 3.1547081802943397, \"lat/region/WordnetLAT\": 1.5384333495099185, \"lat/location/QuestionWordLAT\": 0.87283161616241967, \"sv=represent\": 2.2176000475626729, \"_\": -6.528235576978477},\n",
        "  \"/government/politician/government_positions_held|/government/government_position_held/jurisdiction_of_office\": {\"sv=rule\": 2.879335366085527, \"_\": -6.3073012146008525, \"lat/location/QuestionWordLAT\": 0.75994447559699452, \"lat/state/LAT\": 1.6759515506160461, \"lat/political unit/WordnetLAT\": 2.6386917667523671},\n",
        "  \"/government/politician/government_positions_held|/government/government_position_held/office_position_or_title\": {\"sv=play\": -0.4766116703996443, \"lat/head of state/WordnetLAT\": 2.1936292865624769, \"lat/diplomat/WordnetLAT\": 1.8085232868030703, \"lat/location/WordnetLAT\": 0.18571747011548753, \"lat/location/QuestionWordLAT\": -0.53756689563397797, \"sv=hold\": 1.4030972319477142, \"lat/administrative unit/WordnetLAT\": 0.62975235468450252, \"lat/position/LAT\": 0.31124206303099528, \"lat/content/WordnetLAT\": -0.1598387659012841, \"lat/unit/WordnetLAT\": 0.54694475175210999, \"_\": -5.7768803611475112, \"sv=do\": 1.2759314708633587, \"lat/President of the United States/WordnetLAT\": 1.5908192061428474, \"lat/assumption/WordnetLAT\": 0.12184986014308412, \"lat/negotiator/WordnetLAT\": 0.15426489577084293, \"lat/opinion/WordnetLAT\": 0.092055981159106251, \"lat/duty/WordnetLAT\": 3.3127204479778043},\n",
        "  \"/government/politician/party|/government/political_party_tenure/party\": {\"lat/affair/WordnetLAT\": 1.1243658775262502, \"lat/set/WordnetLAT\": 5.3038222469559786, \"lat/party/LAT\": 2.6907339235682675, \"_\": -7.248018327210846},\n",
        "  \"/government/us_president/vice_president\": {\"lat/president/LAT\": 1.8229224362753871, \"lat/corporate executive/WordnetLAT\": 1.6865442217993603, \"lat/date/QuestionWordLAT\": 1.006562229801774, \"lat/academic administrator/WordnetLAT\": 0.15586096327207008, \"lat/time/QuestionWordLAT\": 1.8405644478192242, \"lat/presidency/WordnetLAT\": 1.1107598328606005, \"_\": -6.5106883218078568},\n",
        "  \"/influence/influence_node/influenced\": {\"sv=inspired\": 5.6434773988364784, \"_\": -7.2533069286090033},\n",
        "  \"/influence/influence_node/influenced_by\": {\"lat/social group/WordnetLAT\": -0.47716242290293781, \"lat/cognition/WordnetLAT\": -0.19509553208474401, \"lat/location/QuestionWordLAT\": -0.56330978500690132, \"sv=influenced\": 7.9808400814797125, \"sv=inspired\": 5.6789134813805608, \"_\": -5.6789134804451828},\n",
        "  \"/language/human_language/countries_spoken_in\": {\"lat/geographical area/WordnetLAT\": 0.29979094598165551, \"sv=speak\": 2.9870212377414322, \"sv=speaks\": 6.6210504667532657, \"lat/countries/LAT\": 1.0778455802054301, \"sv=spoken\": 3.6723997652132785, \"lat/people/WordnetLAT\": 2.0035689606151279, \"lat/location/QuestionWordLAT\": 2.4769454855145985, \"lat/cognition/WordnetLAT\": -0.4329810510338451, \"lat/communication/WordnetLAT\": -0.36041947222060772, \"lat/country/ImplicitQLAT\": 0.00034749336061836431, \"_\": -6.62103667550904, \"lat/political unit/WordnetLAT\": 0.62806288868692539},\n",
        "  \"/language/human_language/dialects\": {\"lat/dialects/LAT\": 5.163258422569049, \"_\": -6.8490661964678479, \"lat/dialect/ImplicitQLAT\": 1.6858077754944805},\n",
        "  \"/language/human_language/language_family\": {\"lat/set/WordnetLAT\": 1.9990791168459421, \"_\": -6.597054781501182, \"lat/abstraction/WordnetLAT\": 2.9678227923497698},\n",
        "  \"/language/human_language/main_country\": {\"lat/geographical area/WordnetLAT\": 0.20149044095760427, \"sv=speak\": 3.1450893783235321, \"lat/countries/LAT\": 0.45721771806383654, \"sv=spoken\": 3.5558025192226514, \"lat/people/WordnetLAT\": 2.0049527312610018, \"lat/location/QuestionWordLAT\": 2.7130570652748225, \"lat/cognition/WordnetLAT\": -0.4247459962813499, \"lat/communication/WordnetLAT\": -0.40265222583850735, \"lat/country/ImplicitQLAT\": 0.67775228368832874, \"sv=come\": 1.7898539941910578, \"sv=go\": -0.017288484657245751, \"_\": -6.6588690560615609, \"lat/political unit/WordnetLAT\": 0.44585815274217477},\n",
        "  \"/language/human_language/writing_system\": {\"lat/location/QuestionWordLAT\": 0.40610123207153531, \"_\": -6.6488192906810273},\n",
        "  \"/law/inventor/inventions\": {\"sv=invented\": 2.58282544466674, \"lat/inventions/LAT\": 1.4217870533483115, \"lat/invention/ImplicitQLAT\": 4.0840379757069343, \"lat/person/QuestionWordLAT\": -0.37507757935985897, \"lat/creator/WordnetLAT\": 1.4010652726364756, \"lat/location/QuestionWordLAT\": -1.1060302378350877, \"lat/group/WordnetLAT\": -1.2867800267996581, \"lat/act/WordnetLAT\": 0.24649863703450844, \"sv=made\": 1.2601225302811789, \"sv=invent\": 5.1152979107485379, \"lat/inventor/WordnetLAT\": 1.3638251656056175, \"lat/babbage/LAT\": 4.5655160631827618, \"sv=make\": 1.2366639440221279, \"lat/aim/WordnetLAT\": 0.19712366800571893, \"lat/entity/WordnetLAT\": 1.308569496333073, \"lat/physicist/WordnetLAT\": 0.67229903597063057, \"_\": -5.1838651879941162},\n",
        "  \"/law/inventor/us_patents\": {\"sv=invent\": 5.173229054689477, \"_\": -6.5598948286824195},\n",
        "  \"/location/administrative_division/capital|/location/administrative_division_capital_relationship/capital\": {\"lat/capital/LAT\": 0.11704203295558524, \"lat/city/LAT\": 2.6403635679213915, \"lat/region/WordnetLAT\": 1.9154945128173722, \"lat/location/QuestionWordLAT\": 0.25934002237166859, \"lat/top/WordnetLAT\": 1.196675084311154, \"lat/unit/WordnetLAT\": -0.47395232298739209, \"lat/federal government/WordnetLAT\": 3.2723476884592548, \"_\": -6.5015593185344143},\n",
        "  \"/location/administrative_division/country\": {\"_\": -6.5367671177496431, \"lat/district/WordnetLAT\": 0.38414324015787793, \"lat/country/LAT\": 1.3814120167727117, \"lat/location/QuestionWordLAT\": 1.3970547813776835, \"lat/administrative district/WordnetLAT\": 0.87934783124250515},\n",
        "  \"/location/administrative_division/first_level_division_of\": {\"lat/location/QuestionWordLAT\": 1.1010185466580806, \"_\": -6.6486500938764186},\n",
        "  \"/location/capital_of_administrative_division/capital_of|/location/administrative_division_capital_relationship/administrative_division\": {\"lat/geographical area/WordnetLAT\": -1.0978678849433994, \"lat/state/LAT\": 1.046366271430097, \"lat/location/WordnetLAT\": 2.231544437017031, \"sv=located\": 0.29022259856497168, \"lat/location/QuestionWordLAT\": 2.0213040944549281, \"lat/county/LAT\": 3.9389292075328313, \"lat/person/WordnetLAT\": -0.016242587877609221, \"_\": -6.4946234134926337},\n",
        "  \"/location/citytown/postal_codes\": {\"lat/artifact/WordnetLAT\": -0.77674416171907545, \"lat/location/WordnetLAT\": -0.72276239684271837, \"lat/coding system/WordnetLAT\": 6.9719351791425357, \"lat/person/WordnetLAT\": -1.0869970012119972, \"_\": -6.5772079309756357, \"lat/code/LAT\": 0.41664571429990366},\n",
        "  \"/location/country/administrative_divisions\": {\"lat/artifact/WordnetLAT\": -0.31296134292235722, \"lat/city/LAT\": 0.91167429048588478, \"lat/location/WordnetLAT\": 1.4714468939264591, \"lat/people/WordnetLAT\": 0.36550409988589844, \"lat/communication/WordnetLAT\": -0.19065621993900447, \"lat/province/LAT\": 2.9594988026731617, \"lat/country/ImplicitQLAT\": 0.54632634963784799, \"_\": -5.8172645450818763},\n",
        "  \"/location/country/capital\": {\"lat/urban area/WordnetLAT\": 0.18481003295177464, \"lat/geographical area/WordnetLAT\": 1.0864323459271463, \"lat/capital/LAT\": 1.6301246404644674, \"lat/city/LAT\": 1.2084123151076966, \"sv=born\": -0.012668156237359241, \"lat/location/QuestionWordLAT\": 1.8258778640389983, \"lat/gathering/WordnetLAT\": 0.84259198935732948, \"lat/unit/WordnetLAT\": -0.099079532066996587, \"lat/person/WordnetLAT\": -0.71590391866828729, \"lat/federal government/WordnetLAT\": 0.28623533129526324, \"lat/municipality/WordnetLAT\": 1.3774230209913632, \"lat/top/WordnetLAT\": 1.3599541285300187, \"_\": -5.9721567031984719},\n",
        "  \"/location/country/currency_formerly_used\": {\"lat/timing/WordnetLAT\": 0.47360598203120691, \"lat/presentness/WordnetLAT\": 0.059154338722227674, \"lat/temporal property/WordnetLAT\": 0.025644531202749395, \"lat/prevalence/WordnetLAT\": 0.0089759395449924787, \"lat/generality/WordnetLAT\": 0.29388643675636594, \"lat/currency/LAT\": 0.0002209497501173976, \"lat/quality/WordnetLAT\": 2.8407754603520288, \"lat/temporal arrangement/WordnetLAT\": 0.46381787030997179, \"_\": -7.2106039463929843},\n",
        "  \"/location/country/currency_used\": {\"_\": -5.849550673877232, \"lat/idea/WordnetLAT\": 1.477745864824052, \"lat/social group/WordnetLAT\": -1.0756058786453131, \"lat/process/WordnetLAT\": -1.4438393756339418, \"lat/category/WordnetLAT\": 0.93228952731796433, \"lat/system of measurement/WordnetLAT\": 2.71640451713666, \"lat/standard/WordnetLAT\": 2.1370805572714828, \"sv=bring\": 0.30606927361951353, \"lat/location/QuestionWordLAT\": -0.40650984105925497, \"sv=play\": -0.018371645771277423, \"lat/kind/LAT\": 2.2116588695324877, \"sv=call\": 1.0204901033046712, \"lat/naming/WordnetLAT\": 1.9921707114126668, \"sv=called\": 4.8501935658492261, \"sv=use\": 2.7775867411572106, \"lat/call/LAT\": 1.2273180522767324, \"lat/medium of exchange/WordnetLAT\": 2.4858017100882317, \"sv=take\": 1.0611091239886212},\n",
        "  \"/location/country/first_level_divisions\": {\"lat/artifact/WordnetLAT\": -0.24796842175864345, \"lat/city/LAT\": 0.92896693424903976, \"lat/countries/LAT\": 0.25682133248854511, \"lat/location/WordnetLAT\": 1.5619263231855116, \"lat/people/WordnetLAT\": 0.38788282924868178, \"lat/location/QuestionWordLAT\": 0.37814175412538037, \"lat/communication/WordnetLAT\": -0.13152884800796835, \"lat/province/LAT\": 2.9770497344281739, \"lat/country/ImplicitQLAT\": 0.28465272932565866, \"_\": -5.9252704187335725},\n",
        "  \"/location/country/form_of_government\": {\"lat/idea/WordnetLAT\": 2.3341004911428986, \"lat/social group/WordnetLAT\": -0.066542612529055564, \"sv=speak\": -0.62748176499477448, \"sv=play\": -1.4541003899540461, \"lat/body/WordnetLAT\": 1.1961371588756575, \"lat/category/WordnetLAT\": 1.441223547945544, \"lat/system/WordnetLAT\": 3.896243836529715, \"lat/know-how/WordnetLAT\": 2.019571378555006, \"lat/taxonomic group/WordnetLAT\": 1.0254135934224076, \"lat/kind/LAT\": 1.747749410959976, \"lat/group/WordnetLAT\": 1.1247036708537101, \"lat/part/WordnetLAT\": 0.034484682720962855, \"sv=used\": -0.013311384385843544, \"lat/organization/WordnetLAT\": -0.48654780999467395, \"lat/content/WordnetLAT\": 0.47451073658887344, \"lat/ability/WordnetLAT\": 0.65549009637231659, \"lat/quality/WordnetLAT\": 0.019042745496199776, \"sv=use\": -1.9184085851244816, \"sv=die\": -0.0046699860289430972, \"_\": -6.5184874377574289, \"lat/method/WordnetLAT\": 0.3023678450715867},\n",
        "  \"/location/country/gdp_nominal_per_capita|/measurement_unit/dated_money_value/currency\": {\"lat/timing/WordnetLAT\": 0.14246216393781636, \"lat/presentness/WordnetLAT\": 0.36728103525350259, \"lat/prevalence/WordnetLAT\": 0.28514224030037261, \"lat/generality/WordnetLAT\": 1.5334754368106125, \"lat/currency/LAT\": 0.33015741174535707, \"lat/temporal arrangement/WordnetLAT\": 0.41437406812117294, \"_\": -6.8340953046801918},\n",
        "  \"/location/country/gdp_nominal|/measurement_unit/dated_money_value/currency\": {\"lat/timing/WordnetLAT\": 1.3322244133073768, \"lat/presentness/WordnetLAT\": 0.1071933002737251, \"lat/prevalence/WordnetLAT\": 0.88622573806380578, \"lat/generality/WordnetLAT\": 0.25997894338407762, \"lat/currency/LAT\": 0.33528171486602681, \"lat/temporal arrangement/WordnetLAT\": 0.15198561604623897, \"_\": -6.8340898416348859},\n",
        "  \"/location/country/internet_tld\": {\"lat/date/QuestionWordLAT\": 0.56728956057124114, \"lat/time/QuestionWordLAT\": 1.6283952734355085, \"_\": -6.2732222779123701, \"lat/group/WordnetLAT\": -0.1017979446297952},\n",
        "  \"/location/country/languages_spoken\": {\"lat/type/LAT\": 0.93156831027247045, \"lat/geographical area/WordnetLAT\": -0.015264405211047856, \"lat/people/LAT\": 2.8641283263354391, \"lat/word/WordnetLAT\": 0.54885011858395238, \"sv=speak\": 2.8922102747828551, \"lat/amount/QuestionWordLAT\": 4.1711975719301746, \"lat/languages/LAT\": 0.12924467751250526, \"lat/location/QuestionWordLAT\": -1.0300964997895485, \"lat/they/LAT\": 3.0707467526070897, \"lat/act/WordnetLAT\": -0.21500973766187967, \"lat/higher cognitive process/WordnetLAT\": 2.2880420203879352, \"lat/organization/WordnetLAT\": -0.78592930256927018, \"lat/language/ImplicitQLAT\": 0.0083797966075065729, \"lat/text/WordnetLAT\": 2.0604896832827255, \"lat/person/QuestionWordLAT\": -0.070082832165472106, \"sv=spoken\": 2.0944327542967049, \"sv=called\": 0.4012750993233507, \"lat/faculty/WordnetLAT\": 0.41704764221553631, \"_\": -5.2700869826574301},\n",
        "  \"/location/country/official_language\": {\"sv=called\": 0.72092831517579481, \"lat/people/LAT\": 3.1075594963279771, \"lat/artifact/WordnetLAT\": -0.0095041328707715297, \"sv=speak\": 2.0437977341205684, \"lat/person/QuestionWordLAT\": -0.073092152571909513, \"lat/languages/LAT\": 0.78713038152603731, \"lat/location/QuestionWordLAT\": -0.98883402661979292, \"lat/they/LAT\": 3.9188139755644489, \"lat/act/WordnetLAT\": -0.20028952443676667, \"lat/higher cognitive process/WordnetLAT\": 2.1187721271049975, \"lat/organization/WordnetLAT\": -0.62174874810060143, \"lat/text/WordnetLAT\": 1.9468527402681128, \"lat/word/WordnetLAT\": 0.45367977877312415, \"sv=spoken\": 0.62242531216149266, \"lat/faculty/WordnetLAT\": 0.38575842128792065, \"_\": -5.2694645507775428},\n",
        "  \"/location/hud_county_place/county\": {\"sv=live\": -0.29753418683561828, \"sv=located\": 1.2101250162280741, \"lat/location/QuestionWordLAT\": 2.7544944925995818, \"sv=go\": -0.056688782390884679, \"lat/county/LAT\": 7.9038491171599174, \"_\": -6.6592447114233826},\n",
        "  \"/location/hud_county_place/place\": {\"lat/location/QuestionWordLAT\": 1.1004737846126844, \"_\": -6.648430101708926},\n",
        "  \"/location/location/adjoin_s|/location/adjoining_relationship/adjoins\": {\"lat/inclined plane/WordnetLAT\": 1.149877693326731, \"lat/country/ImplicitQLAT\": 0.48133036892343239, \"lat/share/LAT\": 2.0897522869636305, \"sv=speak\": -0.40550546248458119, \"lat/state/LAT\": -0.079608845888875915, \"sv=borders\": 1.032970303159221, \"lat/region/WordnetLAT\": 1.2512214802066302, \"lat/state/ImplicitQLAT\": 0.013241826020081036, \"sv=located\": 0.63837654322552273, \"lat/group/WordnetLAT\": -0.10695230005233736, \"lat/security/WordnetLAT\": 0.13066179461098529, \"lat/political unit/WordnetLAT\": 1.8530022122310379, \"sv=border\": 4.0599585637780526, \"lat/wedge/WordnetLAT\": 0.90737209753137327, \"sv=export\": 0.099148483337565346, \"lat/location/QuestionWordLAT\": 0.23304132746336473, \"sv=share\": 0.24908049345813135, \"_\": -5.4565836051996053, \"sv=touch\": 3.0200797257731913, \"lat/countries/LAT\": 0.63026936705276759, \"lat/cognition/WordnetLAT\": -0.44447550800635499, \"lat/stock certificate/WordnetLAT\": 0.14594942960766036},\n",
        "  \"/location/location/containedby\": {\"sv=live\": -2.6473282590829337, \"lat/geographical area/WordnetLAT\": -0.52460900506534891, \"lat/city/LAT\": 0.43467384526436009, \"lat/location/WordnetLAT\": 1.3935460729050821, \"sv=grow\": -0.29408947569097765, \"sv=come\": -0.54187329668616657, \"lat/county/LAT\": 3.2909704489515637, \"lat/person/WordnetLAT\": -1.4251195761052724, \"lat/country/ImplicitQLAT\": -0.57558476782305779, \"lat/thing/WordnetLAT\": 0.88398970978856173, \"lat/artifact/WordnetLAT\": -0.95609443109026693, \"lat/state/LAT\": 0.25659379064293342, \"lat/knowledge domain/WordnetLAT\": 1.0571182996634989, \"sv=located\": 1.8115273699758943, \"lat/group/WordnetLAT\": -0.016112443048726093, \"sv=play\": -1.6037538236194939, \"lat/object/WordnetLAT\": 1.1821291048579443, \"lat/region/LAT\": 1.4100100710493892, \"lat/province/LAT\": 0.91483878788692763, \"sv=die\": -1.078404075905375, \"lat/person/QuestionWordLAT\": -0.1754157968056777, \"lat/location/QuestionWordLAT\": 3.5493778561090532, \"sv=made\": -0.6360785783376568, \"sv=run\": 1.2119137332633567, \"lat/administrative district/WordnetLAT\": 1.6542928463015938, \"sv=go\": -2.3076631060339587, \"_\": -5.1537305991115216, \"lat/continent/LAT\": 4.2723563729437046, \"sv=born\": -1.9273810089344914, \"lat/countries/LAT\": -0.24590888909557745, \"lat/communication/WordnetLAT\": -0.0030128565667075853, \"lat/point/WordnetLAT\": -0.12789424060020627, \"sv=belong\": 0.90308881874788172},\n",
        "  \"/location/location/contains\": {\"lat/idea/WordnetLAT\": -0.17819412719345501, \"sv=included\": 2.5020783361243981, \"lat/process/WordnetLAT\": -0.23163714570027227, \"lat/part/WordnetLAT\": -0.29482590607106701, \"sv=visit\": 4.7049130323130886, \"lat/person/WordnetLAT\": -2.2366847315102794, \"lat/activity/WordnetLAT\": -0.2195683021788144, \"lat/gathering/WordnetLAT\": 1.3759260480902639e-06, \"lat/country/ImplicitQLAT\": 0.5296802802840328, \"lat/structure/WordnetLAT\": -0.044058897418617675, \"lat/airport/LAT\": 1.0391486380144113, \"lat/do/LAT\": 2.901131697028569, \"sv=speak\": -0.71408792259397935, \"sv=consist\": 3.8365460979821644, \"sv=play\": -0.76021398023212639, \"lat/biological group/WordnetLAT\": -0.18612648120900072, \"lat/instrumentality/WordnetLAT\": -0.14377947003666489, \"sv=located\": 0.31309388825679102, \"lat/phenomenon/WordnetLAT\": -0.072186341557048381, \"lat/auditory communication/WordnetLAT\": -0.22702931479886027, \"lat/see/LAT\": 0.46205017724344571, \"lat/social event/WordnetLAT\": -0.011804952980573307, \"lat/quality/WordnetLAT\": -0.53156439867474325, \"lat/thing/ImplicitQLAT\": 1.6130345959520827, \"lat/fundamental quantity/WordnetLAT\": -0.74488085879162469, \"sv=border\": -0.59424509331775655, \"sv=do\": 3.2254421316894466, \"sv=see\": 1.5565370299918675, \"sv=start\": 1.6028468663340136, \"lat/person/QuestionWordLAT\": -1.2511607986584876, \"lat/location/QuestionWordLAT\": 0.064073213870992504, \"lat/natural phenomenon/WordnetLAT\": -0.0018898711059355503, \"lat/measure/WordnetLAT\": -0.21067169182330062, \"lat/eyesight/WordnetLAT\": 0.32068263786182355, \"_\": -4.0838198996990487, \"lat/social group/WordnetLAT\": 0.49451207235701389, \"lat/there/LAT\": 3.3905238412641365, \"lat/countries/LAT\": 1.3528129713006081, \"lat/situation/WordnetLAT\": 0.40018210651452335, \"lat/people/WordnetLAT\": 0.29207573021036015, \"lat/things/LAT\": 0.68415185030350811, \"sv=go\": 0.49723823313858634, \"lat/area/WordnetLAT\": 1.1115531123338809, \"lat/sight/WordnetLAT\": 1.3389360561334467},\n",
        "  \"/location/location/contains_major_portion_of\": {\"lat/geographical area/WordnetLAT\": 0.41417310558848963, \"lat/countries/LAT\": 0.0011397123253981606, \"lat/people/WordnetLAT\": 2.1013147601158724, \"lat/country/ImplicitQLAT\": 0.57107800596659797, \"_\": -7.2401435779681274, \"lat/political unit/WordnetLAT\": 0.71835264283330036},\n",
        "  \"/location/location/events\": {\"lat/time period/WordnetLAT\": 1.6331373662235642, \"lat/year/WordnetLAT\": 0.45659431782848936, \"lat/calendar month/WordnetLAT\": 0.70105739691310642, \"sv=happened\": 2.8348744135714066, \"lat/location/WordnetLAT\": -0.069925142959151754, \"lat/state/WordnetLAT\": 1.5440854506819552, \"lat/cognition/WordnetLAT\": -0.24715139820556331, \"lat/location/QuestionWordLAT\": -0.20344082028701307, \"lat/date/QuestionWordLAT\": 1.0285024882412568, \"lat/time/QuestionWordLAT\": 1.2918677966373877, \"lat/present/WordnetLAT\": 0.2468221228064805, \"_\": -6.068582220510498, \"lat/gathering/WordnetLAT\": 0.80518269406949183, \"lat/artifact/WordnetLAT\": -0.24896092870866302, \"sv=win\": -0.068657487522762253, \"lat/calendar year/WordnetLAT\": 0.42394264689308198, \"lat/companion/WordnetLAT\": 0.71998719178975079},\n",
        "  \"/location/location/nearby_airports\": {\"_\": -5.9636830271853327, \"lat/airport/LAT\": 1.848674052617681, \"lat/group/WordnetLAT\": -0.29450460850353599, \"lat/airfield/WordnetLAT\": 5.6191516869435727, \"lat/person/WordnetLAT\": -1.0805387613686213},\n",
        "  \"/location/location/partially_contained_by|/location/partial_containment_relationship/partially_contained_by\": {\"_\": -6.340222621136145, \"lat/continent/LAT\": 1.40607835020033, \"lat/geographical area/WordnetLAT\": 0.71345385472908873, \"lat/attribute/WordnetLAT\": 0.026751514128113815, \"lat/region/WordnetLAT\": 1.2197787762131753, \"lat/state/ImplicitQLAT\": 3.44115413885143, \"sv=located\": 2.3102714710780683, \"lat/location/QuestionWordLAT\": 1.0939044590490374, \"lat/states/LAT\": 0.44805222944333406, \"lat/mainland/WordnetLAT\": 0.6731653691703835, \"lat/person/WordnetLAT\": -0.14446813296194563, \"lat/relation/WordnetLAT\": 1.2590239594304866, \"lat/political unit/WordnetLAT\": 0.28815147431777632},\n",
        "  \"/location/location/partially_containedby\": {\"lat/continent/LAT\": 1.4334170938777406, \"lat/geographical area/WordnetLAT\": 0.2962996661429636, \"lat/region/WordnetLAT\": 0.73083932484659597, \"lat/state/ImplicitQLAT\": 3.5225342780781386, \"sv=located\": 2.3607343074740506, \"lat/location/QuestionWordLAT\": 0.92928565318563039, \"lat/states/LAT\": 0.061571629523693147, \"lat/mainland/WordnetLAT\": 0.46359213421073725, \"lat/person/WordnetLAT\": -0.12337350469678038, \"_\": -6.2011866991001723, \"lat/political unit/WordnetLAT\": 0.96991177297057696},\n",
        "  \"/location/location/partially_contains\": {\"lat/geographical area/WordnetLAT\": 0.0081270769705675538, \"lat/region/WordnetLAT\": 1.2416642127307094, \"lat/people/WordnetLAT\": 1.0490313176628148, \"lat/location/QuestionWordLAT\": 0.11203860366281793, \"lat/person/WordnetLAT\": -0.0074585289635284522, \"lat/landform/ImplicitQLAT\": 2.986825120946194, \"sv=called\": 2.4402625844798296, \"lat/landforms/LAT\": 2.6723132884018281, \"_\": -5.6591384093480226},\n",
        "  \"/location/location/partiallycontains|/location/partial_containment_relationship/partially_contains\": {\"lat/geographical area/WordnetLAT\": 0.024571765225419068, \"lat/countries/LAT\": 0.54847568969738592, \"lat/region/WordnetLAT\": 1.2371357423296316, \"lat/people/WordnetLAT\": 1.1176269845017526, \"lat/location/QuestionWordLAT\": 0.11195281524410672, \"lat/person/WordnetLAT\": -0.0118712471084832, \"lat/landform/ImplicitQLAT\": 1.0072007425806335, \"sv=called\": 2.4401621316486204, \"lat/landforms/LAT\": 4.6518372131065462, \"lat/country/ImplicitQLAT\": 0.023177572831439779, \"_\": -5.6590379556871664},\n",
        "  \"/location/location/people_born_here\": {\"lat/people/LAT\": 4.0099719520204324, \"_\": -6.8430955692540056},\n",
        "  \"/location/location/primarily_containedby\": {\"lat/continent/LAT\": 2.5007725170810233, \"lat/mainland/WordnetLAT\": 0.58127602991882421, \"sv=located\": 3.2004239612565502, \"_\": -7.2934814238488377},\n",
        "  \"/location/location/time_zones\": {\"lat/body part/WordnetLAT\": 1.9104107062341127, \"lat/reading/WordnetLAT\": 0.47481929694949598, \"lat/communication/WordnetLAT\": -0.45397530795815061, \"lat/case/WordnetLAT\": 0.00054074058888944735, \"lat/timezone/LAT\": 6.6039634647748287, \"lat/moment/WordnetLAT\": 0.15276251723163253, \"lat/point/WordnetLAT\": 3.7900719824951352, \"lat/person/WordnetLAT\": -0.21074729650546173, \"lat/artifact/WordnetLAT\": -0.20480915745050893, \"lat/datum/WordnetLAT\": 0.00096687017201536147, \"lat/structure/WordnetLAT\": 0.11250832357250287, \"_\": -6.4986146831376832},\n",
        "  \"/location/statistical_region/gdp_nominal_per_capita|/measurement_unit/dated_money_value/currency\": {\"lat/timing/WordnetLAT\": 0.0016536490461708409, \"lat/presentness/WordnetLAT\": 0.55082766020189988, \"lat/prevalence/WordnetLAT\": 0.00026218463051335745, \"lat/generality/WordnetLAT\": 0.11850869698725161, \"lat/quality/WordnetLAT\": 2.7356219370594324, \"sv=use\": 1.0466538361919575, \"lat/temporal arrangement/WordnetLAT\": 0.50483253106606507, \"_\": -7.2332571704475876},\n",
        "  \"/location/statistical_region/major_exports|/location/imports_exports_by_industry/industry\": {\"lat/commodity/WordnetLAT\": 3.7905332955700257, \"sv=export\": 4.1015831750611413, \"_\": -6.5978164963181456, \"lat/country/WordnetLAT\": 3.0058543540134655, \"lat/group/WordnetLAT\": -0.25768724201807497},\n",
        "  \"/location/statistical_region/minimum_wage|/measurement_unit/recurring_money_value/currency\": {\"lat/timing/WordnetLAT\": 0.11241327225636515, \"lat/presentness/WordnetLAT\": 0.1256203592905209, \"lat/prevalence/WordnetLAT\": 0.12930878766300721, \"lat/generality/WordnetLAT\": 0.11450170462838265, \"lat/standard/WordnetLAT\": 2.241984209283145, \"lat/location/QuestionWordLAT\": -0.065073614252265016, \"lat/group/WordnetLAT\": -0.24259935033100447, \"lat/system of measurement/WordnetLAT\": 0.2086496354464957, \"lat/kind/LAT\": 2.0787584315079393, \"lat/currency/LAT\": 0.13943540682935304, \"sv=use\": 0.81604560904886225, \"sv=called\": 2.6524156936451773, \"lat/temporal arrangement/WordnetLAT\": 0.11277655318032948, \"lat/medium of exchange/WordnetLAT\": 0.18128630268445217, \"_\": -6.1770598506297132, \"lat/person/WordnetLAT\": -0.023393073426869297},\n",
        "  \"/location/statistical_region/places_exported_to|/location/imports_and_exports/exported_to\": {\"lat/share/LAT\": 1.2945045116068084, \"lat/partners/LAT\": 0.94297858505289556, \"sv=border\": 0.058550179602537777, \"lat/wedge/WordnetLAT\": 0.6374480299005888, \"sv=export\": 2.4407574977289768, \"lat/countries/LAT\": 1.6252782914957273, \"lat/people/WordnetLAT\": 0.56767708256731697, \"lat/district/WordnetLAT\": 0.97536966503843914, \"lat/communication/WordnetLAT\": 0.2061237516707243, \"lat/partner/ImplicitQLAT\": 5.1548564421395611, \"lat/inclined plane/WordnetLAT\": 1.0430094005221788, \"sv=share\": 0.95261071214376769, \"sv=trade\": 2.9316290317676361, \"lat/object/WordnetLAT\": -0.27407319980004735, \"lat/country/WordnetLAT\": 2.6211347203284787, \"lat/administrative district/WordnetLAT\": 0.343518276554649, \"lat/security/WordnetLAT\": 1.9608012551933134, \"lat/country/ImplicitQLAT\": 0.53489760334895076, \"lat/stock certificate/WordnetLAT\": 0.18353986920606846, \"sv=borders\": 0.7723045564513269, \"_\": -6.0978350271924562},\n",
        "  \"/location/statistical_region/places_imported_from|/location/imports_and_exports/imported_from\": {\"lat/partners/LAT\": 3.7924395777910984, \"sv=border\": 2.4486491807016768, \"sv=export\": 1.892650403392049, \"lat/countries/LAT\": 0.012523186381194023, \"lat/people/WordnetLAT\": 1.0625157757447834, \"lat/district/WordnetLAT\": 0.41099012248273631, \"lat/partner/ImplicitQLAT\": 2.4639804352163175, \"sv=share\": 2.1491064991041147, \"sv=trade\": 3.2035414664690789, \"lat/country/WordnetLAT\": 0.87346823519340422, \"lat/administrative district/WordnetLAT\": 1.043914744468764, \"lat/country/ImplicitQLAT\": 0.47862555947722024, \"_\": -6.2564200130074248},\n",
        "  \"/location/statistical_region/religions|/location/religion_percentage/religion\": {\"lat/virtue/WordnetLAT\": 0.70617399966928218, \"lat/religion/ImplicitQLAT\": 0.60006475559114958, \"lat/theological virtue/WordnetLAT\": 4.7488992146749274, \"lat/religions/LAT\": 2.4446690166221718, \"_\": -6.5543009757926702},\n",
        "  \"/location/us_county/county_seat\": {\"lat/location/QuestionWordLAT\": 0.4056814924292505, \"_\": -6.648713858755757},\n",
        "  \"/location/us_county/hud_county_place\": {\"_\": -6.7588043593530109, \"lat/administrative district/WordnetLAT\": 1.2575476588497569},\n",
        "  \"/location/us_state/capital\": {\"lat/geographical area/WordnetLAT\": 1.6195266711197955, \"lat/capital/LAT\": 1.3820758634878911, \"lat/city/LAT\": 3.2062302732623462, \"lat/top/WordnetLAT\": 1.801311550587682, \"lat/federal government/WordnetLAT\": 1.968753124716947, \"_\": -6.7717904100102135},\n",
        "  \"/media_common/dedicator/dedications|/media_common/dedication/work_dedicated\": {\"lat/music/WordnetLAT\": 3.0101723135016134, \"_\": -7.2305136997941597},\n",
        "  \"/media_common/quotation_subject/quotations_about_this_subject\": {\"_\": -6.3287417444585943, \"lat/group/WordnetLAT\": -0.046632810303728352},\n",
        "  \"/medicine/notable_person_with_medical_condition/condition\": {\"lat/social group/WordnetLAT\": -0.049989439847628374, \"lat/physical condition/WordnetLAT\": 1.1799872832182725, \"lat/illness/ImplicitQLAT\": 0.00032047631341030903, \"lat/illnesses/LAT\": 0.40526766676386217, \"lat/pathological state/WordnetLAT\": 2.8354271990160558, \"lat/location/QuestionWordLAT\": -0.11842660200621388, \"lat/ill health/WordnetLAT\": 1.7027937115170111, \"_\": -6.1237963367968726},\n",
        "  \"/military/military_combatant/casualties|/military/casualties/combatant\": {\"lat/region/WordnetLAT\": 1.2553902411898181, \"lat/organization/WordnetLAT\": 1.0683899071438625, \"lat/country/ImplicitQLAT\": 0.7927423719942166, \"_\": -7.2610634192459038, \"lat/countries/LAT\": 0.0014063430857813074},\n",
        "  \"/military/military_combatant/force_deployments|/military/force_strength/combatant\": {\"lat/region/WordnetLAT\": 0.76565049564720777, \"lat/organization/WordnetLAT\": 0.57438609590580481, \"_\": -6.7893144309927926},\n",
        "  \"/military/military_combatant/military_commanders|/military/military_command/military_commander\": {\"lat/leader/LAT\": 4.0117768818087889, \"lat/president/LAT\": 0.73961020738976779, \"lat/leader/WordnetLAT\": 0.47322583431809262, \"lat/corporate executive/WordnetLAT\": 0.16562206538563579, \"lat/communication/WordnetLAT\": -0.071552454852190889, \"lat/person/WordnetLAT\": 1.1768571682443332, \"lat/presidency/WordnetLAT\": 0.78749209556672639, \"_\": -6.2874437933352239, \"lat/group/WordnetLAT\": -0.38253128052828406},\n",
        "  \"/military/military_combatant/military_conflicts|/military/military_combatant_group/combatants\": {\"sv=border\": 1.7721170021833521, \"lat/region/WordnetLAT\": 1.7640020449186846, \"lat/communication/WordnetLAT\": 0.5063782524832674, \"sv=trade\": 1.8707486418612032, \"lat/country/WordnetLAT\": 1.6618794629332159, \"lat/country/ImplicitQLAT\": 1.8090256525115362, \"_\": -6.5406525156163342},\n",
        "  \"/military/military_combatant/military_conflicts|/military/military_combatant_group/conflict\": {\"lat/gathering/WordnetLAT\": 0.70400224087893337, \"lat/time period/WordnetLAT\": 1.4118711522676497, \"_\": -6.5519099473215956},\n",
        "  \"/military/military_commander/military_commands|/military/military_command/military_combatant\": {\"lat/country/LAT\": 2.9398740518389204, \"_\": -6.8318893179619407},\n",
        "  \"/military/military_commander/military_commands|/military/military_command/military_conflict\": {\"lat/war/LAT\": 6.9654085966692962, \"_\": -6.5599440490471173},\n",
        "  \"/military/military_conflict/locations\": {\"_\": -6.5206321487035002, \"sv=held\": 4.7126566712073679, \"sv=located\": 1.8191576666556786, \"lat/location/QuestionWordLAT\": 1.3788608263354942, \"sv=take\": 4.0390533123258354},\n",
        "  \"/military/military_person/participated_in_conflicts\": {\"lat/war/LAT\": 6.4423870956358096, \"_\": -6.8479429442186452},\n",
        "  \"/music/artist/album\": {\"lat/purchase/WordnetLAT\": 1.3569621969231593, \"lat/animal communication/WordnetLAT\": 0.69107546873812042, \"lat/vocal music/WordnetLAT\": 0.70392173120100865, \"lat/product/WordnetLAT\": 1.0518479148129454, \"sv=sing\": 0.48048461959456923, \"lat/cognition/WordnetLAT\": -0.033260151016566424, \"lat/location/QuestionWordLAT\": -0.41790178636564573, \"lat/person/WordnetLAT\": -0.45337879463975539, \"lat/event/WordnetLAT\": 0.2236110031286497, \"lat/bargain/WordnetLAT\": 0.73878141509130202, \"lat/dynasty/WordnetLAT\": 0.87926364188650774, \"_\": -5.8229038179166821},\n",
        "  \"/music/artist/contribution|/music/recording_contribution/album\": {\"lat/event/WordnetLAT\": 2.388468278003153, \"_\": -7.1934569280731182, \"lat/movies/LAT\": 1.6917361130668962},\n",
        "  \"/music/artist/genre\": {\"lat/basic cognitive process/WordnetLAT\": 2.0898456860556207, \"lat/perception/WordnetLAT\": 1.3290690060638557, \"lat/kind/WordnetLAT\": 2.496820055974537, \"lat/sensation/WordnetLAT\": 0.54344599656847414, \"lat/music/LAT\": 0.17570446496027575, \"sv=sing\": 3.402999326987429, \"lat/communication/WordnetLAT\": 0.91623787306793558, \"lat/type/LAT\": 0.81873166748397697, \"sv=play\": 1.142579475978049, \"lat/punishment/WordnetLAT\": 1.2958551738957285, \"_\": -6.9580928144428427},\n",
        "  \"/music/artist/label\": {\"sv=signed\": 6.8468008793555484, \"lat/atom/WordnetLAT\": 0.0011154299940397141, \"_\": -6.8481087610268974},\n",
        "  \"/music/artist/origin\": {\"sv=live\": 0.53997507031198433, \"sv=born\": 0.60068391867456572, \"lat/location/QuestionWordLAT\": 2.3372379115043351, \"_\": -6.3781025885275708, \"sv=raised\": 2.5978370587503488},\n",
        "  \"/music/artist/track\": {\"lat/purchase/WordnetLAT\": 0.22385393692361347, \"lat/animal communication/WordnetLAT\": 0.41944645157881533, \"lat/dynasty/WordnetLAT\": 0.028342279583556292, \"lat/artifact/WordnetLAT\": -0.47029994659468044, \"lat/vocal music/WordnetLAT\": 0.8793111398574297, \"sv=sing\": 4.205729408819689, \"lat/sound/WordnetLAT\": 0.39880901259669654, \"lat/artist/WordnetLAT\": 2.8615231230285181, \"lat/auditory communication/WordnetLAT\": 2.1449728983017033, \"_\": -6.4703442030540836, \"lat/bargain/WordnetLAT\": 0.93532510889081533, \"lat/act/WordnetLAT\": 0.78857451340720741, \"lat/relation/WordnetLAT\": -0.45765793490297435},\n",
        "  \"/music/artist/track_contributions|/music/track_contribution/role\": {\"lat/singer/WordnetLAT\": 1.5231639225332365, \"sv=play\": 1.7670027140104738, \"lat/artifact/WordnetLAT\": 0.46969086596534693, \"lat/instruments/LAT\": 0.27124900624541143, \"lat/instrument/ImplicitQLAT\": 0.46242462639439724, \"sv=use\": 1.4268136814814167, \"lat/semantic role/WordnetLAT\": 1.1978846701293238, \"lat/device/WordnetLAT\": 1.6693375987476715, \"lat/person/WordnetLAT\": 0.7540791476288119, \"lat/writer/WordnetLAT\": 0.49023565533975011, \"lat/worker/WordnetLAT\": 0.99217078837934147, \"_\": -7.0888328189311451},\n",
        "  \"/music/artist/track_contributions|/music/track_contribution/track\": {\"lat/song/ImplicitQLAT\": 4.0947929665960388, \"_\": -7.2519378294537375, \"lat/songs/LAT\": 2.3098470024704181},\n",
        "  \"/music/composer/compositions\": {\"sv=wrote\": 1.0616400023628982, \"lat/song/ImplicitQLAT\": 1.2586401230992261, \"lat/event/WordnetLAT\": 0.96323414115647277, \"lat/music/WordnetLAT\": 1.9280344458462217, \"_\": -6.622208264910979, \"lat/songs/LAT\": 2.3724825618901693},\n",
        "  \"/music/group_member/instruments_played\": {\"lat/category/WordnetLAT\": 2.7325504601458155, \"sv=play\": 1.9749471022248906, \"lat/grammatical category/WordnetLAT\": 0.92373268391866736, \"lat/semantic role/WordnetLAT\": 4.3846418104716927, \"lat/kind/LAT\": 0.31960496700864793, \"lat/person/WordnetLAT\": 1.0490003221535318, \"sv=use\": 0.23748834853344913, \"_\": -7.0944490291284019},\n",
        "  \"/music/group_member/membership|/music/group_membership/group\": {\"lat/stripe/WordnetLAT\": 1.3652020612544982, \"lat/range/WordnetLAT\": 0.44718997126726862, \"lat/simple closed curve/WordnetLAT\": 0.33678959670831415, \"lat/closed curve/WordnetLAT\": 0.35373093841864967, \"lat/belt/WordnetLAT\": 0.3080012041233538, \"lat/band/LAT\": 0.41119499399431458, \"lat/marking/WordnetLAT\": 0.33959910528459925, \"lat/loop/WordnetLAT\": 0.34658953272833032, \"lat/strip/WordnetLAT\": 0.34021191609541523, \"lat/thing/WordnetLAT\": 2.9809379731761521, \"_\": -7.2294472930501703},\n",
        "  \"/music/group_member/membership|/music/group_membership/role\": {\"sv=play\": 2.634256524254472, \"lat/worker/WordnetLAT\": 2.2836475622347683, \"lat/instrument/LAT\": 1.2763216252888669, \"_\": -7.352765220757747},\n",
        "  \"/music/guitarist/guitars_played\": {\"lat/kind/WordnetLAT\": 1.5871126222781815, \"lat/guitar/LAT\": 2.7438205698513141, \"lat/symbol/WordnetLAT\": 0.72288339505350341, \"sv=play\": 2.4452320246963799, \"lat/device/WordnetLAT\": 1.9984299728126236, \"lat/artifact/WordnetLAT\": 0.21938108287405278, \"_\": -7.5475257395964794},\n",
        "  \"/music/lyricist/lyrics_written\": {\"lat/music/WordnetLAT\": 3.1689701918149509, \"lat/song/ImplicitQLAT\": 1.7611664190979959, \"_\": -7.2303952912772322, \"lat/songs/LAT\": 0.91396431924439836},\n",
        "  \"/music/musical_group/member|/music/group_membership/member\": {\"lat/person/QuestionWordLAT\": 1.1460493302045562, \"_\": -6.484718844060855},\n",
        "  \"/music/producer/releases_produced\": {\"lat/product/WordnetLAT\": 2.5721846034890521, \"_\": -7.2174008743262243},\n",
        "  \"/olympics/olympic_athlete/country|/olympics/olympic_athlete_affiliation/sport\": {\"sv=compete\": 3.6649253982580237, \"lat/sport/LAT\": 2.7141018346491119, \"_\": -6.5845196887936792},\n",
        "  \"/organization/membership_organization/members|/organization/organization_membership/member\": {\"lat/country/ImplicitQLAT\": 1.6696574292069175, \"_\": -7.232397900359322, \"lat/countries/LAT\": 2.1287533225843198},\n",
        "  \"/organization/organization/advisors\": {\"sv=created\": 5.1723468461263229, \"_\": -7.2522172874588007},\n",
        "  \"/organization/organization/board_members|/organization/organization_board_membership/member\": {\"sv=owns\": 2.2219437640907937, \"lat/person/QuestionWordLAT\": 2.6726062872783416, \"_\": -7.2046477236666586, \"sv=started\": 3.0849505960843704},\n",
        "  \"/organization/organization/child|/organization/organization_relationship/child\": {\"lat/structure/WordnetLAT\": 1.4462128527862792, \"lat/communication/WordnetLAT\": 0.28115523406017245, \"_\": -6.3282133347388667, \"lat/person/WordnetLAT\": -0.025150341424813781},\n",
        "  \"/organization/organization/founders\": {\"sv=owns\": 0.84513379044771952, \"lat/countries/LAT\": 1.5720258391503925, \"sv=invented\": 1.9818133801696851, \"lat/person/QuestionWordLAT\": 3.1451273413421506, \"sv=founded\": 2.3443655665005481, \"lat/location/QuestionWordLAT\": -0.014398039314812471, \"sv=started\": 3.4260701731382026, \"sv=played\": -0.75269002450195965, \"sv=plays\": -0.69767786748850713, \"sv=created\": 2.4136032208672975, \"lat/country/ImplicitQLAT\": 0.58195927324225616, \"_\": -6.2971648120245174},\n",
        "  \"/organization/organization/headquarters|/location/mailing_address/citytown\": {\"sv=live\": -0.79979982329295995, \"lat/social group/WordnetLAT\": 0.13942003015039003, \"lat/state/LAT\": 1.7524992604965961, \"sv=born\": -0.12974526252781343, \"lat/district/WordnetLAT\": 0.4961941770306042, \"lat/location/QuestionWordLAT\": 3.1911163873684849, \"sv=go\": -0.43505276769066104, \"sv=made\": 2.5776585162886718, \"sv=located\": 1.823502475990727, \"lat/person/WordnetLAT\": -0.11177547051090996, \"lat/administrative district/WordnetLAT\": 0.74106521956342997, \"lat/gathering/WordnetLAT\": 1.1134568953261712, \"lat/municipality/WordnetLAT\": 1.5404042805798506, \"_\": -6.7154560997318207},\n",
        "  \"/organization/organization/headquarters|/location/mailing_address/country\": {\"sv=live\": -0.25580926774697138, \"lat/geographical area/WordnetLAT\": 1.5102918271542696, \"lat/city/LAT\": 1.0079566796315551, \"sv=located\": 1.4235721619965185, \"lat/district/WordnetLAT\": 0.40252634218746203, \"lat/location/QuestionWordLAT\": 2.6037513702761088, \"sv=made\": 1.7008677606150806, \"lat/administrative district/WordnetLAT\": 0.21827555779024491, \"_\": -6.6391234503499152},\n",
        "  \"/organization/organization/headquarters|/location/mailing_address/state_province_region\": {\"sv=live\": -0.63733087647542408, \"lat/social group/WordnetLAT\": 0.3416836825529958, \"lat/city/LAT\": 1.1111911621478339, \"lat/state/LAT\": 2.4023198886102826, \"sv=located\": 1.202377477352875, \"lat/district/WordnetLAT\": 0.5779131417538691, \"lat/location/QuestionWordLAT\": 2.8943757154901109, \"sv=go\": -0.214739033456008, \"sv=made\": 2.2627710639959639, \"lat/administrative district/WordnetLAT\": 1.1588225443047115, \"_\": -6.6467683196791656},\n",
        "  \"/organization/organization/leadership|/organization/leadership/person\": {\"sv=invented\": 3.4873641560291397, \"sv=created\": 4.0016860715813092, \"_\": -6.3538233640091626, \"lat/person/QuestionWordLAT\": 1.4560103655519088, \"lat/group/WordnetLAT\": -0.021201455824720761},\n",
        "  \"/organization/organization/parent|/organization/organization_relationship/parent\": {\"sv=owns\": 4.8521987404059619, \"_\": -7.2509512278066106},\n",
        "  \"/organization/organization/phone_number|/common/phone_number/service_location\": {\"sv=made\": 2.598330640443471, \"lat/location/QuestionWordLAT\": 1.6622884454628708, \"_\": -6.7149931799977773},\n",
        "  \"/organization/organization/place_founded\": {\"sv=made\": 2.8866577385672318, \"lat/location/QuestionWordLAT\": 2.752073802397327, \"_\": -7.1427237729562609},\n",
        "  \"/organization/organization_founder/organizations_founded\": {\"lat/social gathering/WordnetLAT\": 0.80299405078324593, \"lat/location/WordnetLAT\": -0.5252240784656298, \"lat/communication/WordnetLAT\": -0.40523404861730922, \"lat/activity/WordnetLAT\": 0.94098913134675355, \"sv=work\": 2.1488597630802455, \"lat/set/WordnetLAT\": 4.5969840493423852, \"_\": -5.735018769540674},\n",
        "  \"/people/deceased_person/cause_of_death\": {\"lat/condition/WordnetLAT\": 1.5113456915246961, \"lat/social group/WordnetLAT\": -0.83744443341309849, \"lat/substance/WordnetLAT\": 0.081116795383901416, \"lat/artifact/WordnetLAT\": -0.398480831305701, \"sv=happened\": 3.4353170776103781, \"lat/happening/WordnetLAT\": 1.6312153866995456, \"lat/location/QuestionWordLAT\": -4.1849324742356089, \"lat/date/QuestionWordLAT\": -2.2134637775929216, \"lat/auditory communication/WordnetLAT\": -0.3443509809223444, \"sv=died\": 5.6678890814156819, \"lat/time/QuestionWordLAT\": -0.043861622848877596, \"lat/writer/WordnetLAT\": 0.10752021450964154, \"lat/cause/LAT\": 3.4214424991229482, \"sv=killed\": 3.2720512665318791, \"lat/property/WordnetLAT\": -0.56702710930362943, \"sv=die\": 6.4136187381434757, \"_\": -5.0541122632910307},\n",
        "  \"/people/deceased_person/place_of_burial\": {\"sv=buried\": 6.7161903439288126, \"lat/location/QuestionWordLAT\": 0.97557657826327093, \"_\": -6.8200347647675752},\n",
        "  \"/people/deceased_person/place_of_death\": {\"sv=live\": 0.72106496535760123, \"lat/social group/WordnetLAT\": 0.6573404585026692, \"lat/city/LAT\": 1.0282581386665035, \"lat/region/WordnetLAT\": 1.9552817197508638, \"sv=buried\": 2.1633198016572943, \"lat/people/WordnetLAT\": 0.12474287955436514, \"sv=located\": -0.56126639491572561, \"lat/location/QuestionWordLAT\": 3.6813931234991379, \"lat/property/WordnetLAT\": 1.0364649900827623, \"sv=died\": 4.1698436829422754, \"lat/person/WordnetLAT\": -0.66624257471057868, \"sv=shot\": 4.0372583195802516, \"sv=killed\": 3.692584765033164, \"lat/environment/WordnetLAT\": 2.8863553756009912, \"sv=go\": -0.37743849358603726, \"sv=die\": 4.8728010458310109, \"_\": -7.23902537699355},\n",
        "  \"/people/ethnicity/geographic_distribution\": {\"sv=live\": 2.301989138355419, \"sv=kurdish\": 5.1106575039296409, \"lat/location/QuestionWordLAT\": 1.3990471282592478, \"_\": -6.5095436559927276, \"sv=come\": 3.0622566000385509},\n",
        "  \"/people/ethnicity/included_in_group\": {\"lat/russian/ImplicitQLAT\": 1.2717885248316361, \"sv=live\": 1.1390645471048575, \"lat/russians/LAT\": 0.98117224998164054, \"lat/location/QuestionWordLAT\": 1.2771378533639639, \"lat/Slavic/WordnetLAT\": 0.011339882654155944, \"lat/native/WordnetLAT\": 3.2032714347561977, \"lat/Balto-Slavic/WordnetLAT\": 1.1918619871402509, \"_\": -6.6594340793638827},\n",
        "  \"/people/ethnicity/languages_spoken\": {\"lat/social group/WordnetLAT\": 0.47252301894112964, \"lat/faculty/WordnetLAT\": 0.10330549876716517, \"sv=speak\": 1.1414075419470737, \"lat/higher cognitive process/WordnetLAT\": 1.7347400993272644, \"lat/text/WordnetLAT\": 1.7080330937428636, \"lat/people/LAT\": 3.1279247824114402, \"_\": -6.6440624950950555},\n",
        "  \"/people/person/children\": {\"lat/son/WordnetLAT\": -0.030978197547828525, \"lat/children/LAT\": 0.0057996743615011332, \"lat/child/ImplicitQLAT\": 0.012032336899188905, \"lat/spiritual being/WordnetLAT\": 0.31766081870975937, \"lat/high status/WordnetLAT\": 0.026742453188813901, \"lat/eminence/WordnetLAT\": 0.066645522440326663, \"lat/location/WordnetLAT\": -0.38255294268575796, \"lat/person/QuestionWordLAT\": -0.10412759719893838, \"lat/checker/WordnetLAT\": 0.5228275703648273, \"lat/communication/WordnetLAT\": -0.39734733936573918, \"lat/group/WordnetLAT\": -1.1200394762560595, \"lat/king/LAT\": 0.0060236125615519128, \"lat/jr/LAT\": -0.26247169541842497, \"lat/guitarist/WordnetLAT\": 0.026659667524122008, \"lat/writer/WordnetLAT\": -0.16117798859272095, \"lat/location/QuestionWordLAT\": -1.1992668263112367, \"lat/offspring/WordnetLAT\": 5.1735911856225645, \"lat/descendant/WordnetLAT\": 0.73497552687077672, \"lat/reformer/WordnetLAT\": 2.23882848544257, \"_\": -5.2332515431940809, \"lat/disputant/WordnetLAT\": 1.2473067424751529},\n",
        "  \"/people/person/education|/education/education/institution\": {\"sv=live\": -0.44433091347102005, \"sv=graduated\": 0.77607189453295367, \"lat/cognition/WordnetLAT\": 1.0435402323461951, \"lat/attribute/WordnetLAT\": 0.057855703999114445, \"lat/upbringing/WordnetLAT\": 3.0215041530919913, \"lat/biological group/WordnetLAT\": -0.48209778004690851, \"sv=located\": -0.19903563705712141, \"sv=play\": 1.5002923872417173, \"sv=study\": 3.5613762496097214, \"sv=attend\": 5.0839465188476485, \"lat/educational institution/WordnetLAT\": 5.5849491239112012, \"lat/location/QuestionWordLAT\": 2.4244965719411455, \"sv=go\": 4.3281475869776491, \"lat/education/LAT\": 1.4185570694350409, \"lat/act/WordnetLAT\": 0.21006809963867826, \"_\": -6.1890050097487856, \"lat/inheritance/WordnetLAT\": 0.023391245546098484, \"sv=went\": 4.8628722831087448, \"lat/profession/WordnetLAT\": 0.19001960016102906, \"lat/communication/WordnetLAT\": -0.67362924058275131, \"lat/building complex/WordnetLAT\": 0.46922658783621873, \"lat/organization/WordnetLAT\": 0.21610870676293514, \"sv=drew\": 3.8418738168742892},\n",
        "  \"/people/person/education|/education/education/major_field_of_study\": {\"_\": -6.4104289855433469, \"lat/obama/LAT\": 3.1231562577930334, \"lat/location/QuestionWordLAT\": -0.12728160796425189, \"sv=study\": 3.72428985133811, \"lat/person/WordnetLAT\": 0.12892056804664392},\n",
        "  \"/people/person/employment_history|/business/employment_tenure/company\": {\"lat/structure/WordnetLAT\": 0.20704937068318435, \"sv=work\": 3.6996582160500728, \"lat/location/WordnetLAT\": -0.60186308186877657, \"lat/person/QuestionWordLAT\": -0.48305822951012639, \"lat/skilled worker/WordnetLAT\": 1.1656577228115594, \"sv=go\": 0.94668615774997122, \"sv=play\": 0.18444721923853413, \"lat/content/WordnetLAT\": -0.13468199482990928, \"sv=played\": 1.4858691614605737, \"lat/institution/WordnetLAT\": 0.56364067812909724, \"lat/measure/WordnetLAT\": -0.057537873000174211, \"lat/capitalist/WordnetLAT\": 1.8977557763163442, \"_\": -5.4496181137031554},\n",
        "  \"/people/person/nationality\": {\"sv=live\": 1.4610182760477299, \"lat/social group/WordnetLAT\": -0.76521379277903689, \"lat/people/WordnetLAT\": 2.6919301978674124, \"sv=born\": 0.96445424864141427, \"lat/administrative district/WordnetLAT\": 0.53235115812063671, \"lat/cognition/WordnetLAT\": -0.18539433775942782, \"lat/district/WordnetLAT\": 0.4532760258517709, \"lat/country/LAT\": 1.2040399744502059, \"lat/location/QuestionWordLAT\": 1.794537431877389, \"sv=located\": -0.90594542533596756, \"sv=represent\": 1.2942837600336035, \"lat/communication/WordnetLAT\": -0.18336643222101734, \"sv=sail\": 2.7661452918493672, \"lat/nationality/LAT\": 4.5207221080629845, \"sv=go\": -0.16457142512351378, \"sv=come\": 0.56867774844672103, \"sv=rule\": 3.20356223085756, \"_\": -5.6032344460403065},\n",
        "  \"/people/person/parents\": {\"lat/parents/LAT\": 2.1038160973988447, \"lat/parent/ImplicitQLAT\": 0.15122397661569198, \"lat/progenitor/WordnetLAT\": 2.5048501599270199, \"lat/adult/WordnetLAT\": 0.83627607911776847, \"lat/person/QuestionWordLAT\": 1.5023092499572916, \"lat/instrumentality/WordnetLAT\": 0.24915128480076223, \"lat/location/QuestionWordLAT\": -0.82079955195769794, \"lat/group/WordnetLAT\": -1.1018388662861824, \"lat/cognition/WordnetLAT\": -0.39617773594534533, \"sv=play\": 0.30382039584081888, \"lat/ruler/WordnetLAT\": 1.9605190361211504, \"lat/substance/WordnetLAT\": 0.16064165817075959, \"lat/parent/WordnetLAT\": 5.5747294133269811, \"lat/person/WordnetLAT\": 0.38998038939920632, \"lat/genitor/WordnetLAT\": 1.2628634061820843, \"_\": -5.4407098461153138, \"lat/woman/WordnetLAT\": 0.090187772085010415, \"lat/relative/WordnetLAT\": 0.8197349795689105},\n",
        "  \"/people/person/place_of_birth\": {\"lat/urban area/WordnetLAT\": 0.93580094118754431, \"sv=born\": 3.6596575514371557, \"sv=play\": -0.48266643881438254, \"lat/countries/LAT\": -0.32019596257556532, \"sv=live\": 1.7433768759176447, \"lat/city/WordnetLAT\": -0.47024179418132961, \"sv=raised\": 2.2816270041971514, \"sv=located\": -1.3256959236308818, \"lat/country/LAT\": 0.041372108355778349, \"sv=grow\": 1.4168236241019727, \"lat/location/QuestionWordLAT\": 3.809175922229374, \"sv=grew\": 2.7108587714758978, \"sv=go\": -0.51900775559560108, \"lat/administrative district/WordnetLAT\": 0.62417079494385108, \"lat/location/WordnetLAT\": 2.0738797319222653, \"lat/country/ImplicitQLAT\": -0.00090660482633896393, \"sv=come\": 0.71367223706509408, \"sv=die\": -0.068244893572734389, \"lat/municipality/WordnetLAT\": 0.35392307584567484, \"_\": -6.5200090416056948},\n",
        "  \"/people/person/places_lived|/people/place_lived/location\": {\"lat/urban area/WordnetLAT\": 0.032746162019842998, \"sv=born\": 1.862424384911693, \"lat/state/LAT\": 1.5258573837978229, \"sv=live\": 2.6995028075089871, \"lat/region/WordnetLAT\": 1.8816198577202099, \"lat/people/WordnetLAT\": -0.075763338357597521, \"sv=located\": -1.5263589332306893, \"lat/location/QuestionWordLAT\": 3.5263118255751325, \"sv=grow\": 2.6033166856119609, \"sv=died\": 1.362448333870701, \"sv=play\": -0.56796087199545842, \"lat/person/WordnetLAT\": -0.80755436324188812, \"lat/administrative district/WordnetLAT\": 0.62766707268168631, \"lat/municipality/WordnetLAT\": 0.0150035946903046, \"sv=go\": -0.64710346841788402, \"sv=raised\": 2.1365799509703938, \"_\": -6.0909568173133843},\n",
        "  \"/people/person/profession\": {\"lat/basic cognitive process/WordnetLAT\": -0.28840060743550533, \"lat/goal/WordnetLAT\": 2.8603537951214197, \"lat/instrumentality/WordnetLAT\": -0.95403515975942954, \"sv=known\": 1.426368847776424, \"lat/painter/WordnetLAT\": 1.8278746760932263, \"lat/covering/WordnetLAT\": 1.2990424650779937, \"lat/larceny/WordnetLAT\": 0.46215053071957696, \"lat/navigator/WordnetLAT\": 0.25128731506894714, \"lat/communication/WordnetLAT\": -0.080555099655295712, \"lat/unit of measurement/WordnetLAT\": 0.82967067265207395, \"lat/biologist/WordnetLAT\": 0.40595730770000638, \"lat/software/WordnetLAT\": 0.13427483517074695, \"lat/person/WordnetLAT\": 0.79697998765321043, \"sv=happened\": 0.72839941451723156, \"sv=called\": -0.1629313300596793, \"lat/book/WordnetLAT\": 0.55621880230937126, \"lat/philanthropist/WordnetLAT\": 0.71216292666853709, \"lat/relative/WordnetLAT\": -1.8262895871337113, \"lat/occupation/WordnetLAT\": -0.26667750317071048, \"lat/singer/WordnetLAT\": -0.12103810577399354, \"lat/application/WordnetLAT\": 0.0006787231560210458, \"lat/social control/WordnetLAT\": 1.6599831160607055, \"lat/crime/WordnetLAT\": 0.00010100059762242949, \"lat/artifact/WordnetLAT\": -0.027468736190557817, \"lat/attribute/WordnetLAT\": -0.24835025374882716, \"lat/head of state/WordnetLAT\": -0.55900894883112195, \"lat/commodity/WordnetLAT\": -0.48092195479629829, \"lat/worker/WordnetLAT\": -0.70826084239613518, \"lat/creator/WordnetLAT\": 0.019438936146689945, \"lat/district/WordnetLAT\": -0.32476688803141068, \"lat/social event/WordnetLAT\": -1.1423548912601851, \"lat/group/WordnetLAT\": -1.7873986800656001, \"lat/property/WordnetLAT\": -1.6521558893707193, \"lat/date/QuestionWordLAT\": -4.1289148977553128e-07, \"sv=play\": -1.1038370037364609, \"lat/lawgiver/WordnetLAT\": -0.0086995129633456805, \"lat/position/WordnetLAT\": -0.02372528282893014, \"sv=do\": 1.9621856627144307, \"lat/facility/WordnetLAT\": -0.5029616570755554, \"lat/music/WordnetLAT\": 0.16286876085230043, \"sv=die\": -0.73477275555604171, \"lat/galilei/LAT\": 2.821969474893923, \"lat/thing/WordnetLAT\": -0.87627766165060861, \"lat/time/QuestionWordLAT\": -1.9725780822200607, \"sv=married\": -0.41398729957951819, \"lat/city/WordnetLAT\": 1.0011430776910715, \"lat/musician/WordnetLAT\": 0.31275967584199277, \"lat/transgression/WordnetLAT\": 0.0011497758608508505, \"lat/location/QuestionWordLAT\": -2.7109978681571634, \"lat/timezone/LAT\": -0.06840228300223436, \"lat/person/QuestionWordLAT\": -1.3276223736794919, \"sv=made\": 0.89183061399847718, \"lat/felony/WordnetLAT\": 0.45710879111699332, \"lat/kind/LAT\": -0.048754632289918658, \"lat/benefactor/WordnetLAT\": 0.27067314827923733, \"lat/composer/WordnetLAT\": 0.12044161705935871, \"lat/explorer/WordnetLAT\": 0.31576892722191019, \"lat/leader/WordnetLAT\": -0.4450310304123053, \"lat/intellectual/WordnetLAT\": 1.1199671630978427, \"lat/section/WordnetLAT\": 0.24220157183741534, \"lat/part/WordnetLAT\": -0.67153948182933199, \"_\": -2.8219890222795585, \"lat/legislator/WordnetLAT\": -0.0061866191716308423, \"lat/donor/WordnetLAT\": 0.13131414146053622, \"lat/social group/WordnetLAT\": -0.57568194050542509, \"sv=speak\": -0.01845157553049092, \"lat/cognition/WordnetLAT\": -0.83442583097915757, \"lat/artist/WordnetLAT\": 0.51349504507892796, \"lat/region/WordnetLAT\": -0.091042783190228169, \"lat/object/WordnetLAT\": -0.74975082201221266, \"lat/ability/WordnetLAT\": -0.64680512763779718, \"lat/religious person/WordnetLAT\": 0.085777514502050844, \"lat/writer/WordnetLAT\": 0.20185141566970546, \"sv=played\": -0.39239868732223365, \"lat/possession/WordnetLAT\": -0.37997416263127187, \"lat/businessman/WordnetLAT\": 0.54633832598945076},\n",
        "  \"/people/person/religion\": {\"_\": -6.5468973260172039, \"lat/religion/LAT\": 6.8829774344509671, \"lat/artifact/WordnetLAT\": -0.10661561697732076, \"lat/person/WordnetLAT\": 0.041081919280963816, \"sv=believe\": 5.4484506532513377},\n",
        "  \"/people/person/sibling_s|/people/sibling_relationship/sibling\": {\"lat/brother/LAT\": 1.0986142339451181, \"lat/member/WordnetLAT\": 1.587061233133831, \"_\": -6.5426156418947645, \"lat/relative/WordnetLAT\": 3.8569413810413824},\n",
        "  \"/people/person/spouse_s|/people/marriage/location_of_ceremony\": {\"lat/location/QuestionWordLAT\": 1.7616784572802295, \"_\": -6.7761062831219956, \"sv=died\": 3.3337566715534672},\n",
        "  \"/people/person/spouse_s|/people/marriage/spouse\": {\"lat/location/WordnetLAT\": -0.042443001874836316, \"lat/act/WordnetLAT\": -0.72549474471115016, \"lat/mammal/WordnetLAT\": 0.41330559143977086, \"sv=marry\": 5.4999262618225542, \"lat/placental/WordnetLAT\": 0.25038984607243309, \"lat/singer/WordnetLAT\": 1.1241306549344467, \"lat/artifact/WordnetLAT\": -0.96678845978924621, \"sv=have\": 3.221504177375111, \"lat/head of state/WordnetLAT\": 0.074171683057821014, \"lat/creator/WordnetLAT\": -0.80891150201653705, \"lat/group/WordnetLAT\": -1.9705963754562836, \"lat/date/QuestionWordLAT\": -0.4643258279602695, \"sv=play\": -0.26174678255354167, \"lat/writer/WordnetLAT\": 0.25917258668366089, \"lat/President of the United States/WordnetLAT\": 0.25707482585432401, \"sv=dating\": 3.6263587029418898, \"lat/location/QuestionWordLAT\": -2.7744499968478116, \"lat/spouse/WordnetLAT\": 5.2798700390149431, \"sv=engaged\": 3.2098636197637189, \"lat/time/QuestionWordLAT\": -0.0043971262433876368, \"lat/measure/WordnetLAT\": -0.69943408502752857, \"_\": -4.3084759037117371, \"lat/adult/WordnetLAT\": 0.064578492848361299, \"lat/cognition/WordnetLAT\": -1.2206423358424259, \"sv=married\": 6.1698626538120562, \"lat/state capital/WordnetLAT\": 0.8580723599189557, \"lat/person/WordnetLAT\": 0.24216569707777993},\n",
        "  \"/periodicals/newspaper_circulation_area/newspapers\": {\"lat/social group/WordnetLAT\": 0.20651244731620166, \"lat/newspaper/LAT\": 6.1691423006221617, \"_\": -6.3756547479389614},\n",
        "  \"/religion/religion/beliefs\": {\"_\": -6.8488015766063848, \"lat/beliefs/LAT\": 1.8593867480921153, \"lat/belief/ImplicitQLAT\": 4.9894148285142688},\n",
        "  \"/religion/religion/deities\": {\"_\": -6.3544095379909704, \"lat/person/WordnetLAT\": 0.13336657729866636, \"lat/group/WordnetLAT\": -0.044605569423772702},\n",
        "  \"/religion/religion/is_part_of\": {\"lat/artifact/WordnetLAT\": 1.088130388102261, \"_\": -7.0993975605299715},\n",
        "  \"/religion/religion/texts\": {\"lat/creation/WordnetLAT\": 2.4066812988613648, \"lat/superior/WordnetLAT\": 0.050854713267981924, \"lat/group/WordnetLAT\": -0.59573784380423211, \"lat/publication/WordnetLAT\": 2.0288234918330459, \"lat/writing/WordnetLAT\": 0.36548788216610772, \"lat/written communication/WordnetLAT\": 0.24541710967580088, \"lat/effigy/WordnetLAT\": 3.9828965920639843, \"lat/book/WordnetLAT\": 0.53133765838773361, \"_\": -7.1358495081378388},\n",
        "  \"/royalty/kingdom/rulers\": {\"lat/chessman/WordnetLAT\": 1.1130728196551305, \"lat/face card/WordnetLAT\": 1.0762168076254761, \"lat/rival/WordnetLAT\": 0.73976009609850846, \"_\": -7.2530461424722148, \"lat/man/WordnetLAT\": 2.5321883598518307},\n",
        "  \"/royalty/monarch/kingdom\": {\"lat/countries/LAT\": 0.00080821506244359179, \"lat/region/WordnetLAT\": 0.23823163042187195, \"lat/organization/WordnetLAT\": 0.053104107336163137, \"lat/country/ImplicitQLAT\": 0.113398776193791, \"sv=rule\": 6.7028399496499365, \"_\": -6.5969927117755054},\n",
        "  \"/soccer/football_player/goals_scored|/soccer/football_goal/point_awarded_to\": {\"sv=played\": 2.4513344593197979, \"sv=play\": 2.2371755108708862, \"lat/building/WordnetLAT\": 2.3926324767442346, \"_\": -6.8523253861600075, \"lat/ronaldo/LAT\": 5.3082970558490681},\n",
        "  \"/soccer/football_player/matches_played|/soccer/football_player_match_participation/team\": {\"lat/ronaldo/LAT\": 4.9053460411707199, \"sv=play\": 2.6006637269277002, \"lat/person/QuestionWordLAT\": -0.83870374503778455, \"lat/animal group/WordnetLAT\": 0.15057882163397623, \"lat/building/WordnetLAT\": 1.4466284100838342, \"lat/unit/WordnetLAT\": 0.5120889082386475, \"sv=played\": 3.6732758897804625, \"_\": -6.8128626390304641},\n",
        "  \"/soccer/football_player/transfers|/soccer/football_player_transfer/purchasing_team\": {\"sv=play\": 2.1328617148470586, \"_\": -7.1961897323361308, \"lat/ronaldo/LAT\": 4.3697836942402839},\n",
        "  \"/sports/drafted_athlete/drafted|/sports/sports_league_draft_pick/school\": {\"lat/college/LAT\": 2.091360279371226, \"lat/building complex/WordnetLAT\": 1.4374376938097071, \"sv=play\": 0.85115073182173961, \"lat/person/WordnetLAT\": -0.12314094284382783, \"sv=attend\": 1.5120076718859348, \"_\": -6.2128595101389203},\n",
        "  \"/sports/drafted_athlete/drafted|/sports/sports_league_draft_pick/team\": {\"lat/artifact/WordnetLAT\": -1.0335022719287255, \"sv=play\": 2.145830342364536, \"lat/team/ImplicitQLAT\": 0.25173719478753381, \"lat/leader/WordnetLAT\": -0.088075727353474575, \"lat/cognition/WordnetLAT\": -0.2980273147157731, \"lat/animal group/WordnetLAT\": 2.8331640699275438, \"lat/person/WordnetLAT\": 1.0606107295670488, \"lat/communication/WordnetLAT\": -0.40217101906130237, \"_\": -6.0300899702686435},\n",
        "  \"/sports/pro_athlete/career_start\": {\"_\": -7.237049446180138, \"lat/year/LAT\": 4.037992312619723},\n",
        "  \"/sports/pro_athlete/sports_played_professionally|/sports/pro_sports_played/career_start\": {\"_\": -7.2372749851869527, \"lat/year/LAT\": 3.3252519797588045},\n",
        "  \"/sports/pro_athlete/sports_played_professionally|/sports/pro_sports_played/sport\": {\"sv=compete\": 3.6673295532295405, \"lat/sport/LAT\": 2.7113359816688836, \"_\": -6.584609184118106},\n",
        "  \"/sports/pro_athlete/teams|/sports/sports_team_roster/from\": {\"_\": -7.2372345004556058, \"lat/year/LAT\": 3.324836374465741},\n",
        "  \"/sports/pro_athlete/teams|/sports/sports_team_roster/position\": {\"lat/position/LAT\": 0.87338107195029735, \"lat/assumption/WordnetLAT\": 2.1527481733379616, \"lat/opinion/WordnetLAT\": 1.9083668588782512, \"_\": -6.9185561034588909, \"sv=play\": 2.1676944801956379},\n",
        "  \"/sports/pro_athlete/teams|/sports/sports_team_roster/team\": {\"lat/idea/WordnetLAT\": -1.23567890080382, \"lat/location/WordnetLAT\": -1.2752474736542081, \"lat/spot/WordnetLAT\": 1.0544626151979972, \"lat/act/WordnetLAT\": -0.36445512390034934, \"lat/message/WordnetLAT\": -0.94879465024262732, \"lat/animal group/WordnetLAT\": 2.5872207231698652, \"lat/entertainer/WordnetLAT\": -0.40729412189822889, \"lat/unit/WordnetLAT\": 1.2024388367280567, \"lat/person/WordnetLAT\": 0.9741383536270215, \"lat/activity/WordnetLAT\": -0.04699532951407593, \"lat/clergyman/WordnetLAT\": -0.35486965833139833, \"sv=drafted\": 2.6619100000285956, \"lat/artifact/WordnetLAT\": -1.6632408524633839, \"lat/attribute/WordnetLAT\": -0.26895887659639883, \"sv=play\": 3.9240732221692904, \"lat/group/WordnetLAT\": -0.35459950592869727, \"lat/scholar/WordnetLAT\": 0.051341803920586571, \"lat/leader/WordnetLAT\": -0.23211541985417486, \"lat/fundamental quantity/WordnetLAT\": -0.54132382743558549, \"lat/team/LAT\": 1.6752161935495544, \"lat/ronaldo/LAT\": 1.9224548750718413, \"lat/scientist/WordnetLAT\": -0.36566141743110903, \"lat/person/QuestionWordLAT\": -0.92207274698805308, \"lat/location/QuestionWordLAT\": -0.15184551896474954, \"sv=played\": 2.875494543530317, \"lat/time/QuestionWordLAT\": -0.13884256343272003, \"lat/event/WordnetLAT\": -0.28725348850824367, \"lat/serviceman/WordnetLAT\": -0.23140115231644556, \"_\": -5.1532472676032057, \"lat/time period/WordnetLAT\": -0.14230860247961144, \"sv=traded\": 5.1053459452022958, \"lat/baseball team/WordnetLAT\": 0.60001201916192892, \"lat/cognition/WordnetLAT\": -0.23068635383228175, \"lat/building/WordnetLAT\": 1.2185570542715805, \"lat/golf equipment/WordnetLAT\": 0.20860972390767929, \"lat/spiritual leader/WordnetLAT\": -0.029651741381927953, \"lat/radical/WordnetLAT\": 0.47727491986706438, \"lat/action/WordnetLAT\": 2.0427331020021144, \"lat/team/WordnetLAT\": 0.84749379215926557},\n",
        "  \"/sports/professional_sports_team/owner_s\": {\"sv=owns\": 5.6538670925081513, \"lat/person/QuestionWordLAT\": 0.10130247332127301, \"_\": -6.845511135638346, \"lat/businessperson/WordnetLAT\": 3.8497788636543913},\n",
        "  \"/sports/sports_award_winner/awards|/sports/sports_award/season\": {\"lat/year/ImplicitQLAT\": 0.040385227728865471, \"lat/years/LAT\": 0.014288759639699359, \"sv=won\": 0.93911069222573451, \"lat/time period/WordnetLAT\": 2.1265410618837262, \"lat/date/QuestionWordLAT\": 0.44237513532701611, \"sv=play\": 0.9284141217828209, \"lat/time/QuestionWordLAT\": 2.0476135153984152, \"lat/gathering/WordnetLAT\": 1.4563373298450066, \"sv=win\": -0.018632361748229249, \"_\": -6.6617658243858386},\n",
        "  \"/sports/sports_award_winner/awards|/sports/sports_award/team\": {\"sv=play\": 1.024785471483797, \"lat/location/WordnetLAT\": -0.22786017946733989, \"lat/team/ImplicitQLAT\": 0.0051612541098724997, \"lat/animal group/WordnetLAT\": 1.5389973515812712, \"lat/unit/WordnetLAT\": 1.5474090253643245, \"lat/teams/LAT\": 0.69236483523680781, \"sv=played\": 2.4696176684359381, \"_\": -6.5585449332710262},\n",
        "  \"/sports/sports_league/teams|/sports/sports_league_participation/team\": {\"sv=played\": 0.63705328372367409, \"lat/team/ImplicitQLAT\": 2.1782084625857978, \"lat/person/QuestionWordLAT\": 1.9393589891954994, \"_\": -6.7714974922513047, \"lat/teams/LAT\": 1.9136531134843942},\n",
        "  \"/sports/sports_team/arena_stadium\": {\"_\": -8.4304799192220194, \"sv=play\": 4.4198060050207557, \"lat/location/QuestionWordLAT\": 3.4936463077181141, \"lat/stadium/LAT\": 8.4302832687533318},\n",
        "  \"/sports/sports_team/championships\": {\"lat/year/ImplicitQLAT\": 1.9300094053644288, \"sv=won\": 3.0876979386825094, \"lat/time period/WordnetLAT\": 1.3105530404906651, \"lat/date/QuestionWordLAT\": 2.8022243492117473, \"sv=winning\": 3.383641627243303, \"lat/time/QuestionWordLAT\": 1.2096546288643146, \"lat/gathering/WordnetLAT\": 0.97886041917959266, \"lat/measure/WordnetLAT\": 1.9308012832591921, \"sv=win\": 4.2564805067174829, \"_\": -7.0104371403549912},\n",
        "  \"/sports/sports_team/coaches|/sports/sports_team_coach_tenure/coach\": {\"lat/teacher/WordnetLAT\": 1.0365973633170249, \"lat/horse-drawn vehicle/WordnetLAT\": 2.1457594635448065, \"lat/coach/LAT\": 1.1270645634984349, \"lat/carriage/WordnetLAT\": 0.064892621134742604, \"lat/public transport/WordnetLAT\": 1.4914136569864769, \"_\": -7.252021740283995},\n",
        "  \"/sports/sports_team/colors\": {\"lat/cognition/WordnetLAT\": 0.8108838667883197, \"lat/visual property/WordnetLAT\": 0.65339361189662681, \"lat/animal/WordnetLAT\": 3.4417057247685063, \"lat/timbre/WordnetLAT\": 4.4533754681231104, \"lat/power/WordnetLAT\": 0.6637086123089263, \"_\": -6.9882696011141539},\n",
        "  \"/sports/sports_team/founded\": {\"lat/date/QuestionWordLAT\": 0.87798506513157737, \"lat/time/QuestionWordLAT\": 0.95891299999371438, \"sv=founded\": 3.766961677497485, \"_\": -6.8600651236009629, \"lat/year/LAT\": 3.3407634024731783},\n",
        "  \"/sports/sports_team/league|/sports/sports_league_participation/league\": {\"lat/air unit/WordnetLAT\": 0.14294471637888789, \"lat/division/LAT\": 0.84344793805626228, \"lat/discord/WordnetLAT\": 0.54897193037252767, \"lat/separation/WordnetLAT\": 0.60385392457474873, \"lat/change of integrity/WordnetLAT\": 0.1853449852400193, \"lat/arithmetic operation/WordnetLAT\": 0.52077067862539217, \"_\": -6.8490454165894388, \"lat/mathematical process/WordnetLAT\": 0.14324423045332235, \"lat/phylum/WordnetLAT\": 0.35713472350360653, \"lat/league/WordnetLAT\": 1.589237470693152, \"lat/calculation/WordnetLAT\": 0.79512940198244408, \"lat/disagreement/WordnetLAT\": 1.0082583642288114, \"lat/naval unit/WordnetLAT\": 0.1107070524802088},\n",
        "  \"/sports/sports_team/location\": {\"lat/city/LAT\": 3.2003790261113978, \"_\": -6.6347918360827247, \"lat/location/QuestionWordLAT\": 0.39214296514355695},\n",
        "  \"/sports/sports_team/previously_known_as\": {\"_\": -6.0886832712819592, \"lat/person/WordnetLAT\": -0.092726735660046189, \"lat/group/WordnetLAT\": -0.27147004441402323},\n",
        "  \"/sports/sports_team/roster|/sports/sports_team_roster/player\": {\"_\": -6.0676204683489807, \"lat/location/QuestionWordLAT\": -0.17505491950532162, \"lat/group/WordnetLAT\": -0.30785647388363907},\n",
        "  \"/sports/sports_team/sport\": {\"lat/animal/WordnetLAT\": 3.4270629253260938, \"sv=play\": 0.92466716706766927, \"lat/sport/LAT\": 4.7976709445114691, \"_\": -6.9183292929980276},\n",
        "  \"/sports/sports_team/team_mascot\": {\"lat/mascot/LAT\": 5.6412363050514172, \"_\": -7.2510396243794446},\n",
        "  \"/sports/sports_team/venue|/sports/team_venue_relationship/venue\": {\"_\": -8.5088718145930429, \"sv=play\": 4.5124666921625884, \"lat/location/QuestionWordLAT\": 3.2507584140246335, \"lat/stadium/LAT\": 8.5088718146329718},\n",
        "  \"/sports/sports_team_coach/teams_coached|/sports/sports_team_coach_tenure/team\": {\"lat/person/WordnetLAT\": 0.42335193989665071, \"_\": -6.6519671708722337},\n",
        "  \"/sports/sports_team_location/teams\": {\"lat/vacationer/WordnetLAT\": 1.4239807402704485, \"lat/nonworker/WordnetLAT\": 3.7444729957304785, \"lat/wit/WordnetLAT\": 0.7592962160392126, \"lat/sports/LAT\": 2.5960215975006755, \"lat/sport/ImplicitQLAT\": 0.11262070839494243, \"_\": -6.8442642770017565},\n",
        "  \"/sports/sports_team_owner/teams_owned\": {\"lat/team/ImplicitQLAT\": 1.6546761501928022, \"_\": -7.334456145619269, \"sv=own\": 3.950009448586242, \"lat/teams/LAT\": 1.3989351211763321},\n",
        "  \"/symbols/flag_referent/flag|/symbols/flag_use/flag\": {\"lat/design/WordnetLAT\": 1.9279859802364874, \"lat/stone/WordnetLAT\": 0.011114153351915103, \"lat/iridaceous plant/WordnetLAT\": 0.013945294976889639, \"lat/visual signal/WordnetLAT\": 0.013893226258590116, \"lat/tail/WordnetLAT\": 0.000955439854781608, \"_\": -6.8637152188378669, \"lat/building material/WordnetLAT\": 0.74514636417663405, \"lat/flag/LAT\": 0.00045717976236994142, \"lat/emblem/WordnetLAT\": 3.8354690978153445, \"lat/decoration/WordnetLAT\": 1.0078956289358429},\n",
        "  \"/symbols/name_source/namesakes\": {\"lat/idea/WordnetLAT\": -0.353921027287807, \"sv=play\": -0.1020842826940454, \"lat/state/WordnetLAT\": 1.1655745263391859, \"lat/district/WordnetLAT\": -0.29578139514124951, \"lat/communication/WordnetLAT\": -0.57989748321436696, \"lat/leader/WordnetLAT\": -0.75149972623718531, \"lat/date/QuestionWordLAT\": 0.54106120874859864, \"sv=invent\": 3.3311428174505164, \"lat/time/QuestionWordLAT\": 0.16080737024715211, \"lat/person/WordnetLAT\": 1.1550019901360356, \"lat/scientist/WordnetLAT\": 1.04822245101669, \"lat/measure/WordnetLAT\": -0.015911779421833701, \"lat/tool/WordnetLAT\": 3.089702581128404, \"_\": -5.4801463869006515},\n",
        "  \"/symbols/namesake/named_after\": {\"lat/parents/LAT\": 1.6011809005142064, \"lat/parent/ImplicitQLAT\": 2.2859822210126564, \"lat/progenitor/WordnetLAT\": 0.67454566458075238, \"sv=invented\": 4.4078982842842169, \"lat/city/WordnetLAT\": 0.5930011192126714, \"lat/person/QuestionWordLAT\": 1.4437550012330105, \"lat/person/WordnetLAT\": -0.01045032198893949, \"lat/genitor/WordnetLAT\": 0.014232278979553991, \"lat/seat/WordnetLAT\": 0.65334148904078282, \"_\": -6.3572502123262868, \"lat/capital/WordnetLAT\": 2.3912159824708548},\n",
        "  \"/time/event/locations\": {\"sv=held\": 5.2158591954449944, \"sv=take\": 4.4927143361000299, \"sv=located\": 1.6057750873983923, \"lat/location/QuestionWordLAT\": 1.4869378783306635, \"lat/measure/WordnetLAT\": -0.32677078756545808, \"_\": -6.4026327952289845},\n",
        "  \"/time/recurring_event/current_frequency\": {\"lat/moment/WordnetLAT\": 0.24618337873313453, \"lat/time/QuestionWordLAT\": 1.4071435580486122, \"lat/dimension/WordnetLAT\": 0.83691066896133848, \"lat/rhythmicity/WordnetLAT\": 0.40262028343903272, \"lat/time/LAT\": 0.69662291595040304, \"lat/term/WordnetLAT\": 0.36937526930593562, \"lat/case/WordnetLAT\": 0.91967458144253489, \"lat/date/QuestionWordLAT\": 2.0291781575545698, \"lat/reading/WordnetLAT\": 0.58995504992496672, \"lat/experience/WordnetLAT\": 0.34491544975042904, \"lat/datum/WordnetLAT\": 0.31792162936797674, \"_\": -6.8036178808552243},\n",
        "  \"/travel/tourist_attraction/near_travel_destination\": {\"lat/location/QuestionWordLAT\": 0.81334667096618785, \"_\": -6.3604753352328967},\n",
        "  \"/travel/travel_destination/accommodation\": {\"lat/building/WordnetLAT\": 0.32550456036091518, \"sv=stay\": 6.8736493130678946, \"_\": -7.2564023960377151},\n",
        "  \"/travel/travel_destination/climate|/travel/travel_destination_monthly_climate/month\": {\"lat/date/QuestionWordLAT\": 2.0193272274361296, \"lat/time/QuestionWordLAT\": 0.41380736338924334, \"_\": -7.2122578629192287},\n",
        "  \"/travel/travel_destination/how_to_get_here|/travel/transportation/mode_of_transportation\": {\"lat/airport/LAT\": 4.202970339787468, \"_\": -7.2474887969934656},\n",
        "  \"/travel/travel_destination/how_to_get_here|/travel/transportation/transport_terminus\": {\"_\": -6.1556051697591636, \"lat/communication/WordnetLAT\": -0.16279290436319338, \"lat/group/WordnetLAT\": -0.34816276203635521, \"sv=fly\": 0.57734031505759464, \"lat/facility/WordnetLAT\": 4.3709450544630899, \"lat/airfield/WordnetLAT\": 0.79617874788065046, \"lat/person/WordnetLAT\": -0.64741045264650154},\n",
        "  \"/travel/travel_destination/local_transportation\": {\"lat/location/QuestionWordLAT\": 0.40661239902467905, \"_\": -6.6489453436615999},\n",
        "  \"/travel/travel_destination/tourist_attractions\": {\"lat/process/WordnetLAT\": -0.24881946037453351, \"lat/location/WordnetLAT\": -1.2389903679594312, \"sv=visit\": 4.0125565027495886, \"lat/modality/WordnetLAT\": 0.099047359002936805, \"lat/creation/WordnetLAT\": -0.021260671007039482, \"lat/sense/WordnetLAT\": 1.5110889973220683, \"lat/condition/WordnetLAT\": 0.36166304393339432, \"lat/do/LAT\": 5.2850746610507189, \"lat/sensitivity/WordnetLAT\": 0.0020645012923734057, \"lat/group/WordnetLAT\": -0.57805023615175177, \"lat/property/WordnetLAT\": 0.78670095204013812, \"sv=play\": -0.068947285239079309, \"sv=do\": 4.279473354243426, \"lat/thing/ImplicitQLAT\": 0.85843927223815952, \"sv=see\": 5.3725218705761657, \"lat/location/QuestionWordLAT\": 0.1099927273281712, \"lat/person/QuestionWordLAT\": -0.85809643153191095, \"lat/time/QuestionWordLAT\": -0.18837467386669651, \"lat/measure/WordnetLAT\": -0.76644684166288446, \"sv=is\": 3.3413176714127868, \"_\": -4.5901931403171092, \"lat/there/LAT\": 3.8970459597571581, \"lat/situation/WordnetLAT\": 2.1217259501876886, \"lat/organization/WordnetLAT\": -0.080304909934271002, \"lat/things/LAT\": 0.056198813809569134, \"sv=go\": 1.1296411310668146, \"lat/person/WordnetLAT\": -2.2788771277785176},\n",
        "  \"/tv/tv_actor/starring_roles|/tv/regular_tv_appearance/character\": {\"_\": -6.7646477799951832, \"lat/character/ImplicitQLAT\": 2.1364787549065194, \"lat/portrayal/WordnetLAT\": 2.4722509368023027, \"lat/state/WordnetLAT\": 0.663791570661594, \"lat/group/WordnetLAT\": -0.16416262741150375, \"lat/concept/WordnetLAT\": 0.16631193033648106, \"sv=play\": 1.6021862446593846, \"lat/person/WordnetLAT\": 0.91316376151329526, \"lat/general/WordnetLAT\": 0.32538588874985175, \"lat/general officer/WordnetLAT\": 2.341783517644767, \"lat/acting/WordnetLAT\": 1.0601408932513541, \"lat/characters/LAT\": 0.17084287505363677},\n",
        "  \"/tv/tv_actor/starring_roles|/tv/regular_tv_appearance/series\": {\"lat/show/LAT\": 2.5405958004079472, \"lat/social event/WordnetLAT\": 3.2525181678523549, \"lat/group/WordnetLAT\": -1.0871018331504143, \"lat/cognition/WordnetLAT\": -0.085846229446805131, \"sv=play\": -0.43565487604622549, \"_\": -5.7933443811753724},\n",
        "  \"/tv/tv_character/appeared_in_tv_episodes|/tv/tv_guest_role/actor\": {\"lat/expression/WordnetLAT\": 1.095654461987251, \"lat/voice/LAT\": 0.59081245445066977, \"lat/grammatical relation/WordnetLAT\": 0.71593485557041847, \"lat/linguistic relation/WordnetLAT\": 1.5809223102109524, \"lat/physical ability/WordnetLAT\": 1.1304057387447044, \"lat/person/QuestionWordLAT\": 1.8862975650701599, \"sv=played\": 1.3878618784907133, \"sv=plays\": 2.8460647047553933, \"_\": -6.5000241819325648},\n",
        "  \"/tv/tv_character/appeared_in_tv_program|/tv/regular_tv_appearance/actor\": {\"lat/expression/WordnetLAT\": 0.80252634023497726, \"lat/voice/LAT\": 0.18038759114145883, \"lat/grammatical relation/WordnetLAT\": 2.2783365436364971, \"lat/physical ability/WordnetLAT\": 0.11484451870194638, \"lat/location/QuestionWordLAT\": -0.31997455855910001, \"lat/group/WordnetLAT\": -0.47588648300519781, \"lat/person/QuestionWordLAT\": 2.9560198759314229, \"lat/entertainer/WordnetLAT\": 0.22791146453942213, \"sv=plays\": 2.9783681325928804, \"sv=played\": 1.9964086039007831, \"lat/artifact/WordnetLAT\": -0.058758256008476985, \"lat/performer/WordnetLAT\": 1.9231137080483751, \"_\": -5.9342861080650389},\n",
        "  \"/tv/tv_producer/programs_produced|/tv/tv_producer_term/program\": {\"lat/movies/LAT\": 0.70900152534243166, \"sv=direct\": 3.7046329341178938, \"lat/social event/WordnetLAT\": 2.6865038173799194, \"_\": -6.8320580081543998},\n",
        "  \"/tv/tv_program/program_creator\": {\"lat/person/QuestionWordLAT\": 1.8402204338189636, \"_\": -7.1785351605823129},\n",
        "  \"/tv/tv_program/regular_cast|/tv/regular_tv_appearance/actor\": {\"sv=played\": 1.7856096710600413, \"lat/person/QuestionWordLAT\": 2.2077984726884288, \"_\": -7.2064254462785859},\n",
        "  \"/tv/tv_program/regular_personal_appearances|/tv/tv_regular_personal_appearance/person\": {\"lat/kid/ImplicitQLAT\": 2.6615561862585131, \"lat/goat/WordnetLAT\": 1.166322775191992, \"lat/kids/LAT\": 0.75382732344682479, \"lat/person/WordnetLAT\": 0.42988114655931831, \"lat/leather/WordnetLAT\": 0.94713499817776658, \"_\": -6.6522220109380275},\n",
        "  \"/tv/tv_program/tv_producer|/tv/tv_producer_term/producer\": {\"lat/person/QuestionWordLAT\": 1.840945064290689, \"_\": -7.1787792528056764},\n",
        "  \"/tv/tv_program_creator/programs_created\": {\"lat/communication/WordnetLAT\": 1.2168835369381239, \"_\": -7.1170628625098322},\n",
        "  \"/type/object/name\": {\"sv=stand\": 3.6773020176897844, \"lat/person/QuestionWordLAT\": 1.0926835536764952, \"lat/people/WordnetLAT\": 0.014139528721529833, \"lat/district/WordnetLAT\": 0.033683250515913692, \"lat/cognition/WordnetLAT\": -0.55347290575270547, \"lat/location/QuestionWordLAT\": 1.3707522925014515, \"lat/act/WordnetLAT\": 0.60131148540740886, \"lat/auditory communication/WordnetLAT\": -0.039420545824549881, \"lat/object/WordnetLAT\": 1.2003729875478943, \"lat/businessman/WordnetLAT\": 1.3115658350015951, \"lat/administrative district/WordnetLAT\": 0.16222406727298674, \"sv=played\": 1.3272003905378158, \"lat/event/WordnetLAT\": -0.17448097950850705, \"_\": -5.2979501242145561, \"lat/text/WordnetLAT\": 0.76587807543754494},\n",
        "  \"/type/object/type\": {\"lat/part/WordnetLAT\": -0.1474465146297721, \"lat/unit of measurement/WordnetLAT\": 0.98742541240852411, \"lat/person/WordnetLAT\": 0.8182124985464847, \"lat/center/WordnetLAT\": 0.030647870724280098, \"lat/relative/WordnetLAT\": -0.55248670527589494, \"lat/social control/WordnetLAT\": 2.5637046073185017, \"lat/occupation/WordnetLAT\": -0.085403996252083378, \"lat/attribute/WordnetLAT\": -0.27337489721883523, \"lat/worker/WordnetLAT\": -0.41349738938705072, \"lat/creator/WordnetLAT\": 0.07487727668180276, \"lat/symbol/WordnetLAT\": 0.43979834220616004, \"lat/social event/WordnetLAT\": -0.056981363273965226, \"lat/group/WordnetLAT\": -0.72235614263507297, \"lat/property/WordnetLAT\": -0.5066353390010031, \"lat/date/QuestionWordLAT\": -0.67834218150534609, \"sv=play\": -0.73921677038668354, \"sv=do\": 2.0040206714914617, \"lat/musician/WordnetLAT\": 0.47890559574435093, \"lat/music/WordnetLAT\": 0.29837585256205779, \"lat/galilei/LAT\": 4.0957070678276501, \"lat/jobs/LAT\": 1.0292089195499134, \"lat/person/QuestionWordLAT\": -0.54134940802646014, \"lat/location/QuestionWordLAT\": -2.1299271220578562, \"lat/time/QuestionWordLAT\": -0.00064763113505675199, \"lat/businessman/WordnetLAT\": 0.77345312516715414, \"lat/leader/WordnetLAT\": -0.61379667880774502, \"lat/seat/WordnetLAT\": 0.60458740461175753, \"_\": -4.0957519253985772, \"lat/social group/WordnetLAT\": -1.4061561743127626, \"lat/cognition/WordnetLAT\": -1.0806834098308442, \"lat/jazz musician/WordnetLAT\": 0.90007300016064862, \"lat/communicator/WordnetLAT\": 0.17013806774395443, \"lat/capital/WordnetLAT\": 0.64285327082524679},\n",
        "  \"/visual_art/visual_artist/art_forms\": {\"lat/kind/WordnetLAT\": 0.54295604863943348, \"_\": -7.2108986143411267, \"lat/category/WordnetLAT\": 3.2022136941106694},\n",
        "  \"/visual_art/visual_artist/associated_periods_or_movements\": {\"lat/kind/WordnetLAT\": 1.5696686500541772, \"lat/process/WordnetLAT\": 1.3967184449846994, \"sv=use\": 0.50285372684367902, \"lat/instrumentality/WordnetLAT\": 1.7328013353275928, \"lat/cognition/WordnetLAT\": 2.0715856491539189, \"sv=produce\": 1.8825606585668622, \"lat/part/WordnetLAT\": -1.1495547037698759, \"sv=play\": -0.17322184284414155, \"lat/defecation/WordnetLAT\": 2.9971316379635585e-05, \"lat/elimination/WordnetLAT\": 1.1620982555637507, \"lat/optical illusion/WordnetLAT\": 0.4115819958871294, \"lat/artifact/WordnetLAT\": 0.11887348428704228, \"lat/optical phenomenon/WordnetLAT\": 1.136329796251125, \"_\": -7.3368717527357035},\n",
        "}\n"
       ]
      }
     ],
     "prompt_number": 90
    },
    {
     "cell_type": "code",
     "collapsed": false,
     "input": [],
     "language": "python",
     "metadata": {},
     "outputs": []
    }
   ],
   "metadata": {}
  }
 ]
}